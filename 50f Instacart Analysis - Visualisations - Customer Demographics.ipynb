{
 "cells": [
  {
   "cell_type": "markdown",
   "id": "137a0d58",
   "metadata": {},
   "source": [
    "## Instacart Analysis - Visualisations Part1\n",
    "1.\tImport libraries, set directory paths & import data\n",
    "2.\tCheck data frame dimensions, columns and datatypes\n",
    "3.\tReview of Customer Demographics\n",
    "    (Includes single stacked bars, bar charts, line graphs, pie charts)\n",
    "    -\tDistribution of Age / Preferred shopping times / Preferred shopping day\n",
    "    -\tDistribution of Family Category / Contribution to revenue / Preferred shopping times\n",
    "    -\tDistribution of Income Category / Contribution to revenue / Preferred shopping times / Preferred shopping days\n",
    "    -\tDistribution of Gender / Contribution to revenue / Preferred shopping times\n",
    "4.\tCustomer location by region\n",
    "    -\tDistribution of customers by Region / Regional contribution to revenue\n",
    "5.\tCustomer demographics by region\n",
    "    -\tAge distribution by region\n",
    "    -\tFamily category by region\n",
    "    -\tIncome distribution by region\n",
    "    -\tGender distribution by region"
   ]
  },
  {
   "cell_type": "markdown",
   "id": "dfb595f1",
   "metadata": {},
   "source": [
    "### import usual libraries plus visualisation tools"
   ]
  },
  {
   "cell_type": "code",
   "execution_count": 1,
   "id": "dca40f1a",
   "metadata": {},
   "outputs": [],
   "source": [
    "import pandas as pd\n",
    "import numpy as np\n",
    "import os\n",
    "import matplotlib.pyplot as plt\n",
    "import matplotlib.ticker as mtick\n",
    "import seaborn as sns\n",
    "import scipy"
   ]
  },
  {
   "cell_type": "markdown",
   "id": "3052e3e9",
   "metadata": {},
   "source": [
    "### set data set directory path"
   ]
  },
  {
   "cell_type": "code",
   "execution_count": 2,
   "id": "e6e7142f",
   "metadata": {},
   "outputs": [
    {
     "data": {
      "text/plain": [
       "'D:\\\\My Documents\\\\! Omnicompetent Ltd\\\\Courses\\\\Career Foundry - Data Analytics\\\\Data Analytics Course\\\\Instacart Basket Analysis\\\\02 Data Sets'"
      ]
     },
     "execution_count": 2,
     "metadata": {},
     "output_type": "execute_result"
    }
   ],
   "source": [
    "datasetpath = r'D:\\My Documents\\! Omnicompetent Ltd\\Courses\\Career Foundry - Data Analytics\\Data Analytics Course\\Instacart Basket Analysis\\02 Data Sets'\n",
    "datasetpath"
   ]
  },
  {
   "cell_type": "markdown",
   "id": "5dc5a059",
   "metadata": {},
   "source": [
    "### set visualisation directory path"
   ]
  },
  {
   "cell_type": "code",
   "execution_count": 3,
   "id": "8e9f0100",
   "metadata": {},
   "outputs": [
    {
     "data": {
      "text/plain": [
       "'D:\\\\My Documents\\\\! Omnicompetent Ltd\\\\Courses\\\\Career Foundry - Data Analytics\\\\Data Analytics Course\\\\Instacart Basket Analysis\\\\04 Analysis'"
      ]
     },
     "execution_count": 3,
     "metadata": {},
     "output_type": "execute_result"
    }
   ],
   "source": [
    "vizpath = r'D:\\My Documents\\! Omnicompetent Ltd\\Courses\\Career Foundry - Data Analytics\\Data Analytics Course\\Instacart Basket Analysis\\04 Analysis'\n",
    "vizpath"
   ]
  },
  {
   "cell_type": "markdown",
   "id": "74b3fa37",
   "metadata": {},
   "source": [
    "### import product and customer review dataset"
   ]
  },
  {
   "cell_type": "code",
   "execution_count": 4,
   "id": "d63bf0b0",
   "metadata": {},
   "outputs": [],
   "source": [
    "df_review = pd.read_pickle(os.path.join(datasetpath,'testing_sample_prodcustkey.pkl'))"
   ]
  },
  {
   "cell_type": "markdown",
   "id": "552ea33f",
   "metadata": {},
   "source": [
    "### review dimensions, columns & datatypes"
   ]
  },
  {
   "cell_type": "code",
   "execution_count": 6,
   "id": "4c6ac560",
   "metadata": {},
   "outputs": [
    {
     "data": {
      "text/plain": [
       "(9268148, 35)"
      ]
     },
     "execution_count": 6,
     "metadata": {},
     "output_type": "execute_result"
    }
   ],
   "source": [
    "df_review.shape"
   ]
  },
  {
   "cell_type": "code",
   "execution_count": 7,
   "id": "e4b6c84c",
   "metadata": {},
   "outputs": [
    {
     "data": {
      "text/plain": [
       "order_id                    int64\n",
       "user_id                     int64\n",
       "number_of_orders            int64\n",
       "order_day_of_week           int64\n",
       "order_hour_of_day           int64\n",
       "days_since_prior_order    float64\n",
       "product_id                  int64\n",
       "reordered                   int64\n",
       "product_name               object\n",
       "department_id               int64\n",
       "price                     float64\n",
       "gender                     object\n",
       "state                      object\n",
       "age                         int64\n",
       "n_dependants                int64\n",
       "marital_status             object\n",
       "income                      int64\n",
       "region                     object\n",
       "max_order                   int64\n",
       "prod_price_range           object\n",
       "sum_product_order           int64\n",
       "top_order                 float64\n",
       "product_revenue           float64\n",
       "big_revenue               float64\n",
       "key_dept                  float64\n",
       "avg_order_days            float64\n",
       "shop_freq                  object\n",
       "avg_spend                 float64\n",
       "spend_level                object\n",
       "loyalty_flag               object\n",
       "age_flag                   object\n",
       "family_flag                object\n",
       "income_flag                object\n",
       "dept_score                float64\n",
       "key_shopper                object\n",
       "dtype: object"
      ]
     },
     "execution_count": 7,
     "metadata": {},
     "output_type": "execute_result"
    }
   ],
   "source": [
    "df_review.dtypes"
   ]
  },
  {
   "cell_type": "markdown",
   "id": "22d79e68",
   "metadata": {},
   "source": [
    "# Review of Customer Demographics"
   ]
  },
  {
   "cell_type": "markdown",
   "id": "1f9d6e14",
   "metadata": {},
   "source": [
    "## Distribution of Age"
   ]
  },
  {
   "cell_type": "code",
   "execution_count": 48,
   "id": "63c557bc",
   "metadata": {},
   "outputs": [
    {
     "data": {
      "text/plain": [
       "Grown-up    4362199\n",
       "Chief       3164142\n",
       "Snapper     1741807\n",
       "Name: age_flag, dtype: int64"
      ]
     },
     "execution_count": 48,
     "metadata": {},
     "output_type": "execute_result"
    }
   ],
   "source": [
    "# age categories value counts\n",
    "ages = df_review['age_flag'].value_counts()\n",
    "ages"
   ]
  },
  {
   "cell_type": "code",
   "execution_count": 49,
   "id": "657ff6bd",
   "metadata": {},
   "outputs": [
    {
     "data": {
      "text/plain": [
       "Snapper     1741807\n",
       "Grown-up    4362199\n",
       "Chief       3164142\n",
       "Name: age_flag, dtype: int64"
      ]
     },
     "execution_count": 49,
     "metadata": {},
     "output_type": "execute_result"
    }
   ],
   "source": [
    "# reorder age categories\n",
    "ages = ages.reindex(index = ['Snapper','Grown-up','Chief'])\n",
    "ages"
   ]
  },
  {
   "cell_type": "code",
   "execution_count": 67,
   "id": "a53ac3ee",
   "metadata": {},
   "outputs": [
    {
     "data": {
      "text/plain": [
       "['Snapper', 'Grown-up', 'Chief']"
      ]
     },
     "execution_count": 67,
     "metadata": {},
     "output_type": "execute_result"
    }
   ],
   "source": [
    "# age category labels\n",
    "age_cate = ['Snapper','Grown-up','Chief']\n",
    "age_cate"
   ]
  },
  {
   "cell_type": "code",
   "execution_count": 51,
   "id": "81ea5734",
   "metadata": {},
   "outputs": [
    {
     "data": {
      "text/plain": [
       "array([1741807, 4362199, 3164142], dtype=int64)"
      ]
     },
     "execution_count": 51,
     "metadata": {},
     "output_type": "execute_result"
    }
   ],
   "source": [
    "# age value counts\n",
    "age_count = ages.values\n",
    "age_count"
   ]
  },
  {
   "cell_type": "code",
   "execution_count": 52,
   "id": "3e60cc19",
   "metadata": {},
   "outputs": [
    {
     "data": {
      "text/plain": [
       "array([18.79347417, 47.06656605, 34.13995978])"
      ]
     },
     "execution_count": 52,
     "metadata": {},
     "output_type": "execute_result"
    }
   ],
   "source": [
    "percent = age_count/age_count.sum()*100\n",
    "percent"
   ]
  },
  {
   "cell_type": "code",
   "execution_count": 53,
   "id": "512fbd94",
   "metadata": {},
   "outputs": [
    {
     "data": {
      "text/plain": [
       "array([ 18.79347417,  65.86004022, 100.        ])"
      ]
     },
     "execution_count": 53,
     "metadata": {},
     "output_type": "execute_result"
    }
   ],
   "source": [
    "cumulative = percent.cumsum()\n",
    "cumulative"
   ]
  },
  {
   "cell_type": "code",
   "execution_count": 136,
   "id": "f8e455d3",
   "metadata": {},
   "outputs": [
    {
     "data": {
      "image/png": "[encoded data removed]",
      "text/plain": [
       "<Figure size 432x288 with 1 Axes>"
      ]
     },
     "metadata": {
      "needs_background": "light"
     },
     "output_type": "display_data"
    }
   ],
   "source": [
    "bar_age = plt.bar(0, percent[0], edgecolor='white', width=0.2)\n",
    "\n",
    "# loop through each age_count value\n",
    "for i in range(1, len(age_count)):\n",
    "    plt.bar(0, percent[i], bottom=cumulative[i-1], edgecolor='white', width=0.2)\n",
    "\n",
    "# bbox_to_anchor to avoid legend overlap\n",
    "#plt.legend(age_cate, bbox_to_anchor=(1.05, 1))\n",
    "plt.legend(age_cate)\n",
    "plt.ylabel('Percent')\n",
    "\n",
    "# switch off x-axis\n",
    "frame1 = plt.gca()\n",
    "frame1.axes.get_xaxis().set_visible(False)\n",
    "\n",
    "plt.title('Stacked Bar Chart to show Distribution of Customer Ages by Category')\n",
    "\n",
    "plt.show\n",
    "plt.savefig(os.path.join(vizpath,'05 Stacked Bar Chart to show Distribution of Customer Ages by Category.png'))\n",
    "plt.tight_layout()"
   ]
  },
  {
   "cell_type": "markdown",
   "id": "350dc534",
   "metadata": {},
   "source": [
    "#### ages 30 to 60 make up the largest age group"
   ]
  },
  {
   "cell_type": "markdown",
   "id": "f918dba6",
   "metadata": {},
   "source": [
    "### contribution to revenue by age"
   ]
  },
  {
   "cell_type": "code",
   "execution_count": 7,
   "id": "046f2762",
   "metadata": {},
   "outputs": [
    {
     "data": {
      "text/plain": [
       "age_flag\n",
       "Chief       2.466815e+07\n",
       "Grown-up    3.396229e+07\n",
       "Snapper     1.355326e+07\n",
       "Name: price, dtype: float64"
      ]
     },
     "execution_count": 7,
     "metadata": {},
     "output_type": "execute_result"
    }
   ],
   "source": [
    "rev_age = df_review.groupby(['age_flag']) ['price'].sum()\n",
    "rev_age"
   ]
  },
  {
   "cell_type": "code",
   "execution_count": 10,
   "id": "aeb43d8f",
   "metadata": {},
   "outputs": [
    {
     "data": {
      "text/plain": [
       "['Chief', 'Grown-up', 'Snapper']"
      ]
     },
     "execution_count": 10,
     "metadata": {},
     "output_type": "execute_result"
    }
   ],
   "source": [
    "rev_age_labels = ['Chief','Grown-up','Snapper']\n",
    "rev_age_labels"
   ]
  },
  {
   "cell_type": "code",
   "execution_count": 8,
   "id": "a10dbbf6",
   "metadata": {},
   "outputs": [
    {
     "data": {
      "text/plain": [
       "array([24668147.40005957, 33962285.60008647, 13553256.78001262])"
      ]
     },
     "execution_count": 8,
     "metadata": {},
     "output_type": "execute_result"
    }
   ],
   "source": [
    "rev_age_values = rev_age.values\n",
    "rev_age_values"
   ]
  },
  {
   "cell_type": "code",
   "execution_count": 11,
   "id": "7c0de6d7",
   "metadata": {},
   "outputs": [
    {
     "data": {
      "image/png": "[encoded data removed]",
      "text/plain": [
       "<Figure size 432x288 with 1 Axes>"
      ]
     },
     "metadata": {},
     "output_type": "display_data"
    }
   ],
   "source": [
    "labels = rev_age_labels\n",
    "sizes = rev_age_values\n",
    "texts = plt.pie(sizes, labels=labels, autopct='%1.1f%%', startangle=90)\n",
    "plt.axis('equal')\n",
    "plt.title('Contribution to Revenue by Age Category')\n",
    "plt.savefig(os.path.join(vizpath,'06 Contribution to Revenue by Age Category.png'))"
   ]
  },
  {
   "cell_type": "markdown",
   "id": "55fa9970",
   "metadata": {},
   "source": [
    "### preferred shopping times for age categories"
   ]
  },
  {
   "cell_type": "markdown",
   "id": "c9129ac7",
   "metadata": {},
   "source": [
    "#### create sub groups for each age category"
   ]
  },
  {
   "cell_type": "code",
   "execution_count": 111,
   "id": "a487a5a1",
   "metadata": {},
   "outputs": [],
   "source": [
    "df_chief = df_review[df_review['age_flag']=='Chief']"
   ]
  },
  {
   "cell_type": "code",
   "execution_count": 115,
   "id": "c3025506",
   "metadata": {},
   "outputs": [],
   "source": [
    "df_grown = df_review[df_review['age_flag']=='Grown-up']"
   ]
  },
  {
   "cell_type": "code",
   "execution_count": 116,
   "id": "9c5b27e9",
   "metadata": {},
   "outputs": [],
   "source": [
    "df_snapper = df_review[df_review['age_flag']=='Snapper']"
   ]
  },
  {
   "cell_type": "code",
   "execution_count": 113,
   "id": "21cf6dbb",
   "metadata": {},
   "outputs": [
    {
     "data": {
      "text/plain": [
       "(3164142, 35)"
      ]
     },
     "execution_count": 113,
     "metadata": {},
     "output_type": "execute_result"
    }
   ],
   "source": [
    "df_chief.shape"
   ]
  },
  {
   "cell_type": "code",
   "execution_count": 117,
   "id": "0e11a9c3",
   "metadata": {},
   "outputs": [
    {
     "data": {
      "text/plain": [
       "(4362199, 35)"
      ]
     },
     "execution_count": 117,
     "metadata": {},
     "output_type": "execute_result"
    }
   ],
   "source": [
    "df_grown.shape"
   ]
  },
  {
   "cell_type": "code",
   "execution_count": 118,
   "id": "50cdc3f4",
   "metadata": {},
   "outputs": [
    {
     "data": {
      "text/plain": [
       "(1741807, 35)"
      ]
     },
     "execution_count": 118,
     "metadata": {},
     "output_type": "execute_result"
    }
   ],
   "source": [
    "df_snapper.shape"
   ]
  },
  {
   "cell_type": "markdown",
   "id": "52099c3a",
   "metadata": {},
   "source": [
    "### calculate mode ordering hours for each group"
   ]
  },
  {
   "cell_type": "code",
   "execution_count": 114,
   "id": "a1b3445d",
   "metadata": {},
   "outputs": [
    {
     "data": {
      "text/plain": [
       "0    10\n",
       "dtype: int64"
      ]
     },
     "execution_count": 114,
     "metadata": {},
     "output_type": "execute_result"
    }
   ],
   "source": [
    "df_chief['order_hour_of_day'].mode()"
   ]
  },
  {
   "cell_type": "code",
   "execution_count": 119,
   "id": "aeb1919d",
   "metadata": {},
   "outputs": [
    {
     "data": {
      "text/plain": [
       "0    10\n",
       "dtype: int64"
      ]
     },
     "execution_count": 119,
     "metadata": {},
     "output_type": "execute_result"
    }
   ],
   "source": [
    "df_grown['order_hour_of_day'].mode()"
   ]
  },
  {
   "cell_type": "code",
   "execution_count": 120,
   "id": "6d5c23cc",
   "metadata": {},
   "outputs": [
    {
     "data": {
      "text/plain": [
       "0    10\n",
       "dtype: int64"
      ]
     },
     "execution_count": 120,
     "metadata": {},
     "output_type": "execute_result"
    }
   ],
   "source": [
    "df_snapper['order_hour_of_day'].mode()"
   ]
  },
  {
   "cell_type": "markdown",
   "id": "ef40a3a5",
   "metadata": {},
   "source": [
    "### display this information as a bar chart for each age category"
   ]
  },
  {
   "cell_type": "code",
   "execution_count": 153,
   "id": "5bb08583",
   "metadata": {},
   "outputs": [
    {
     "data": {
      "image/png": "[encoded data removed]",
      "text/plain": [
       "<Figure size 432x288 with 1 Axes>"
      ]
     },
     "metadata": {
      "needs_background": "light"
     },
     "output_type": "display_data"
    }
   ],
   "source": [
    "bar_hour_chief = df_chief['order_hour_of_day'].value_counts().plot.bar(color='green')\n",
    "plt.title('Bar Chart displaying Popular Ordering Hours for Chiefs')\n",
    "plt.xlabel('Hour Order was placed (24hrs)')\n",
    "plt.ylabel('Number of Orders')\n",
    "plt.tight_layout()"
   ]
  },
  {
   "cell_type": "code",
   "execution_count": 154,
   "id": "705ce2e2",
   "metadata": {},
   "outputs": [
    {
     "data": {
      "image/png": "[encoded data removed]",
      "text/plain": [
       "<Figure size 432x288 with 1 Axes>"
      ]
     },
     "metadata": {
      "needs_background": "light"
     },
     "output_type": "display_data"
    }
   ],
   "source": [
    "bar_hour_grown = df_grown['order_hour_of_day'].value_counts().plot.bar(color='orange')\n",
    "plt.title('Bar Chart displaying Popular Ordering Hours for Grown-ups')\n",
    "plt.xlabel('Hour Order was placed (24hrs)')\n",
    "plt.ylabel('Number of Orders')\n",
    "plt.tight_layout()"
   ]
  },
  {
   "cell_type": "code",
   "execution_count": 155,
   "id": "0173911e",
   "metadata": {},
   "outputs": [
    {
     "data": {
      "image/png": "[encoded data removed]",
      "text/plain": [
       "<Figure size 432x288 with 1 Axes>"
      ]
     },
     "metadata": {
      "needs_background": "light"
     },
     "output_type": "display_data"
    }
   ],
   "source": [
    "bar_hour_snapper = df_snapper['order_hour_of_day'].value_counts().plot.bar(color='blue')\n",
    "plt.title('Bar Chart displaying Popular Ordering Hours for Snappers')\n",
    "plt.xlabel('Hour Order was placed (24hrs)')\n",
    "plt.ylabel('Number of Orders')\n",
    "plt.tight_layout()"
   ]
  },
  {
   "cell_type": "markdown",
   "id": "523903b6",
   "metadata": {},
   "source": [
    "#### all age categories follow the same shopping times"
   ]
  },
  {
   "cell_type": "markdown",
   "id": "7f6e2e6f",
   "metadata": {},
   "source": [
    "### export vizs"
   ]
  },
  {
   "cell_type": "code",
   "execution_count": 156,
   "id": "86b55030",
   "metadata": {
    "scrolled": true
   },
   "outputs": [],
   "source": [
    "bar_hour_chief.figure.savefig(os.path.join(vizpath,'07 Bar Chart displaying Popular Ordering Hours for Chief Age Category.png'))"
   ]
  },
  {
   "cell_type": "code",
   "execution_count": 157,
   "id": "506b5275",
   "metadata": {},
   "outputs": [],
   "source": [
    "bar_hour_grown.figure.savefig(os.path.join(vizpath,'08 Bar Chart displaying Popular Ordering Hours for Grown-up Age Category.png'))"
   ]
  },
  {
   "cell_type": "code",
   "execution_count": 158,
   "id": "8ee533a2",
   "metadata": {},
   "outputs": [],
   "source": [
    "bar_hour_snapper.figure.savefig(os.path.join(vizpath,'09 Bar Chart displaying Popular Ordering Hours for Snapper Age Category.png'))"
   ]
  },
  {
   "cell_type": "markdown",
   "id": "bf85795b",
   "metadata": {},
   "source": [
    "### repeat for preferred shopping day"
   ]
  },
  {
   "cell_type": "code",
   "execution_count": 162,
   "id": "c7d71156",
   "metadata": {},
   "outputs": [
    {
     "data": {
      "image/png": "[encoded data removed]",
      "text/plain": [
       "<Figure size 432x288 with 1 Axes>"
      ]
     },
     "metadata": {
      "needs_background": "light"
     },
     "output_type": "display_data"
    }
   ],
   "source": [
    "bar_day_chief = df_chief['order_day_of_week'].value_counts().plot.bar(color='green')\n",
    "plt.title('Bar Chart displaying Popular Ordering Day for Chiefs')\n",
    "plt.xlabel('Day Order was placed')\n",
    "plt.ylabel('Number of Orders')\n",
    "plt.tight_layout()"
   ]
  },
  {
   "cell_type": "code",
   "execution_count": 163,
   "id": "6e82c7ba",
   "metadata": {},
   "outputs": [
    {
     "data": {
      "image/png": "[encoded data removed]",
      "text/plain": [
       "<Figure size 432x288 with 1 Axes>"
      ]
     },
     "metadata": {
      "needs_background": "light"
     },
     "output_type": "display_data"
    }
   ],
   "source": [
    "bar_day_grown = df_grown['order_day_of_week'].value_counts().plot.bar(color='orange')\n",
    "plt.title('Bar Chart displaying Popular Ordering Day for Grown-ups')\n",
    "plt.xlabel('Day Order was placed')\n",
    "plt.ylabel('Number of Orders')\n",
    "plt.tight_layout()"
   ]
  },
  {
   "cell_type": "code",
   "execution_count": 164,
   "id": "f2761a2a",
   "metadata": {},
   "outputs": [
    {
     "data": {
      "image/png": "[encoded data removed]",
      "text/plain": [
       "<Figure size 432x288 with 1 Axes>"
      ]
     },
     "metadata": {
      "needs_background": "light"
     },
     "output_type": "display_data"
    }
   ],
   "source": [
    "bar_day_snapper = df_snapper['order_day_of_week'].value_counts().plot.bar(color='blue')\n",
    "plt.title('Bar Chart displaying Popular Ordering Day for Snappers')\n",
    "plt.xlabel('Day Order was placed')\n",
    "plt.ylabel('Number of Orders')\n",
    "plt.tight_layout()"
   ]
  },
  {
   "cell_type": "markdown",
   "id": "298d4741",
   "metadata": {},
   "source": [
    "#### each age category follows the same pattern with a mild variation where grown-ups favour monday over friday but the other group favour friday over monday for shopping."
   ]
  },
  {
   "cell_type": "markdown",
   "id": "c96e3e69",
   "metadata": {},
   "source": [
    "### export viz"
   ]
  },
  {
   "cell_type": "code",
   "execution_count": 165,
   "id": "09660033",
   "metadata": {},
   "outputs": [],
   "source": [
    "bar_day_chief.figure.savefig(os.path.join(vizpath,'10 Bar Chart displaying Preferred Shopping Day for Chief Age Category.png'))"
   ]
  },
  {
   "cell_type": "code",
   "execution_count": 166,
   "id": "9ce43aef",
   "metadata": {},
   "outputs": [],
   "source": [
    "bar_day_grown.figure.savefig(os.path.join(vizpath,'11 Bar Chart displaying Preferred Shopping Day for Grown-up Age Category.png'))"
   ]
  },
  {
   "cell_type": "code",
   "execution_count": 167,
   "id": "0304d29b",
   "metadata": {},
   "outputs": [],
   "source": [
    "bar_day_snapper.figure.savefig(os.path.join(vizpath,'12 Bar Chart displaying Preferred Shopping Day for Snapper Age Category.png'))"
   ]
  },
  {
   "cell_type": "markdown",
   "id": "3efc8c5e",
   "metadata": {},
   "source": [
    "## Distribution of Family Category"
   ]
  },
  {
   "cell_type": "markdown",
   "id": "fdc90485",
   "metadata": {},
   "source": [
    "### create single stacked bar chart with % on y-axis"
   ]
  },
  {
   "cell_type": "code",
   "execution_count": 7,
   "id": "3bad2624",
   "metadata": {},
   "outputs": [
    {
     "data": {
      "text/plain": [
       "busy           4496099\n",
       "responsible    2456759\n",
       "free           2315290\n",
       "Name: family_flag, dtype: int64"
      ]
     },
     "execution_count": 7,
     "metadata": {},
     "output_type": "execute_result"
    }
   ],
   "source": [
    "# review value counts\n",
    "family = df_review['family_flag'].value_counts()\n",
    "family"
   ]
  },
  {
   "cell_type": "code",
   "execution_count": 8,
   "id": "d5b19423",
   "metadata": {},
   "outputs": [
    {
     "data": {
      "text/plain": [
       "free           2315290\n",
       "responsible    2456759\n",
       "busy           4496099\n",
       "Name: family_flag, dtype: int64"
      ]
     },
     "execution_count": 8,
     "metadata": {},
     "output_type": "execute_result"
    }
   ],
   "source": [
    "# ensure outcome order\n",
    "family = family.reindex(index=['free','responsible','busy'])\n",
    "family"
   ]
  },
  {
   "cell_type": "code",
   "execution_count": 9,
   "id": "92537d44",
   "metadata": {},
   "outputs": [
    {
     "data": {
      "text/plain": [
       "['Free', 'Responsible', 'Busy']"
      ]
     },
     "execution_count": 9,
     "metadata": {},
     "output_type": "execute_result"
    }
   ],
   "source": [
    "# seperate out the labels and the counts\n",
    "fam_cate = ['Free','Responsible','Busy']\n",
    "fam_cate"
   ]
  },
  {
   "cell_type": "code",
   "execution_count": 10,
   "id": "4ca51f1d",
   "metadata": {},
   "outputs": [
    {
     "data": {
      "text/plain": [
       "array([2315290, 2456759, 4496099], dtype=int64)"
      ]
     },
     "execution_count": 10,
     "metadata": {},
     "output_type": "execute_result"
    }
   ],
   "source": [
    "fam_count = family.values\n",
    "fam_count"
   ]
  },
  {
   "cell_type": "code",
   "execution_count": 11,
   "id": "50046cd3",
   "metadata": {},
   "outputs": [
    {
     "data": {
      "text/plain": [
       "array([24.9811505 , 26.50755038, 48.51129913])"
      ]
     },
     "execution_count": 11,
     "metadata": {},
     "output_type": "execute_result"
    }
   ],
   "source": [
    "# calculate percent for each group\n",
    "fam_percent = fam_count/fam_count.sum()*100\n",
    "fam_percent"
   ]
  },
  {
   "cell_type": "code",
   "execution_count": 12,
   "id": "4c41959f",
   "metadata": {},
   "outputs": [
    {
     "data": {
      "text/plain": [
       "array([ 24.9811505 ,  51.48870087, 100.        ])"
      ]
     },
     "execution_count": 12,
     "metadata": {},
     "output_type": "execute_result"
    }
   ],
   "source": [
    "# set-up cumulative value counts\n",
    "fam_cumul = fam_percent.cumsum()\n",
    "fam_cumul"
   ]
  },
  {
   "cell_type": "code",
   "execution_count": 13,
   "id": "ec1155e1",
   "metadata": {},
   "outputs": [
    {
     "data": {
      "image/png": "[encoded data removed]",
      "text/plain": [
       "<Figure size 432x288 with 1 Axes>"
      ]
     },
     "metadata": {
      "needs_background": "light"
     },
     "output_type": "display_data"
    }
   ],
   "source": [
    "# create single stacked bar chart using the above settings\n",
    "bar_family = plt.bar(0, fam_percent[0], edgecolor='white')\n",
    "\n",
    "# loop through each age_count value\n",
    "for i in range(1, len(fam_count)):\n",
    "    plt.bar(0, fam_percent[i], bottom=fam_cumul[i-1], edgecolor='white')\n",
    "\n",
    "plt.legend(fam_cate)\n",
    "plt.ylabel('Percent')\n",
    "plt.grid(True, linestyle='--')\n",
    "\n",
    "# switch off x-axis\n",
    "frame1 = plt.gca()\n",
    "frame1.axes.get_xaxis().set_visible(False)\n",
    "\n",
    "plt.title('Stacked Bar Chart to show Distribution of Customer Family Status')\n",
    "#plt.tight_layout()\n",
    "plt.show\n",
    "\n",
    "plt.savefig(os.path.join(vizpath,'13 Stacked Bar Chart to show Distribution of Customer Family Status.png'))"
   ]
  },
  {
   "cell_type": "markdown",
   "id": "01f122a2",
   "metadata": {},
   "source": [
    "### what is the contribution to revenue for each family category"
   ]
  },
  {
   "cell_type": "code",
   "execution_count": 14,
   "id": "d0ca3920",
   "metadata": {},
   "outputs": [
    {
     "data": {
      "text/plain": [
       "72183689.77999997"
      ]
     },
     "execution_count": 14,
     "metadata": {},
     "output_type": "execute_result"
    }
   ],
   "source": [
    "total_rev = df_review['price'].sum()\n",
    "total_rev"
   ]
  },
  {
   "cell_type": "code",
   "execution_count": 15,
   "id": "c571c381",
   "metadata": {},
   "outputs": [],
   "source": [
    "df_fam_rev = df_review.groupby(['family_flag'])['price'].transform(np.sum)"
   ]
  },
  {
   "cell_type": "code",
   "execution_count": 16,
   "id": "021b3960",
   "metadata": {},
   "outputs": [
    {
     "data": {
      "text/plain": [
       "3.500831e+07    4496099\n",
       "1.914553e+07    2456759\n",
       "1.802986e+07    2315290\n",
       "Name: price, dtype: int64"
      ]
     },
     "execution_count": 16,
     "metadata": {},
     "output_type": "execute_result"
    }
   ],
   "source": [
    "df_fam_rev.value_counts(dropna=False)"
   ]
  },
  {
   "cell_type": "code",
   "execution_count": 17,
   "id": "6851042e",
   "metadata": {},
   "outputs": [
    {
     "data": {
      "text/plain": [
       "['Busy', 'Responsible', 'Free']"
      ]
     },
     "execution_count": 17,
     "metadata": {},
     "output_type": "execute_result"
    }
   ],
   "source": [
    "x = ['Busy','Responsible','Free']\n",
    "x"
   ]
  },
  {
   "cell_type": "code",
   "execution_count": 18,
   "id": "9758ef7b",
   "metadata": {},
   "outputs": [
    {
     "data": {
      "text/plain": [
       "[35008310, 19145530, 18029860]"
      ]
     },
     "execution_count": 18,
     "metadata": {},
     "output_type": "execute_result"
    }
   ],
   "source": [
    "y = [35008310,19145530,18029860]\n",
    "y"
   ]
  },
  {
   "cell_type": "code",
   "execution_count": 19,
   "id": "82c522b9",
   "metadata": {},
   "outputs": [
    {
     "data": {
      "image/png": "[encoded data removed]",
      "text/plain": [
       "<Figure size 432x288 with 1 Axes>"
      ]
     },
     "metadata": {
      "needs_background": "light"
     },
     "output_type": "display_data"
    }
   ],
   "source": [
    "bar_fam_rev = plt.bar(x,y, color=['green','orange','blue'])\n",
    "plt.title('Bar Chart to show Contribution to Revenue per Family Status')\n",
    "plt.ylabel('Total Spend in $10 million')\n",
    "plt.grid(True, linestyle='--')\n",
    "plt.savefig(os.path.join(vizpath,'14 Bar Chart to show Contribution to Revenue per Family Status.png'))"
   ]
  },
  {
   "cell_type": "code",
   "execution_count": 20,
   "id": "747824eb",
   "metadata": {},
   "outputs": [],
   "source": [
    "df_busy = df_review[df_review['family_flag']=='busy']"
   ]
  },
  {
   "cell_type": "code",
   "execution_count": 21,
   "id": "7eb0ddf5",
   "metadata": {},
   "outputs": [],
   "source": [
    "df_response = df_review[df_review['family_flag']=='responsible']"
   ]
  },
  {
   "cell_type": "code",
   "execution_count": 22,
   "id": "008e7945",
   "metadata": {},
   "outputs": [],
   "source": [
    "df_free = df_review[df_review['family_flag']=='free']"
   ]
  },
  {
   "cell_type": "code",
   "execution_count": 24,
   "id": "a8a01fc2",
   "metadata": {},
   "outputs": [
    {
     "data": {
      "text/plain": [
       "(4496099, 35)"
      ]
     },
     "execution_count": 24,
     "metadata": {},
     "output_type": "execute_result"
    }
   ],
   "source": [
    "df_busy.shape"
   ]
  },
  {
   "cell_type": "code",
   "execution_count": 25,
   "id": "69cb5ae7",
   "metadata": {},
   "outputs": [
    {
     "data": {
      "text/plain": [
       "(2456759, 35)"
      ]
     },
     "execution_count": 25,
     "metadata": {},
     "output_type": "execute_result"
    }
   ],
   "source": [
    "df_response.shape"
   ]
  },
  {
   "cell_type": "code",
   "execution_count": 26,
   "id": "0100d10c",
   "metadata": {},
   "outputs": [
    {
     "data": {
      "text/plain": [
       "(2315290, 35)"
      ]
     },
     "execution_count": 26,
     "metadata": {},
     "output_type": "execute_result"
    }
   ],
   "source": [
    "df_free.shape"
   ]
  },
  {
   "cell_type": "markdown",
   "id": "26cb1d02",
   "metadata": {},
   "source": [
    "### calculate mode for preferred ordering hour for each family catgegory"
   ]
  },
  {
   "cell_type": "code",
   "execution_count": 27,
   "id": "8db6f710",
   "metadata": {},
   "outputs": [
    {
     "data": {
      "text/plain": [
       "0    10\n",
       "dtype: int64"
      ]
     },
     "execution_count": 27,
     "metadata": {},
     "output_type": "execute_result"
    }
   ],
   "source": [
    "df_busy['order_hour_of_day'].mode()"
   ]
  },
  {
   "cell_type": "code",
   "execution_count": 28,
   "id": "b35f7490",
   "metadata": {},
   "outputs": [
    {
     "data": {
      "text/plain": [
       "0    10\n",
       "dtype: int64"
      ]
     },
     "execution_count": 28,
     "metadata": {},
     "output_type": "execute_result"
    }
   ],
   "source": [
    "df_response['order_hour_of_day'].mode()"
   ]
  },
  {
   "cell_type": "code",
   "execution_count": 29,
   "id": "9a698dbe",
   "metadata": {},
   "outputs": [
    {
     "data": {
      "text/plain": [
       "0    10\n",
       "dtype: int64"
      ]
     },
     "execution_count": 29,
     "metadata": {},
     "output_type": "execute_result"
    }
   ],
   "source": [
    "df_free['order_hour_of_day'].mode()"
   ]
  },
  {
   "cell_type": "code",
   "execution_count": 30,
   "id": "15ba1cb6",
   "metadata": {},
   "outputs": [
    {
     "data": {
      "image/png": "[encoded data removed]",
      "text/plain": [
       "<Figure size 432x288 with 1 Axes>"
      ]
     },
     "metadata": {
      "needs_background": "light"
     },
     "output_type": "display_data"
    }
   ],
   "source": [
    "bar_hour_busy = df_busy['order_hour_of_day'].value_counts().plot.bar(color='green')\n",
    "plt.title('Bar Chart displaying Popular Ordering Hours for Busy Families')\n",
    "plt.xlabel('Hour Order was placed (24hrs)')\n",
    "plt.ylabel('Number of Orders')\n",
    "plt.tight_layout()"
   ]
  },
  {
   "cell_type": "code",
   "execution_count": 37,
   "id": "6d903ba6",
   "metadata": {},
   "outputs": [
    {
     "data": {
      "image/png": "[encoded data removed]",
      "text/plain": [
       "<Figure size 432x288 with 1 Axes>"
      ]
     },
     "metadata": {
      "needs_background": "light"
     },
     "output_type": "display_data"
    }
   ],
   "source": [
    "bar_hour_response = df_response['order_hour_of_day'].value_counts().plot.bar(color='orange')\n",
    "plt.title('Bar Chart displaying Ordering Hours for Responsible Families')\n",
    "plt.xlabel('Hour Order was placed (24hrs)')\n",
    "plt.ylabel('Number of Orders')\n",
    "plt.tight_layout()"
   ]
  },
  {
   "cell_type": "code",
   "execution_count": 33,
   "id": "554772eb",
   "metadata": {},
   "outputs": [
    {
     "data": {
      "image/png": "[encoded data removed]",
      "text/plain": [
       "<Figure size 432x288 with 1 Axes>"
      ]
     },
     "metadata": {
      "needs_background": "light"
     },
     "output_type": "display_data"
    }
   ],
   "source": [
    "bar_hour_free = df_free['order_hour_of_day'].value_counts().plot.bar(color='blue')\n",
    "plt.title('Bar Chart displaying Popular Ordering Hours for Free Families')\n",
    "plt.xlabel('Hour Order was placed (24hrs)')\n",
    "plt.ylabel('Number of Orders')\n",
    "plt.tight_layout()"
   ]
  },
  {
   "cell_type": "markdown",
   "id": "feb71087",
   "metadata": {},
   "source": [
    "### export vizs"
   ]
  },
  {
   "cell_type": "code",
   "execution_count": 34,
   "id": "026a3268",
   "metadata": {},
   "outputs": [],
   "source": [
    "bar_hour_busy.figure.savefig(os.path.join(vizpath,'15 Bar Chart displaying Popular Ordering Hours for Busy Families.png'))"
   ]
  },
  {
   "cell_type": "code",
   "execution_count": 38,
   "id": "b85ac680",
   "metadata": {},
   "outputs": [],
   "source": [
    "bar_hour_response.figure.savefig(os.path.join(vizpath,'16 Bar Chart displaying Popular Ordering Hours for Responsible Families.png'))"
   ]
  },
  {
   "cell_type": "code",
   "execution_count": 36,
   "id": "5a402ad9",
   "metadata": {},
   "outputs": [],
   "source": [
    "bar_hour_free.figure.savefig(os.path.join(vizpath,'17 Bar Chart displaying Popular Ordering Hours for Free Families.png'))"
   ]
  },
  {
   "cell_type": "markdown",
   "id": "0709f6f5",
   "metadata": {},
   "source": [
    "#### Family category does not have a bearing on the preferred shopping time."
   ]
  },
  {
   "cell_type": "markdown",
   "id": "4a7a0397",
   "metadata": {},
   "source": [
    "## Distribution of Income Category"
   ]
  },
  {
   "cell_type": "markdown",
   "id": "3538fdd9",
   "metadata": {},
   "source": [
    "### create single stacked bar chart with % on y-axis"
   ]
  },
  {
   "cell_type": "code",
   "execution_count": 39,
   "id": "b0fbc892",
   "metadata": {},
   "outputs": [
    {
     "data": {
      "text/plain": [
       "Standard    4504023\n",
       "Under       2547949\n",
       "Over        2216176\n",
       "Name: income_flag, dtype: int64"
      ]
     },
     "execution_count": 39,
     "metadata": {},
     "output_type": "execute_result"
    }
   ],
   "source": [
    "# review value counts\n",
    "income = df_review['income_flag'].value_counts()\n",
    "income"
   ]
  },
  {
   "cell_type": "code",
   "execution_count": 40,
   "id": "d8518c1c",
   "metadata": {},
   "outputs": [
    {
     "data": {
      "text/plain": [
       "Over        2216176\n",
       "Standard    4504023\n",
       "Under       2547949\n",
       "Name: income_flag, dtype: int64"
      ]
     },
     "execution_count": 40,
     "metadata": {},
     "output_type": "execute_result"
    }
   ],
   "source": [
    "# determine outcome order\n",
    "income = income.reindex(index=['Over','Standard','Under'])\n",
    "income"
   ]
  },
  {
   "cell_type": "code",
   "execution_count": 41,
   "id": "72dd29b8",
   "metadata": {},
   "outputs": [
    {
     "data": {
      "text/plain": [
       "['Over', 'Standard', 'Under']"
      ]
     },
     "execution_count": 41,
     "metadata": {},
     "output_type": "execute_result"
    }
   ],
   "source": [
    "# seperate out the labels and the counts\n",
    "income_cate = ['Over','Standard','Under']\n",
    "income_cate"
   ]
  },
  {
   "cell_type": "code",
   "execution_count": 43,
   "id": "599b9135",
   "metadata": {},
   "outputs": [
    {
     "data": {
      "text/plain": [
       "array([2216176, 4504023, 2547949], dtype=int64)"
      ]
     },
     "execution_count": 43,
     "metadata": {},
     "output_type": "execute_result"
    }
   ],
   "source": [
    "income_count = income.values\n",
    "income_count"
   ]
  },
  {
   "cell_type": "code",
   "execution_count": 44,
   "id": "0ca8fc3a",
   "metadata": {},
   "outputs": [
    {
     "data": {
      "text/plain": [
       "array([23.91174591, 48.59679625, 27.49145784])"
      ]
     },
     "execution_count": 44,
     "metadata": {},
     "output_type": "execute_result"
    }
   ],
   "source": [
    "# calculate percent for each group\n",
    "income_percent = income_count/income_count.sum()*100\n",
    "income_percent"
   ]
  },
  {
   "cell_type": "code",
   "execution_count": 45,
   "id": "70be552d",
   "metadata": {},
   "outputs": [
    {
     "data": {
      "text/plain": [
       "array([ 23.91174591,  72.50854216, 100.        ])"
      ]
     },
     "execution_count": 45,
     "metadata": {},
     "output_type": "execute_result"
    }
   ],
   "source": [
    "# set-up cumulative value counts\n",
    "income_cumul = income_percent.cumsum()\n",
    "income_cumul"
   ]
  },
  {
   "cell_type": "code",
   "execution_count": 46,
   "id": "0a6c4f0e",
   "metadata": {},
   "outputs": [
    {
     "data": {
      "image/png": "[encoded data removed]",
      "text/plain": [
       "<Figure size 432x288 with 1 Axes>"
      ]
     },
     "metadata": {
      "needs_background": "light"
     },
     "output_type": "display_data"
    }
   ],
   "source": [
    "# create single stacked bar chart using the above settings\n",
    "bar_income = plt.bar(0, income_percent[0], edgecolor='white')\n",
    "\n",
    "# loop through each age_count value\n",
    "for i in range(1, len(income_count)):\n",
    "    plt.bar(0, income_percent[i], bottom=income_cumul[i-1], edgecolor='white')\n",
    "\n",
    "plt.legend(income_cate)\n",
    "plt.ylabel('Percent')\n",
    "plt.grid(True, linestyle='--')\n",
    "\n",
    "# switch off x-axis\n",
    "frame1 = plt.gca()\n",
    "frame1.axes.get_xaxis().set_visible(False)\n",
    "\n",
    "plt.title('Stacked Bar Chart to show Distribution of Income')\n",
    "#plt.tight_layout()\n",
    "plt.show\n",
    "\n",
    "plt.savefig(os.path.join(vizpath,'18 Stacked Bar Chart to show Distribution of Customer Income.png'))"
   ]
  },
  {
   "cell_type": "markdown",
   "id": "70233331",
   "metadata": {},
   "source": [
    "### contribution to revenue per income category"
   ]
  },
  {
   "cell_type": "code",
   "execution_count": 47,
   "id": "19c4e772",
   "metadata": {},
   "outputs": [],
   "source": [
    "df_income_rev = df_review.groupby(['income_flag'])['price'].transform(np.sum)"
   ]
  },
  {
   "cell_type": "code",
   "execution_count": 48,
   "id": "f16e0b27",
   "metadata": {},
   "outputs": [
    {
     "data": {
      "text/plain": [
       "3.583038e+07    4504023\n",
       "1.874259e+07    2547949\n",
       "1.761071e+07    2216176\n",
       "Name: price, dtype: int64"
      ]
     },
     "execution_count": 48,
     "metadata": {},
     "output_type": "execute_result"
    }
   ],
   "source": [
    "df_income_rev.value_counts(dropna=False)"
   ]
  },
  {
   "cell_type": "code",
   "execution_count": 49,
   "id": "6ad39c66",
   "metadata": {},
   "outputs": [
    {
     "data": {
      "text/plain": [
       "['Over', 'Standard', 'Under']"
      ]
     },
     "execution_count": 49,
     "metadata": {},
     "output_type": "execute_result"
    }
   ],
   "source": [
    "x = ['Over','Standard','Under']\n",
    "x"
   ]
  },
  {
   "cell_type": "code",
   "execution_count": 50,
   "id": "119cf41a",
   "metadata": {},
   "outputs": [
    {
     "data": {
      "text/plain": [
       "[17610710, 35830380, 18742590]"
      ]
     },
     "execution_count": 50,
     "metadata": {},
     "output_type": "execute_result"
    }
   ],
   "source": [
    "y = [17610710,35830380,18742590]\n",
    "y"
   ]
  },
  {
   "cell_type": "code",
   "execution_count": 52,
   "id": "9f88e6eb",
   "metadata": {},
   "outputs": [
    {
     "data": {
      "image/png": "[encoded data removed]",
      "text/plain": [
       "<Figure size 432x288 with 1 Axes>"
      ]
     },
     "metadata": {
      "needs_background": "light"
     },
     "output_type": "display_data"
    }
   ],
   "source": [
    "bar_income_rev = plt.bar(x,y, color=['blue','orange','green'])\n",
    "plt.title('Bar Chart to show Contribution to Revenue per Income Category')\n",
    "plt.ylabel('Total Spend in $10 million')\n",
    "plt.grid(True, linestyle='--')\n",
    "plt.savefig(os.path.join(vizpath,'19 Bar Chart to show Contribution to Revenue per Income Category.png'))"
   ]
  },
  {
   "cell_type": "markdown",
   "id": "a6e2e050",
   "metadata": {},
   "source": [
    "### create income sub sets"
   ]
  },
  {
   "cell_type": "code",
   "execution_count": 56,
   "id": "0e248991",
   "metadata": {},
   "outputs": [
    {
     "data": {
      "text/plain": [
       "(2216176, 35)"
      ]
     },
     "execution_count": 56,
     "metadata": {},
     "output_type": "execute_result"
    }
   ],
   "source": [
    "df_over = df_review[df_review['income_flag']=='Over']\n",
    "df_over.shape"
   ]
  },
  {
   "cell_type": "code",
   "execution_count": 57,
   "id": "f50c00ed",
   "metadata": {},
   "outputs": [
    {
     "data": {
      "text/plain": [
       "(4504023, 35)"
      ]
     },
     "execution_count": 57,
     "metadata": {},
     "output_type": "execute_result"
    }
   ],
   "source": [
    "df_stand = df_review[df_review['income_flag']=='Standard']\n",
    "df_stand.shape"
   ]
  },
  {
   "cell_type": "code",
   "execution_count": 58,
   "id": "8457c52b",
   "metadata": {},
   "outputs": [
    {
     "data": {
      "text/plain": [
       "(2547949, 35)"
      ]
     },
     "execution_count": 58,
     "metadata": {},
     "output_type": "execute_result"
    }
   ],
   "source": [
    "df_under = df_review[df_review['income_flag']=='Under']\n",
    "df_under.shape"
   ]
  },
  {
   "cell_type": "markdown",
   "id": "bb25538a",
   "metadata": {},
   "source": [
    "### calculate mode for preferred ordering hour & day for each income catgegory"
   ]
  },
  {
   "cell_type": "code",
   "execution_count": 59,
   "id": "8a7f80a1",
   "metadata": {},
   "outputs": [
    {
     "data": {
      "text/plain": [
       "0    10\n",
       "dtype: int64"
      ]
     },
     "execution_count": 59,
     "metadata": {},
     "output_type": "execute_result"
    }
   ],
   "source": [
    "df_over['order_hour_of_day'].mode()"
   ]
  },
  {
   "cell_type": "code",
   "execution_count": 60,
   "id": "a82e21c5",
   "metadata": {},
   "outputs": [
    {
     "data": {
      "text/plain": [
       "0    11\n",
       "dtype: int64"
      ]
     },
     "execution_count": 60,
     "metadata": {},
     "output_type": "execute_result"
    }
   ],
   "source": [
    "df_stand['order_hour_of_day'].mode()"
   ]
  },
  {
   "cell_type": "code",
   "execution_count": 61,
   "id": "07f5646d",
   "metadata": {},
   "outputs": [
    {
     "data": {
      "text/plain": [
       "0    10\n",
       "dtype: int64"
      ]
     },
     "execution_count": 61,
     "metadata": {},
     "output_type": "execute_result"
    }
   ],
   "source": [
    "df_under['order_hour_of_day'].mode()"
   ]
  },
  {
   "cell_type": "code",
   "execution_count": 62,
   "id": "d3da1989",
   "metadata": {},
   "outputs": [
    {
     "data": {
      "text/plain": [
       "0    0\n",
       "dtype: int64"
      ]
     },
     "execution_count": 62,
     "metadata": {},
     "output_type": "execute_result"
    }
   ],
   "source": [
    "df_over['order_day_of_week'].mode()"
   ]
  },
  {
   "cell_type": "code",
   "execution_count": 63,
   "id": "48de72e3",
   "metadata": {},
   "outputs": [
    {
     "data": {
      "text/plain": [
       "0    0\n",
       "dtype: int64"
      ]
     },
     "execution_count": 63,
     "metadata": {},
     "output_type": "execute_result"
    }
   ],
   "source": [
    "df_stand['order_day_of_week'].mode()"
   ]
  },
  {
   "cell_type": "code",
   "execution_count": 64,
   "id": "b0a6704f",
   "metadata": {},
   "outputs": [
    {
     "data": {
      "text/plain": [
       "0    1\n",
       "dtype: int64"
      ]
     },
     "execution_count": 64,
     "metadata": {},
     "output_type": "execute_result"
    }
   ],
   "source": [
    "df_under['order_day_of_week'].mode()"
   ]
  },
  {
   "cell_type": "markdown",
   "id": "1259bb79",
   "metadata": {},
   "source": [
    "### display above mode information as graph - order hour"
   ]
  },
  {
   "cell_type": "code",
   "execution_count": 66,
   "id": "bc9cdf75",
   "metadata": {},
   "outputs": [
    {
     "data": {
      "image/png": "[encoded data removed]",
      "text/plain": [
       "<Figure size 432x288 with 1 Axes>"
      ]
     },
     "metadata": {
      "needs_background": "light"
     },
     "output_type": "display_data"
    }
   ],
   "source": [
    "bar_hour_over = df_over['order_hour_of_day'].value_counts().plot.bar(color='blue')\n",
    "plt.title('Bar Chart displaying Popular Ordering Hours for Over Income')\n",
    "plt.xlabel('Hour Order was placed (24hrs)')\n",
    "plt.ylabel('Number of Orders')\n",
    "plt.tight_layout()"
   ]
  },
  {
   "cell_type": "code",
   "execution_count": 68,
   "id": "c8dfeb1c",
   "metadata": {},
   "outputs": [
    {
     "data": {
      "image/png": "[encoded data removed]",
      "text/plain": [
       "<Figure size 432x288 with 1 Axes>"
      ]
     },
     "metadata": {
      "needs_background": "light"
     },
     "output_type": "display_data"
    }
   ],
   "source": [
    "bar_hour_standard = df_stand['order_hour_of_day'].value_counts().plot.bar(color='orange')\n",
    "plt.title('Bar Chart displaying Popular Ordering Hours for Standard Income')\n",
    "plt.xlabel('Hour Order was placed (24hrs)')\n",
    "plt.ylabel('Number of Orders')\n",
    "plt.tight_layout()"
   ]
  },
  {
   "cell_type": "code",
   "execution_count": 69,
   "id": "865d5bf8",
   "metadata": {},
   "outputs": [
    {
     "data": {
      "image/png": "[encoded data removed]",
      "text/plain": [
       "<Figure size 432x288 with 1 Axes>"
      ]
     },
     "metadata": {
      "needs_background": "light"
     },
     "output_type": "display_data"
    }
   ],
   "source": [
    "bar_hour_under = df_under['order_hour_of_day'].value_counts().plot.bar(color='green')\n",
    "plt.title('Bar Chart displaying Popular Ordering Hours for Under Income')\n",
    "plt.xlabel('Hour Order was placed (24hrs)')\n",
    "plt.ylabel('Number of Orders')\n",
    "plt.tight_layout()"
   ]
  },
  {
   "cell_type": "markdown",
   "id": "7eb400b2",
   "metadata": {},
   "source": [
    "### export vizs"
   ]
  },
  {
   "cell_type": "code",
   "execution_count": 70,
   "id": "139755db",
   "metadata": {},
   "outputs": [],
   "source": [
    "bar_hour_over.figure.savefig(os.path.join(vizpath,'20 Bar Chart displaying Popular Ordering Hours for Over Income.png'))"
   ]
  },
  {
   "cell_type": "code",
   "execution_count": 71,
   "id": "8d94f2d2",
   "metadata": {},
   "outputs": [],
   "source": [
    "bar_hour_standard.figure.savefig(os.path.join(vizpath,'21 Bar Chart displaying Popular Ordering Hours for Standard Income.png'))"
   ]
  },
  {
   "cell_type": "code",
   "execution_count": 72,
   "id": "bbab741b",
   "metadata": {},
   "outputs": [],
   "source": [
    "bar_hour_under.figure.savefig(os.path.join(vizpath,'22 Bar Chart displaying Popular Ordering Hours for Under Income.png'))"
   ]
  },
  {
   "cell_type": "markdown",
   "id": "3794ee72",
   "metadata": {},
   "source": [
    "### display above mode information as graph - order day"
   ]
  },
  {
   "cell_type": "code",
   "execution_count": 73,
   "id": "30f930e0",
   "metadata": {},
   "outputs": [
    {
     "data": {
      "image/png": "[encoded data removed]",
      "text/plain": [
       "<Figure size 432x288 with 1 Axes>"
      ]
     },
     "metadata": {
      "needs_background": "light"
     },
     "output_type": "display_data"
    }
   ],
   "source": [
    "bar_day_over = df_over['order_day_of_week'].value_counts().plot.bar(color='blue')\n",
    "plt.title('Bar Chart displaying Popular Ordering Day for Over Income')\n",
    "plt.xlabel('Day Order was placed')\n",
    "plt.ylabel('Number of Orders')\n",
    "plt.tight_layout()"
   ]
  },
  {
   "cell_type": "code",
   "execution_count": 74,
   "id": "7ab92a20",
   "metadata": {},
   "outputs": [
    {
     "data": {
      "image/png": "[encoded data removed]",
      "text/plain": [
       "<Figure size 432x288 with 1 Axes>"
      ]
     },
     "metadata": {
      "needs_background": "light"
     },
     "output_type": "display_data"
    }
   ],
   "source": [
    "bar_day_stand = df_stand['order_day_of_week'].value_counts().plot.bar(color='orange')\n",
    "plt.title('Bar Chart displaying Popular Ordering Day for Standard Income')\n",
    "plt.xlabel('Day Order was placed')\n",
    "plt.ylabel('Number of Orders')\n",
    "plt.tight_layout()"
   ]
  },
  {
   "cell_type": "code",
   "execution_count": 75,
   "id": "d05560d9",
   "metadata": {},
   "outputs": [
    {
     "data": {
      "image/png": "[encoded data removed]",
      "text/plain": [
       "<Figure size 432x288 with 1 Axes>"
      ]
     },
     "metadata": {
      "needs_background": "light"
     },
     "output_type": "display_data"
    }
   ],
   "source": [
    "bar_day_under = df_under['order_day_of_week'].value_counts().plot.bar(color='green')\n",
    "plt.title('Bar Chart displaying Popular Ordering Day for Under Income')\n",
    "plt.xlabel('Day Order was placed')\n",
    "plt.ylabel('Number of Orders')\n",
    "plt.tight_layout()"
   ]
  },
  {
   "cell_type": "markdown",
   "id": "36299631",
   "metadata": {},
   "source": [
    "### export vizs"
   ]
  },
  {
   "cell_type": "code",
   "execution_count": 76,
   "id": "4d3e7fe5",
   "metadata": {},
   "outputs": [],
   "source": [
    "bar_day_over.figure.savefig(os.path.join(vizpath,'23 Bar Chart displaying Popular Ordering Day for Over Income.png'))"
   ]
  },
  {
   "cell_type": "code",
   "execution_count": 77,
   "id": "923a7b25",
   "metadata": {},
   "outputs": [],
   "source": [
    "bar_day_stand.figure.savefig(os.path.join(vizpath,'24 Bar Chart displaying Popular Ordering Day for Standard Income.png'))"
   ]
  },
  {
   "cell_type": "code",
   "execution_count": 78,
   "id": "de745691",
   "metadata": {},
   "outputs": [],
   "source": [
    "bar_day_under.figure.savefig(os.path.join(vizpath,'25 Bar Chart displaying Popular Ordering Day for Under Income.png'))"
   ]
  },
  {
   "cell_type": "markdown",
   "id": "4fb34ea8",
   "metadata": {},
   "source": [
    "## Distribution of Customer Gender "
   ]
  },
  {
   "cell_type": "code",
   "execution_count": 80,
   "id": "441151bd",
   "metadata": {},
   "outputs": [
    {
     "data": {
      "text/plain": [
       "Male      4666819\n",
       "Female    4601329\n",
       "Name: gender, dtype: int64"
      ]
     },
     "execution_count": 80,
     "metadata": {},
     "output_type": "execute_result"
    }
   ],
   "source": [
    "df_review['gender'].value_counts()"
   ]
  },
  {
   "cell_type": "code",
   "execution_count": 171,
   "id": "63fe55d5",
   "metadata": {},
   "outputs": [
    {
     "data": {
      "image/png": "[encoded data removed]",
      "text/plain": [
       "<Figure size 432x288 with 1 Axes>"
      ]
     },
     "metadata": {},
     "output_type": "display_data"
    }
   ],
   "source": [
    "labels = ['Male','Female']\n",
    "sizes = [4666819,4601329]\n",
    "colors = ['steelblue','darkorange']\n",
    "texts = plt.pie(sizes, colors=colors, labels=labels, autopct='%1.1f%%', startangle=90)\n",
    "plt.axis('equal')\n",
    "plt.title('A Pie Chart to Show Customer Gender Split')\n",
    "plt.savefig(os.path.join(vizpath,'26 Pie Chart to show Customer Gender Split.png'))"
   ]
  },
  {
   "cell_type": "markdown",
   "id": "e9a4fad8",
   "metadata": {},
   "source": [
    "### gender revenue generation"
   ]
  },
  {
   "cell_type": "code",
   "execution_count": 136,
   "id": "7c6026f5",
   "metadata": {},
   "outputs": [],
   "source": [
    "rev_gender = df_review.groupby(['gender'])['price'].transform(np.sum)"
   ]
  },
  {
   "cell_type": "code",
   "execution_count": 143,
   "id": "ee2d42f2",
   "metadata": {},
   "outputs": [],
   "source": [
    "gender_rev = rev_gender.value_counts(dropna=False)"
   ]
  },
  {
   "cell_type": "code",
   "execution_count": 144,
   "id": "7c783616",
   "metadata": {},
   "outputs": [
    {
     "data": {
      "text/plain": [
       "3.635527e+07    4666819\n",
       "3.582842e+07    4601329\n",
       "Name: price, dtype: int64"
      ]
     },
     "execution_count": 144,
     "metadata": {},
     "output_type": "execute_result"
    }
   ],
   "source": [
    "gender_rev"
   ]
  },
  {
   "cell_type": "markdown",
   "id": "b6502756",
   "metadata": {},
   "source": [
    "### display revenue distrbution as single stacked bar chart in %"
   ]
  },
  {
   "cell_type": "code",
   "execution_count": 138,
   "id": "7fc95061",
   "metadata": {},
   "outputs": [
    {
     "data": {
      "text/plain": [
       "['Male', 'Female']"
      ]
     },
     "execution_count": 138,
     "metadata": {},
     "output_type": "execute_result"
    }
   ],
   "source": [
    "# define labels & values\n",
    "gender_cate = ['Male','Female']\n",
    "gender_cate"
   ]
  },
  {
   "cell_type": "code",
   "execution_count": 146,
   "id": "06239eaa",
   "metadata": {},
   "outputs": [
    {
     "data": {
      "text/plain": [
       "array([4666819, 4601329], dtype=int64)"
      ]
     },
     "execution_count": 146,
     "metadata": {},
     "output_type": "execute_result"
    }
   ],
   "source": [
    "#gender_count = [36355270,35828420]\n",
    "gender_count = gender_rev.values\n",
    "gender_count"
   ]
  },
  {
   "cell_type": "code",
   "execution_count": 147,
   "id": "e1367ae9",
   "metadata": {},
   "outputs": [
    {
     "data": {
      "text/plain": [
       "array([50.35330683, 49.64669317])"
      ]
     },
     "execution_count": 147,
     "metadata": {},
     "output_type": "execute_result"
    }
   ],
   "source": [
    "# define as a %\n",
    "gender_percent = gender_count/gender_count.sum()*100\n",
    "gender_percent"
   ]
  },
  {
   "cell_type": "code",
   "execution_count": 148,
   "id": "706202c7",
   "metadata": {},
   "outputs": [
    {
     "data": {
      "text/plain": [
       "array([ 50.35330683, 100.        ])"
      ]
     },
     "execution_count": 148,
     "metadata": {},
     "output_type": "execute_result"
    }
   ],
   "source": [
    "# set-up cumulative frequency\n",
    "gender_cum = gender_percent.cumsum()\n",
    "gender_cum"
   ]
  },
  {
   "cell_type": "code",
   "execution_count": 155,
   "id": "4491a35c",
   "metadata": {},
   "outputs": [
    {
     "data": {
      "image/png": "[encoded data removed]",
      "text/plain": [
       "<Figure size 432x288 with 1 Axes>"
      ]
     },
     "metadata": {
      "needs_background": "light"
     },
     "output_type": "display_data"
    }
   ],
   "source": [
    "bar_gender = plt.bar(0, gender_percent[0], edgecolor='white', width=0.2)\n",
    "\n",
    "# loop through each age_count value\n",
    "for i in range(1, len(gender_count)):\n",
    "    plt.bar(0, gender_percent[i], bottom=gender_cum[i-1], edgecolor='white', width=0.2)\n",
    "\n",
    "# bbox_to_anchor to avoid legend overlap\n",
    "#plt.legend(age_cate, bbox_to_anchor=(1.05, 1))\n",
    "plt.legend(gender_cate)\n",
    "plt.ylabel('Percent')\n",
    "\n",
    "# switch off x-axis\n",
    "frame1 = plt.gca()\n",
    "frame1.axes.get_xaxis().set_visible(False)\n",
    "\n",
    "plt.title('Stacked Bar Chart to show Revenue Contribution by Gender')\n",
    "plt.grid(True, linestyle='--')\n",
    "\n",
    "plt.show\n",
    "plt.savefig(os.path.join(vizpath,'27 Stacked Bar Chart to show Revenue Contribution by Gender.png'))\n",
    "#plt.tight_layout()"
   ]
  },
  {
   "cell_type": "markdown",
   "id": "a8fee8e6",
   "metadata": {},
   "source": [
    "### gender preferred shopping times as stacked bar chart"
   ]
  },
  {
   "cell_type": "code",
   "execution_count": 174,
   "id": "91083f38",
   "metadata": {},
   "outputs": [
    {
     "data": {
      "image/png": "[encoded data removed]",
      "text/plain": [
       "<Figure size 432x288 with 1 Axes>"
      ]
     },
     "metadata": {
      "needs_background": "light"
     },
     "output_type": "display_data"
    }
   ],
   "source": [
    "df_hour_gender = df_review.groupby(['order_hour_of_day', 'gender'])['order_hour_of_day'].count().unstack('gender').fillna(0)\n",
    "df_hour_gender.plot.bar(stacked=True, color=['darkorange','steelblue'])\n",
    "\n",
    "plt.title('A Graph to show Preferred Shopping Times per Gender')\n",
    "plt.xlabel('Hour Order was Placed')\n",
    "plt.ylabel('Number of Orders')\n",
    "plt.legend(title='Gender')\n",
    "plt.tight_layout()\n",
    "\n",
    "plt.savefig(os.path.join(vizpath,'28 Stacked Bar Chart to Preferred Shopping Times by Gender.png'))"
   ]
  },
  {
   "cell_type": "markdown",
   "id": "70105d1b",
   "metadata": {},
   "source": [
    "## Customer Location by Region"
   ]
  },
  {
   "cell_type": "markdown",
   "id": "33c2ad4d",
   "metadata": {},
   "source": [
    "### distribution of customers"
   ]
  },
  {
   "cell_type": "code",
   "execution_count": 89,
   "id": "fc6ea160",
   "metadata": {},
   "outputs": [
    {
     "data": {
      "text/plain": [
       "region\n",
       "Midwest      2172517\n",
       "Northeast    1634057\n",
       "South        3087497\n",
       "West         2374077\n",
       "Name: user_id, dtype: int64"
      ]
     },
     "execution_count": 89,
     "metadata": {},
     "output_type": "execute_result"
    }
   ],
   "source": [
    "cust_region = df_review.groupby(['region']) ['user_id'].count()\n",
    "cust_region"
   ]
  },
  {
   "cell_type": "code",
   "execution_count": 9,
   "id": "3a3f1013",
   "metadata": {},
   "outputs": [
    {
     "data": {
      "text/plain": [
       "region\n",
       "South        3087497\n",
       "West         2374077\n",
       "Midwest      2172517\n",
       "Northeast    1634057\n",
       "Name: order_id, dtype: int64"
      ]
     },
     "execution_count": 9,
     "metadata": {},
     "output_type": "execute_result"
    }
   ],
   "source": [
    "# define print order\n",
    "cust_region = cust_region.reindex(index = ['South','West','Midwest','Northeast'])\n",
    "cust_region"
   ]
  },
  {
   "cell_type": "code",
   "execution_count": 12,
   "id": "23bbbdfe",
   "metadata": {},
   "outputs": [
    {
     "data": {
      "text/plain": [
       "['South', 'West', 'Midwest', 'Northeast']"
      ]
     },
     "execution_count": 12,
     "metadata": {},
     "output_type": "execute_result"
    }
   ],
   "source": [
    "cust_region_labels = ['South','West','Midwest','Northeast']\n",
    "cust_region_labels"
   ]
  },
  {
   "cell_type": "code",
   "execution_count": 13,
   "id": "cc966450",
   "metadata": {},
   "outputs": [
    {
     "data": {
      "text/plain": [
       "array([3087497, 2374077, 2172517, 1634057], dtype=int64)"
      ]
     },
     "execution_count": 13,
     "metadata": {},
     "output_type": "execute_result"
    }
   ],
   "source": [
    "cust_region_values = cust_region.values\n",
    "cust_region_values"
   ]
  },
  {
   "cell_type": "code",
   "execution_count": 14,
   "id": "25752590",
   "metadata": {},
   "outputs": [
    {
     "data": {
      "image/png": "[encoded data removed]",
      "text/plain": [
       "<Figure size 432x288 with 1 Axes>"
      ]
     },
     "metadata": {},
     "output_type": "display_data"
    }
   ],
   "source": [
    "labels = cust_region_labels\n",
    "sizes = cust_region_values\n",
    "texts = plt.pie(sizes, labels=labels, autopct='%1.1f%%', startangle=90)\n",
    "plt.axis('equal')\n",
    "plt.title('Distribution of Customers by Region')\n",
    "plt.savefig(os.path.join(vizpath,'29 Distribution of Customers by Region.png'))"
   ]
  },
  {
   "cell_type": "markdown",
   "id": "93c02a4f",
   "metadata": {},
   "source": [
    "### regional contribution to revenue"
   ]
  },
  {
   "cell_type": "code",
   "execution_count": 16,
   "id": "27a9605b",
   "metadata": {},
   "outputs": [
    {
     "data": {
      "text/plain": [
       "region\n",
       "Midwest      1.692529e+07\n",
       "Northeast    1.270868e+07\n",
       "South        2.406508e+07\n",
       "West         1.848464e+07\n",
       "Name: price, dtype: float64"
      ]
     },
     "execution_count": 16,
     "metadata": {},
     "output_type": "execute_result"
    }
   ],
   "source": [
    "region_rev = df_review.groupby(['region']) ['price'].sum()\n",
    "region_rev"
   ]
  },
  {
   "cell_type": "code",
   "execution_count": 17,
   "id": "1bcea900",
   "metadata": {},
   "outputs": [
    {
     "data": {
      "text/plain": [
       "region\n",
       "South        2.406508e+07\n",
       "West         1.848464e+07\n",
       "Midwest      1.692529e+07\n",
       "Northeast    1.270868e+07\n",
       "Name: price, dtype: float64"
      ]
     },
     "execution_count": 17,
     "metadata": {},
     "output_type": "execute_result"
    }
   ],
   "source": [
    "# define print order\n",
    "region_rev = region_rev.reindex(index = ['South','West','Midwest','Northeast'])\n",
    "region_rev"
   ]
  },
  {
   "cell_type": "code",
   "execution_count": 18,
   "id": "e84ff64e",
   "metadata": {},
   "outputs": [
    {
     "data": {
      "text/plain": [
       "['South', 'West', 'Midwest', 'Northeast']"
      ]
     },
     "execution_count": 18,
     "metadata": {},
     "output_type": "execute_result"
    }
   ],
   "source": [
    "region_rev_labels = ['South','West','Midwest','Northeast']\n",
    "region_rev_labels"
   ]
  },
  {
   "cell_type": "code",
   "execution_count": 19,
   "id": "99a71926",
   "metadata": {},
   "outputs": [
    {
     "data": {
      "text/plain": [
       "array([24065082.50005601, 18484636.40003416, 16925291.8200273 ,\n",
       "       12708679.06000943])"
      ]
     },
     "execution_count": 19,
     "metadata": {},
     "output_type": "execute_result"
    }
   ],
   "source": [
    "region_rev_values = region_rev.values\n",
    "region_rev_values"
   ]
  },
  {
   "cell_type": "code",
   "execution_count": 39,
   "id": "1a333380",
   "metadata": {},
   "outputs": [
    {
     "data": {
      "image/png": "[encoded data removed]",
      "text/plain": [
       "<Figure size 432x288 with 1 Axes>"
      ]
     },
     "metadata": {
      "needs_background": "light"
     },
     "output_type": "display_data"
    }
   ],
   "source": [
    "bar_region_rev = plt.bar(region_rev_labels,region_rev_values, color=['royalblue','darkorange','forestgreen','firebrick',])\n",
    "\n",
    "plt.title('Regional Contribution to Revenue')\n",
    "plt.ylabel('Total Spend in $10 Million')\n",
    "\n",
    "plt.savefig(os.path.join(vizpath,'30 Regional Contribution to Revenue.png'))"
   ]
  },
  {
   "cell_type": "code",
   "execution_count": 25,
   "id": "5f69f7be",
   "metadata": {},
   "outputs": [],
   "source": [
    "# confirm percentage split of revenue matched % split of customer distbution.\n",
    "cross_region_rev = pd.crosstab(df_review['price'], df_review['region'], dropna=False)\n",
    "cross_region_rev.to_clipboard()"
   ]
  },
  {
   "cell_type": "markdown",
   "id": "e779fcac",
   "metadata": {},
   "source": [
    "# Customer demographics by Region"
   ]
  },
  {
   "cell_type": "markdown",
   "id": "c3931aea",
   "metadata": {},
   "source": [
    "## Age Distribution by Regions"
   ]
  },
  {
   "cell_type": "code",
   "execution_count": 60,
   "id": "96b8eff4",
   "metadata": {},
   "outputs": [
    {
     "data": {
      "text/plain": [
       "Chief    Grown-up  Snapper\n",
       "562936   764505    306616     1\n",
       "734365   1031852   406300     1\n",
       "812504   1119708   441865     1\n",
       "1054337  1446134   587026     1\n",
       "dtype: int64"
      ]
     },
     "execution_count": 60,
     "metadata": {},
     "output_type": "execute_result"
    }
   ],
   "source": [
    "region_age = df_review.groupby(['age_flag', 'region']) ['region'].count().unstack('age_flag')\n",
    "region_age.value_counts()"
   ]
  },
  {
   "cell_type": "code",
   "execution_count": 61,
   "id": "22a06cbc",
   "metadata": {},
   "outputs": [],
   "source": [
    "region_age.to_clipboard()"
   ]
  },
  {
   "cell_type": "markdown",
   "id": "85e66b50",
   "metadata": {},
   "source": [
    "### age distribution overall"
   ]
  },
  {
   "cell_type": "code",
   "execution_count": 90,
   "id": "1c0057b5",
   "metadata": {},
   "outputs": [
    {
     "data": {
      "text/plain": [
       "age_flag\n",
       "Chief       3164142\n",
       "Grown-up    4362199\n",
       "Snapper     1741807\n",
       "Name: user_id, dtype: int64"
      ]
     },
     "execution_count": 90,
     "metadata": {},
     "output_type": "execute_result"
    }
   ],
   "source": [
    "age_cate = df_review.groupby(['age_flag']) ['user_id'].count()\n",
    "age_cate"
   ]
  },
  {
   "cell_type": "code",
   "execution_count": 67,
   "id": "dcaa4868",
   "metadata": {},
   "outputs": [
    {
     "data": {
      "text/plain": [
       "['Chief', 'Grown-up', 'Snapper']"
      ]
     },
     "execution_count": 67,
     "metadata": {},
     "output_type": "execute_result"
    }
   ],
   "source": [
    "age_labels = ['Chief','Grown-up','Snapper']\n",
    "age_labels"
   ]
  },
  {
   "cell_type": "code",
   "execution_count": 68,
   "id": "89e416b6",
   "metadata": {},
   "outputs": [
    {
     "data": {
      "text/plain": [
       "array([3164142, 4362199, 1741807], dtype=int64)"
      ]
     },
     "execution_count": 68,
     "metadata": {},
     "output_type": "execute_result"
    }
   ],
   "source": [
    "age_values = age_cate.values\n",
    "age_values"
   ]
  },
  {
   "cell_type": "code",
   "execution_count": 70,
   "id": "3ca3d805",
   "metadata": {},
   "outputs": [
    {
     "data": {
      "image/png": "[encoded data removed]",
      "text/plain": [
       "<Figure size 432x288 with 1 Axes>"
      ]
     },
     "metadata": {},
     "output_type": "display_data"
    }
   ],
   "source": [
    "labels = age_labels\n",
    "sizes = age_values\n",
    "texts = plt.pie(sizes, labels=labels, autopct='%1.1f%%', startangle=90)\n",
    "plt.axis('equal')\n",
    "plt.title('Percentage Distribution of Ages')\n",
    "plt.savefig(os.path.join(vizpath,'31 Percentage Distribution of Ages.png'))"
   ]
  },
  {
   "cell_type": "markdown",
   "id": "b05dc73c",
   "metadata": {},
   "source": [
    "### ages per region"
   ]
  },
  {
   "cell_type": "code",
   "execution_count": 83,
   "id": "1a95e689",
   "metadata": {
    "scrolled": false
   },
   "outputs": [
    {
     "data": {
      "image/png": "[encoded data removed]",
      "text/plain": [
       "<Figure size 432x288 with 1 Axes>"
      ]
     },
     "metadata": {
      "needs_background": "light"
     },
     "output_type": "display_data"
    }
   ],
   "source": [
    "region_age = df_review.groupby(['age_flag', 'region']) ['region'].count().unstack('age_flag')\n",
    "region_age = region_age.reindex(index=['South','West','Midwest','Northeast'])\n",
    "region_age.plot.bar(stacked=False)\n",
    "\n",
    "plt.title('Age Distribution per Region')\n",
    "plt.xlabel('')\n",
    "plt.ylabel('No. of Customers in Millions')\n",
    "plt.legend(title='Age Category', bbox_to_anchor=(1.05, 1))\n",
    "plt.grid(True, linestyle='--')\n",
    "plt.tight_layout()\n",
    "\n",
    "plt.savefig(os.path.join(vizpath,'32 Age Distribution per Region.png'))"
   ]
  },
  {
   "cell_type": "markdown",
   "id": "17ccf6a0",
   "metadata": {},
   "source": [
    "## Family Distribution per Region"
   ]
  },
  {
   "cell_type": "markdown",
   "id": "1bfeeb9b",
   "metadata": {},
   "source": [
    "### family distribution overall"
   ]
  },
  {
   "cell_type": "code",
   "execution_count": 72,
   "id": "dba50c77",
   "metadata": {},
   "outputs": [
    {
     "data": {
      "text/plain": [
       "family_flag\n",
       "busy           4496099\n",
       "free           2315290\n",
       "responsible    2456759\n",
       "Name: order_id, dtype: int64"
      ]
     },
     "execution_count": 72,
     "metadata": {},
     "output_type": "execute_result"
    }
   ],
   "source": [
    "family_cate = df_review.groupby(['family_flag']) ['order_id'].count()\n",
    "family_cate"
   ]
  },
  {
   "cell_type": "code",
   "execution_count": 73,
   "id": "eac161e6",
   "metadata": {},
   "outputs": [
    {
     "data": {
      "text/plain": [
       "family_flag\n",
       "busy           4496099\n",
       "responsible    2456759\n",
       "free           2315290\n",
       "Name: order_id, dtype: int64"
      ]
     },
     "execution_count": 73,
     "metadata": {},
     "output_type": "execute_result"
    }
   ],
   "source": [
    "# reorder\n",
    "family_cate = family_cate.reindex(index=['busy','responsible','free'])\n",
    "family_cate"
   ]
  },
  {
   "cell_type": "code",
   "execution_count": 74,
   "id": "f8e47204",
   "metadata": {},
   "outputs": [
    {
     "data": {
      "text/plain": [
       "['Busy', 'Responsible', 'Free']"
      ]
     },
     "execution_count": 74,
     "metadata": {},
     "output_type": "execute_result"
    }
   ],
   "source": [
    "family_labels = ['Busy','Responsible','Free']\n",
    "family_labels"
   ]
  },
  {
   "cell_type": "code",
   "execution_count": 75,
   "id": "47176b5e",
   "metadata": {},
   "outputs": [
    {
     "data": {
      "text/plain": [
       "array([4496099, 2456759, 2315290], dtype=int64)"
      ]
     },
     "execution_count": 75,
     "metadata": {},
     "output_type": "execute_result"
    }
   ],
   "source": [
    "family_values = family_cate.values\n",
    "family_values"
   ]
  },
  {
   "cell_type": "code",
   "execution_count": 76,
   "id": "a4f98b6f",
   "metadata": {},
   "outputs": [
    {
     "data": {
      "image/png": "[encoded data removed]",
      "text/plain": [
       "<Figure size 432x288 with 1 Axes>"
      ]
     },
     "metadata": {},
     "output_type": "display_data"
    }
   ],
   "source": [
    "labels = family_labels\n",
    "sizes = family_values\n",
    "texts = plt.pie(sizes, labels=labels, autopct='%1.1f%%', startangle=90)\n",
    "plt.axis('equal')\n",
    "plt.title('Percentage Distribution of Family Category')\n",
    "plt.savefig(os.path.join(vizpath,'33 Percentage Distribution of Family Category.png'))"
   ]
  },
  {
   "cell_type": "markdown",
   "id": "fa195a92",
   "metadata": {},
   "source": [
    "### family category per region"
   ]
  },
  {
   "cell_type": "code",
   "execution_count": 86,
   "id": "b541626e",
   "metadata": {},
   "outputs": [
    {
     "data": {
      "image/png": "[encoded data removed]",
      "text/plain": [
       "<Figure size 432x288 with 1 Axes>"
      ]
     },
     "metadata": {
      "needs_background": "light"
     },
     "output_type": "display_data"
    }
   ],
   "source": [
    "region_family = df_review.groupby(['family_flag', 'region']) ['region'].count().unstack('family_flag')\n",
    "region_family = region_family.reindex(index=['South','West','Midwest','Northeast'])\n",
    "region_family.plot.bar(stacked=False)\n",
    "\n",
    "plt.title('Family Category Distribution per Region')\n",
    "plt.xlabel('')\n",
    "plt.ylabel('No. of Customers in Millions')\n",
    "plt.legend(title='Family Category', bbox_to_anchor=(1.05, 1))\n",
    "plt.grid(True, linestyle='--')\n",
    "plt.tight_layout()\n",
    "\n",
    "plt.savefig(os.path.join(vizpath,'34 Family Category Distribution per Region.png'))"
   ]
  },
  {
   "cell_type": "markdown",
   "id": "472cea92",
   "metadata": {},
   "source": [
    "### send values to clipboard for % distrbution review"
   ]
  },
  {
   "cell_type": "code",
   "execution_count": 81,
   "id": "2924b94c",
   "metadata": {},
   "outputs": [
    {
     "data": {
      "text/plain": [
       "busy     free    responsible\n",
       "793430   404963  435664         1\n",
       "1042534  545297  584686         1\n",
       "1157981  592459  623637         1\n",
       "1502154  772571  812772         1\n",
       "dtype: int64"
      ]
     },
     "execution_count": 81,
     "metadata": {},
     "output_type": "execute_result"
    }
   ],
   "source": [
    "region_family = df_review.groupby(['family_flag', 'region']) ['region'].count().unstack('family_flag')\n",
    "region_family.value_counts()"
   ]
  },
  {
   "cell_type": "code",
   "execution_count": 82,
   "id": "0f9d1069",
   "metadata": {},
   "outputs": [],
   "source": [
    "region_family.to_clipboard()"
   ]
  },
  {
   "cell_type": "markdown",
   "id": "38234fc2",
   "metadata": {},
   "source": [
    "## Income Distribution per Region"
   ]
  },
  {
   "cell_type": "markdown",
   "id": "04bad5f3",
   "metadata": {},
   "source": [
    "### income distribution overall"
   ]
  },
  {
   "cell_type": "code",
   "execution_count": 92,
   "id": "6880fbef",
   "metadata": {},
   "outputs": [
    {
     "data": {
      "text/plain": [
       "income_flag\n",
       "Over        2216176\n",
       "Standard    4504023\n",
       "Under       2547949\n",
       "Name: user_id, dtype: int64"
      ]
     },
     "execution_count": 92,
     "metadata": {},
     "output_type": "execute_result"
    }
   ],
   "source": [
    "income_cate = df_review.groupby(['income_flag']) ['user_id'].count()\n",
    "income_cate"
   ]
  },
  {
   "cell_type": "code",
   "execution_count": 93,
   "id": "321ca0c6",
   "metadata": {},
   "outputs": [
    {
     "data": {
      "text/plain": [
       "['Over', 'Standard', 'Under']"
      ]
     },
     "execution_count": 93,
     "metadata": {},
     "output_type": "execute_result"
    }
   ],
   "source": [
    "income_labels = ['Over','Standard','Under']\n",
    "income_labels"
   ]
  },
  {
   "cell_type": "code",
   "execution_count": 94,
   "id": "6dc09a74",
   "metadata": {},
   "outputs": [
    {
     "data": {
      "text/plain": [
       "array([2216176, 4504023, 2547949], dtype=int64)"
      ]
     },
     "execution_count": 94,
     "metadata": {},
     "output_type": "execute_result"
    }
   ],
   "source": [
    "income_values = income_cate.values\n",
    "income_values"
   ]
  },
  {
   "cell_type": "code",
   "execution_count": 95,
   "id": "e1f18374",
   "metadata": {},
   "outputs": [
    {
     "data": {
      "image/png": "[encoded data removed]",
      "text/plain": [
       "<Figure size 432x288 with 1 Axes>"
      ]
     },
     "metadata": {},
     "output_type": "display_data"
    }
   ],
   "source": [
    "labels = income_labels\n",
    "sizes = income_values\n",
    "texts = plt.pie(sizes, labels=labels, autopct='%1.1f%%', startangle=90)\n",
    "plt.axis('equal')\n",
    "plt.title('Percentage Distribution of Income')\n",
    "plt.savefig(os.path.join(vizpath,'35 Percentage Distribution of Income.png'))"
   ]
  },
  {
   "cell_type": "markdown",
   "id": "4601ebd4",
   "metadata": {},
   "source": [
    "### income category per region"
   ]
  },
  {
   "cell_type": "code",
   "execution_count": 100,
   "id": "43584cb1",
   "metadata": {},
   "outputs": [
    {
     "data": {
      "image/png": "[encoded data removed]",
      "text/plain": [
       "<Figure size 432x288 with 1 Axes>"
      ]
     },
     "metadata": {
      "needs_background": "light"
     },
     "output_type": "display_data"
    }
   ],
   "source": [
    "income_family = df_review.groupby(['income_flag', 'region']) ['region'].count().unstack('income_flag')\n",
    "income_family = region_income.reindex(index=['South','West','Midwest','Northeast'])\n",
    "income_family.plot.bar(stacked=False)\n",
    "\n",
    "plt.title('Income Distribution per Region')\n",
    "plt.xlabel('')\n",
    "plt.ylabel('No. of Customers in Millions')\n",
    "plt.legend(title='Income', bbox_to_anchor=(1.05, 1))\n",
    "plt.grid(True, linestyle='--')\n",
    "plt.tight_layout()\n",
    "\n",
    "plt.savefig(os.path.join(vizpath,'36 Income Distribution per Region.png'))"
   ]
  },
  {
   "cell_type": "markdown",
   "id": "deeb92de",
   "metadata": {},
   "source": [
    "### send values to clipboard for % review"
   ]
  },
  {
   "cell_type": "code",
   "execution_count": 97,
   "id": "ba97a107",
   "metadata": {},
   "outputs": [
    {
     "data": {
      "text/plain": [
       "Over    Standard  Under \n",
       "390964  799136    443957    1\n",
       "527518  1054646   590353    1\n",
       "566327  1146544   661206    1\n",
       "731367  1503697   852433    1\n",
       "dtype: int64"
      ]
     },
     "execution_count": 97,
     "metadata": {},
     "output_type": "execute_result"
    }
   ],
   "source": [
    "region_income = df_review.groupby(['income_flag', 'region']) ['region'].count().unstack('income_flag')\n",
    "region_income.value_counts()"
   ]
  },
  {
   "cell_type": "code",
   "execution_count": 98,
   "id": "b1cdf1ab",
   "metadata": {},
   "outputs": [],
   "source": [
    "region_income.to_clipboard()"
   ]
  },
  {
   "cell_type": "markdown",
   "id": "9d7d3d2a",
   "metadata": {},
   "source": [
    "## Gender Distribution per Region"
   ]
  },
  {
   "cell_type": "code",
   "execution_count": 9,
   "id": "cd590dea",
   "metadata": {},
   "outputs": [
    {
     "data": {
      "image/png": "[encoded data removed]",
      "text/plain": [
       "<Figure size 432x288 with 1 Axes>"
      ]
     },
     "metadata": {
      "needs_background": "light"
     },
     "output_type": "display_data"
    }
   ],
   "source": [
    "region_gender = df_review.groupby(['gender', 'region']) ['region'].count().unstack('gender')\n",
    "region_gender = region_gender.reindex(index=['South','West','Midwest','Northeast'])\n",
    "region_gender.plot.bar(stacked=True, color=['darkorange','royalblue'])\n",
    "\n",
    "plt.title('Gender Distribution per Region')\n",
    "plt.xlabel('')\n",
    "plt.ylabel('No. of Customers in Millions')\n",
    "plt.legend(title='Gender', bbox_to_anchor=(1.05, 1))\n",
    "plt.grid(True, linestyle='--')\n",
    "plt.tight_layout()\n",
    "\n",
    "plt.savefig(os.path.join(vizpath,'37 Gender Distribution per Region.png'))"
   ]
  },
  {
   "cell_type": "code",
   "execution_count": null,
   "id": "67086273",
   "metadata": {},
   "outputs": [],
   "source": []
  }
 ],
 "metadata": {
  "kernelspec": {
   "display_name": "Python 3",
   "language": "python",
   "name": "python3"
  },
  "language_info": {
   "codemirror_mode": {
    "name": "ipython",
    "version": 3
   },
   "file_extension": ".py",
   "mimetype": "text/x-python",
   "name": "python",
   "nbconvert_exporter": "python",
   "pygments_lexer": "ipython3",
   "version": "3.8.8"
  }
 },
 "nbformat": 4,
 "nbformat_minor": 5
}
