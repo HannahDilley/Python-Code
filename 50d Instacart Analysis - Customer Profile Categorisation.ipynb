{
 "cells": [
  {
   "cell_type": "markdown",
   "id": "137a0d58",
   "metadata": {},
   "source": [
    "## Instacart Analysis – Customer Profile Categorisation\n",
    "1.\tImport libraries, set directory paths & import data\n",
    "2.\tCheck data frame dimensions, columns and datatypes\n",
    "3.\tReview customer loyalty\n",
    "    -\tHow often does each customer shops at Instacart?\n",
    "    -\tHow much does each customer spend?\n",
    "    -\tWhat is the maximum order placed per customer?\n",
    "4.\tReview age range & frequency\n",
    "    -\tCalculate mean and median ages for assigning profiling age groups\n",
    "    -\tAssign age grouping using loc[] method\n",
    "    -\tCopy value counts to clipboard for writing to the Customer Profiling spreadsheet\n",
    "5.\tReview family situation\n",
    "    -\tReview number of dependants & average no. of dependants\n",
    "    -\tReview marital status\n",
    "    -\tCopy value_counts to clipboard for grouping assessment (refer to Customer Profiling spreadsheet)\n",
    "    -\tAssign family_flag using loc[] method\n",
    "    -\tCopy result to clipboard for writing to the Customer Profiling spreadsheet\n",
    "6.\tCategorise income levels\n",
    "    -\tAssess income range and other descriptive statistics\n",
    "    -\tAssign income categories using loc[] method\n",
    "    -\tCopy value counts to clipboard for writing to Customer Profiling spreadsheet\n",
    "7.\tExport to pickle for further assessment\n"
   ]
  },
  {
   "cell_type": "markdown",
   "id": "dfb595f1",
   "metadata": {},
   "source": [
    "### import libraries"
   ]
  },
  {
   "cell_type": "code",
   "execution_count": 1,
   "id": "dca40f1a",
   "metadata": {},
   "outputs": [],
   "source": [
    "import pandas as pd\n",
    "import numpy as np\n",
    "import os"
   ]
  },
  {
   "cell_type": "markdown",
   "id": "3052e3e9",
   "metadata": {},
   "source": [
    "### set data set directory path"
   ]
  },
  {
   "cell_type": "code",
   "execution_count": 2,
   "id": "e6e7142f",
   "metadata": {},
   "outputs": [
    {
     "data": {
      "text/plain": [
       "'D:\\\\My Documents\\\\! Omnicompetent Ltd\\\\Courses\\\\Career Foundry - Data Analytics\\\\Data Analytics Course\\\\Instacart Basket Analysis\\\\02 Data Sets'"
      ]
     },
     "execution_count": 2,
     "metadata": {},
     "output_type": "execute_result"
    }
   ],
   "source": [
    "datasetpath = r'D:\\My Documents\\! Omnicompetent Ltd\\Courses\\Career Foundry - Data Analytics\\Data Analytics Course\\Instacart Basket Analysis\\02 Data Sets'\n",
    "datasetpath"
   ]
  },
  {
   "cell_type": "markdown",
   "id": "74b3fa37",
   "metadata": {},
   "source": [
    "### import revised data set, following product review"
   ]
  },
  {
   "cell_type": "code",
   "execution_count": 3,
   "id": "d63bf0b0",
   "metadata": {},
   "outputs": [
    {
     "data": {
      "text/html": [
       "<div>\n",
       "<style scoped>\n",
       "    .dataframe tbody tr th:only-of-type {\n",
       "        vertical-align: middle;\n",
       "    }\n",
       "\n",
       "    .dataframe tbody tr th {\n",
       "        vertical-align: top;\n",
       "    }\n",
       "\n",
       "    .dataframe thead th {\n",
       "        text-align: right;\n",
       "    }\n",
       "</style>\n",
       "<table border=\"1\" class=\"dataframe\">\n",
       "  <thead>\n",
       "    <tr style=\"text-align: right;\">\n",
       "      <th></th>\n",
       "      <th>order_id</th>\n",
       "      <th>user_id</th>\n",
       "      <th>number_of_orders</th>\n",
       "      <th>order_day_of_week</th>\n",
       "      <th>order_hour_of_day</th>\n",
       "      <th>days_since_prior_order</th>\n",
       "      <th>product_id</th>\n",
       "      <th>reordered</th>\n",
       "      <th>product_name</th>\n",
       "      <th>department_id</th>\n",
       "      <th>...</th>\n",
       "      <th>marital_status</th>\n",
       "      <th>income</th>\n",
       "      <th>region</th>\n",
       "      <th>max_order</th>\n",
       "      <th>prod_price_range</th>\n",
       "      <th>sum_product_order</th>\n",
       "      <th>top_order</th>\n",
       "      <th>product_revenue</th>\n",
       "      <th>big_revenue</th>\n",
       "      <th>key_dept</th>\n",
       "    </tr>\n",
       "  </thead>\n",
       "  <tbody>\n",
       "    <tr>\n",
       "      <th>0</th>\n",
       "      <td>2539329</td>\n",
       "      <td>1</td>\n",
       "      <td>1</td>\n",
       "      <td>2</td>\n",
       "      <td>8</td>\n",
       "      <td>0.0</td>\n",
       "      <td>196</td>\n",
       "      <td>0</td>\n",
       "      <td>Soda</td>\n",
       "      <td>7</td>\n",
       "      <td>...</td>\n",
       "      <td>married</td>\n",
       "      <td>40423</td>\n",
       "      <td>South</td>\n",
       "      <td>10</td>\n",
       "      <td>Medium Range Product</td>\n",
       "      <td>181305</td>\n",
       "      <td>0.0</td>\n",
       "      <td>91152.0</td>\n",
       "      <td>0.0</td>\n",
       "      <td>1.0</td>\n",
       "    </tr>\n",
       "    <tr>\n",
       "      <th>1</th>\n",
       "      <td>473747</td>\n",
       "      <td>1</td>\n",
       "      <td>3</td>\n",
       "      <td>3</td>\n",
       "      <td>12</td>\n",
       "      <td>21.0</td>\n",
       "      <td>196</td>\n",
       "      <td>1</td>\n",
       "      <td>Soda</td>\n",
       "      <td>7</td>\n",
       "      <td>...</td>\n",
       "      <td>married</td>\n",
       "      <td>40423</td>\n",
       "      <td>South</td>\n",
       "      <td>10</td>\n",
       "      <td>Medium Range Product</td>\n",
       "      <td>181305</td>\n",
       "      <td>0.0</td>\n",
       "      <td>91152.0</td>\n",
       "      <td>0.0</td>\n",
       "      <td>1.0</td>\n",
       "    </tr>\n",
       "    <tr>\n",
       "      <th>2</th>\n",
       "      <td>2254736</td>\n",
       "      <td>1</td>\n",
       "      <td>4</td>\n",
       "      <td>4</td>\n",
       "      <td>7</td>\n",
       "      <td>29.0</td>\n",
       "      <td>196</td>\n",
       "      <td>1</td>\n",
       "      <td>Soda</td>\n",
       "      <td>7</td>\n",
       "      <td>...</td>\n",
       "      <td>married</td>\n",
       "      <td>40423</td>\n",
       "      <td>South</td>\n",
       "      <td>10</td>\n",
       "      <td>Medium Range Product</td>\n",
       "      <td>181305</td>\n",
       "      <td>0.0</td>\n",
       "      <td>91152.0</td>\n",
       "      <td>0.0</td>\n",
       "      <td>1.0</td>\n",
       "    </tr>\n",
       "    <tr>\n",
       "      <th>3</th>\n",
       "      <td>550135</td>\n",
       "      <td>1</td>\n",
       "      <td>7</td>\n",
       "      <td>1</td>\n",
       "      <td>9</td>\n",
       "      <td>20.0</td>\n",
       "      <td>196</td>\n",
       "      <td>1</td>\n",
       "      <td>Soda</td>\n",
       "      <td>7</td>\n",
       "      <td>...</td>\n",
       "      <td>married</td>\n",
       "      <td>40423</td>\n",
       "      <td>South</td>\n",
       "      <td>10</td>\n",
       "      <td>Medium Range Product</td>\n",
       "      <td>181305</td>\n",
       "      <td>0.0</td>\n",
       "      <td>91152.0</td>\n",
       "      <td>0.0</td>\n",
       "      <td>1.0</td>\n",
       "    </tr>\n",
       "    <tr>\n",
       "      <th>4</th>\n",
       "      <td>2539329</td>\n",
       "      <td>1</td>\n",
       "      <td>1</td>\n",
       "      <td>2</td>\n",
       "      <td>8</td>\n",
       "      <td>0.0</td>\n",
       "      <td>14084</td>\n",
       "      <td>0</td>\n",
       "      <td>Organic Unsweetened Vanilla Almond Milk</td>\n",
       "      <td>16</td>\n",
       "      <td>...</td>\n",
       "      <td>married</td>\n",
       "      <td>40423</td>\n",
       "      <td>South</td>\n",
       "      <td>10</td>\n",
       "      <td>High Range Product</td>\n",
       "      <td>96579</td>\n",
       "      <td>0.0</td>\n",
       "      <td>58687.5</td>\n",
       "      <td>0.0</td>\n",
       "      <td>1.0</td>\n",
       "    </tr>\n",
       "  </tbody>\n",
       "</table>\n",
       "<p>5 rows × 25 columns</p>\n",
       "</div>"
      ],
      "text/plain": [
       "   order_id  user_id  number_of_orders  order_day_of_week  order_hour_of_day  \\\n",
       "0   2539329        1                 1                  2                  8   \n",
       "1    473747        1                 3                  3                 12   \n",
       "2   2254736        1                 4                  4                  7   \n",
       "3    550135        1                 7                  1                  9   \n",
       "4   2539329        1                 1                  2                  8   \n",
       "\n",
       "   days_since_prior_order  product_id  reordered  \\\n",
       "0                     0.0         196          0   \n",
       "1                    21.0         196          1   \n",
       "2                    29.0         196          1   \n",
       "3                    20.0         196          1   \n",
       "4                     0.0       14084          0   \n",
       "\n",
       "                              product_name  department_id  ...  \\\n",
       "0                                     Soda              7  ...   \n",
       "1                                     Soda              7  ...   \n",
       "2                                     Soda              7  ...   \n",
       "3                                     Soda              7  ...   \n",
       "4  Organic Unsweetened Vanilla Almond Milk             16  ...   \n",
       "\n",
       "   marital_status income region  max_order      prod_price_range  \\\n",
       "0         married  40423  South         10  Medium Range Product   \n",
       "1         married  40423  South         10  Medium Range Product   \n",
       "2         married  40423  South         10  Medium Range Product   \n",
       "3         married  40423  South         10  Medium Range Product   \n",
       "4         married  40423  South         10    High Range Product   \n",
       "\n",
       "  sum_product_order  top_order product_revenue  big_revenue key_dept  \n",
       "0            181305        0.0         91152.0          0.0      1.0  \n",
       "1            181305        0.0         91152.0          0.0      1.0  \n",
       "2            181305        0.0         91152.0          0.0      1.0  \n",
       "3            181305        0.0         91152.0          0.0      1.0  \n",
       "4             96579        0.0         58687.5          0.0      1.0  \n",
       "\n",
       "[5 rows x 25 columns]"
      ]
     },
     "execution_count": 3,
     "metadata": {},
     "output_type": "execute_result"
    }
   ],
   "source": [
    "df_testing = pd.read_pickle(os.path.join(datasetpath,'testing_sample_prod.pkl'))\n",
    "df_testing.head()"
   ]
  },
  {
   "cell_type": "markdown",
   "id": "552ea33f",
   "metadata": {},
   "source": [
    "### review dimensions, columns & datatypes"
   ]
  },
  {
   "cell_type": "code",
   "execution_count": 4,
   "id": "4c6ac560",
   "metadata": {},
   "outputs": [
    {
     "data": {
      "text/plain": [
       "(9268148, 25)"
      ]
     },
     "execution_count": 4,
     "metadata": {},
     "output_type": "execute_result"
    }
   ],
   "source": [
    "df_testing.shape"
   ]
  },
  {
   "cell_type": "code",
   "execution_count": 5,
   "id": "e4b6c84c",
   "metadata": {},
   "outputs": [
    {
     "data": {
      "text/plain": [
       "order_id                    int64\n",
       "user_id                     int64\n",
       "number_of_orders            int64\n",
       "order_day_of_week           int64\n",
       "order_hour_of_day           int64\n",
       "days_since_prior_order    float64\n",
       "product_id                  int64\n",
       "reordered                   int64\n",
       "product_name               object\n",
       "department_id               int64\n",
       "price                     float64\n",
       "gender                     object\n",
       "state                      object\n",
       "age                         int64\n",
       "n_dependants                int64\n",
       "marital_status             object\n",
       "income                      int64\n",
       "region                     object\n",
       "max_order                   int64\n",
       "prod_price_range           object\n",
       "sum_product_order           int64\n",
       "top_order                 float64\n",
       "product_revenue           float64\n",
       "big_revenue               float64\n",
       "key_dept                  float64\n",
       "dtype: object"
      ]
     },
     "execution_count": 5,
     "metadata": {},
     "output_type": "execute_result"
    }
   ],
   "source": [
    "df_testing.dtypes"
   ]
  },
  {
   "cell_type": "markdown",
   "id": "1e77de52",
   "metadata": {},
   "source": [
    "## Review Customer Loyalty\n",
    "    1. How often does each customer shops at Instacart?\n",
    "    2. How much does each customer spend?\n",
    "    3. What is the maximum order placed per customer?"
   ]
  },
  {
   "cell_type": "markdown",
   "id": "917d1835",
   "metadata": {},
   "source": [
    "### review days_since_prior_order descriptive statistics"
   ]
  },
  {
   "cell_type": "code",
   "execution_count": 6,
   "id": "9412261a",
   "metadata": {},
   "outputs": [
    {
     "data": {
      "text/plain": [
       "count    9.268148e+06\n",
       "mean     1.022572e+01\n",
       "std      8.685513e+00\n",
       "min      0.000000e+00\n",
       "25%      4.000000e+00\n",
       "50%      7.000000e+00\n",
       "75%      1.400000e+01\n",
       "max      3.000000e+01\n",
       "Name: days_since_prior_order, dtype: float64"
      ]
     },
     "execution_count": 6,
     "metadata": {},
     "output_type": "execute_result"
    }
   ],
   "source": [
    "df_testing['days_since_prior_order'].describe()"
   ]
  },
  {
   "cell_type": "markdown",
   "id": "6555f959",
   "metadata": {},
   "source": [
    "### calculate average number of days since last order per customer"
   ]
  },
  {
   "cell_type": "code",
   "execution_count": 7,
   "id": "f2c1fb99",
   "metadata": {},
   "outputs": [],
   "source": [
    "df_testing['avg_order_days'] = df_testing.groupby(['user_id']) ['days_since_prior_order'].transform(np.mean)"
   ]
  },
  {
   "cell_type": "code",
   "execution_count": 8,
   "id": "a95ff706",
   "metadata": {},
   "outputs": [
    {
     "data": {
      "text/plain": [
       "8.000000     1.169381e-03\n",
       "9.000000     1.097846e-03\n",
       "7.000000     1.093207e-03\n",
       "12.000000    1.078748e-03\n",
       "10.000000    1.073030e-03\n",
       "                 ...     \n",
       "1.714286     7.552749e-07\n",
       "0.428571     7.552749e-07\n",
       "1.571429     7.552749e-07\n",
       "29.571429    7.552749e-07\n",
       "1.200000     5.394821e-07\n",
       "Name: avg_order_days, Length: 47918, dtype: float64"
      ]
     },
     "execution_count": 8,
     "metadata": {},
     "output_type": "execute_result"
    }
   ],
   "source": [
    "df_testing['avg_order_days'].value_counts(10)"
   ]
  },
  {
   "cell_type": "markdown",
   "id": "d6ed3c86",
   "metadata": {},
   "source": [
    "### assign shopping frequency flag\n",
    "    Often:         <=7 days\n",
    "    Occasionally:   >7   <=14 days\n",
    "    Rarely:         >14 days"
   ]
  },
  {
   "cell_type": "code",
   "execution_count": 9,
   "id": "53fe9481",
   "metadata": {},
   "outputs": [],
   "source": [
    "df_testing.loc[(df_testing['avg_order_days'] <=7), 'shop_freq'] = 'Often'"
   ]
  },
  {
   "cell_type": "code",
   "execution_count": 10,
   "id": "99773565",
   "metadata": {},
   "outputs": [],
   "source": [
    "df_testing.loc[(df_testing['avg_order_days'] >7) & (df_testing['avg_order_days'] <=14), 'shop_freq'] = 'Occasionally'"
   ]
  },
  {
   "cell_type": "code",
   "execution_count": 11,
   "id": "671839fa",
   "metadata": {},
   "outputs": [],
   "source": [
    "df_testing.loc[(df_testing['avg_order_days'] >14), 'shop_freq'] = 'Rarely'"
   ]
  },
  {
   "cell_type": "code",
   "execution_count": 12,
   "id": "2052dd4f",
   "metadata": {},
   "outputs": [
    {
     "data": {
      "text/plain": [
       "Occasionally    4440870\n",
       "Often           2811485\n",
       "Rarely          2015793\n",
       "Name: shop_freq, dtype: int64"
      ]
     },
     "execution_count": 12,
     "metadata": {},
     "output_type": "execute_result"
    }
   ],
   "source": [
    "df_testing['shop_freq'].value_counts()"
   ]
  },
  {
   "cell_type": "markdown",
   "id": "b38c65ea",
   "metadata": {},
   "source": [
    "### copy value counts to clipboard"
   ]
  },
  {
   "cell_type": "code",
   "execution_count": 13,
   "id": "79dd501b",
   "metadata": {},
   "outputs": [],
   "source": [
    "shopfreq = df_testing['shop_freq'].value_counts()"
   ]
  },
  {
   "cell_type": "code",
   "execution_count": 14,
   "id": "420b67db",
   "metadata": {},
   "outputs": [],
   "source": [
    "shopfreq.to_clipboard()"
   ]
  },
  {
   "cell_type": "markdown",
   "id": "850c80ad",
   "metadata": {},
   "source": [
    "### review average spending per customer"
   ]
  },
  {
   "cell_type": "code",
   "execution_count": 15,
   "id": "0862c096",
   "metadata": {},
   "outputs": [],
   "source": [
    "df_testing['avg_spend'] = df_testing.groupby(['user_id']) ['price'].transform(np.mean)"
   ]
  },
  {
   "cell_type": "markdown",
   "id": "74bf5aa0",
   "metadata": {},
   "source": [
    "### review avg_spend descriptive statistics"
   ]
  },
  {
   "cell_type": "code",
   "execution_count": 16,
   "id": "173f4770",
   "metadata": {},
   "outputs": [
    {
     "data": {
      "text/plain": [
       "count    9.268148e+06\n",
       "mean     7.788362e+00\n",
       "std      8.529728e-01\n",
       "min      1.000000e+00\n",
       "25%      7.304580e+00\n",
       "50%      7.800493e+00\n",
       "75%      8.292105e+00\n",
       "max      2.080000e+01\n",
       "Name: avg_spend, dtype: float64"
      ]
     },
     "execution_count": 16,
     "metadata": {},
     "output_type": "execute_result"
    }
   ],
   "source": [
    "df_testing['avg_spend'].describe()"
   ]
  },
  {
   "cell_type": "markdown",
   "id": "5e237323",
   "metadata": {},
   "source": [
    "### assign spending flag\n",
    "    Average Spender:  <=8 USD\n",
    "    High Spender:     >8 USD"
   ]
  },
  {
   "cell_type": "code",
   "execution_count": 17,
   "id": "61200a25",
   "metadata": {},
   "outputs": [],
   "source": [
    "df_testing.loc[(df_testing['avg_spend'] <=8), 'spend_level'] = 'Average Spender'"
   ]
  },
  {
   "cell_type": "code",
   "execution_count": 18,
   "id": "8b4702f4",
   "metadata": {},
   "outputs": [],
   "source": [
    "df_testing.loc[(df_testing['avg_spend'] >8), 'spend_level'] = 'High Spender'"
   ]
  },
  {
   "cell_type": "markdown",
   "id": "4f0b6c07",
   "metadata": {},
   "source": [
    "### check spend_level value counts"
   ]
  },
  {
   "cell_type": "code",
   "execution_count": 19,
   "id": "384ebd1c",
   "metadata": {},
   "outputs": [
    {
     "data": {
      "text/plain": [
       "Average Spender    5670314\n",
       "High Spender       3597834\n",
       "Name: spend_level, dtype: int64"
      ]
     },
     "execution_count": 19,
     "metadata": {},
     "output_type": "execute_result"
    }
   ],
   "source": [
    "df_testing['spend_level'].value_counts(dropna=False)"
   ]
  },
  {
   "cell_type": "markdown",
   "id": "a2595e5a",
   "metadata": {},
   "source": [
    "### copy value counts to clipboard"
   ]
  },
  {
   "cell_type": "code",
   "execution_count": 20,
   "id": "66c208b9",
   "metadata": {},
   "outputs": [],
   "source": [
    "spendlevel = df_testing['spend_level'].value_counts()"
   ]
  },
  {
   "cell_type": "code",
   "execution_count": 21,
   "id": "e54ae2f5",
   "metadata": {},
   "outputs": [],
   "source": [
    "spendlevel.to_clipboard()"
   ]
  },
  {
   "cell_type": "markdown",
   "id": "f29853cb",
   "metadata": {},
   "source": [
    "### using max_order column, assign loyalty flag\n",
    "    New Customer:     <=10 orders\n",
    "    Regular Customer: >10   <=40\n",
    "    Loyal Customer:   >40 orders"
   ]
  },
  {
   "cell_type": "code",
   "execution_count": 22,
   "id": "50cd2c17",
   "metadata": {},
   "outputs": [],
   "source": [
    "df_testing.loc[df_testing['max_order'] <=10, 'loyalty_flag'] = 'New Customer'"
   ]
  },
  {
   "cell_type": "code",
   "execution_count": 23,
   "id": "fd60c121",
   "metadata": {},
   "outputs": [],
   "source": [
    "df_testing.loc[(df_testing['max_order'] >10) & (df_testing['max_order'] <=40), 'loyalty_flag'] = 'Regular Customer'"
   ]
  },
  {
   "cell_type": "code",
   "execution_count": 24,
   "id": "c812d257",
   "metadata": {},
   "outputs": [],
   "source": [
    "df_testing.loc[df_testing['max_order'] >40, 'loyalty_flag'] = 'Loyal Customer'"
   ]
  },
  {
   "cell_type": "code",
   "execution_count": 25,
   "id": "e3df09b2",
   "metadata": {},
   "outputs": [
    {
     "data": {
      "text/plain": [
       "Regular Customer    4750666\n",
       "Loyal Customer      3074298\n",
       "New Customer        1443184\n",
       "Name: loyalty_flag, dtype: int64"
      ]
     },
     "execution_count": 25,
     "metadata": {},
     "output_type": "execute_result"
    }
   ],
   "source": [
    "df_testing['loyalty_flag'].value_counts(dropna=False)"
   ]
  },
  {
   "cell_type": "markdown",
   "id": "3015be86",
   "metadata": {},
   "source": [
    "### copy value counts to clipboard"
   ]
  },
  {
   "cell_type": "code",
   "execution_count": 26,
   "id": "5efa9700",
   "metadata": {},
   "outputs": [],
   "source": [
    "loyalty = df_testing['loyalty_flag'].value_counts()"
   ]
  },
  {
   "cell_type": "code",
   "execution_count": 27,
   "id": "681e00ab",
   "metadata": {},
   "outputs": [],
   "source": [
    "loyalty.to_clipboard()"
   ]
  },
  {
   "cell_type": "markdown",
   "id": "3f635fc9",
   "metadata": {},
   "source": [
    "## Review age range & frequency"
   ]
  },
  {
   "cell_type": "code",
   "execution_count": 28,
   "id": "00378420",
   "metadata": {},
   "outputs": [
    {
     "data": {
      "text/plain": [
       "18    143305\n",
       "19    148345\n",
       "20    143985\n",
       "21    146220\n",
       "22    146593\n",
       "       ...  \n",
       "77    143398\n",
       "78    140718\n",
       "79    152140\n",
       "80    147516\n",
       "81    144857\n",
       "Name: age, Length: 64, dtype: int64"
      ]
     },
     "execution_count": 28,
     "metadata": {},
     "output_type": "execute_result"
    }
   ],
   "source": [
    "df_testing['age'].value_counts(dropna=False).sort_index()"
   ]
  },
  {
   "cell_type": "code",
   "execution_count": 29,
   "id": "41fa373a",
   "metadata": {},
   "outputs": [
    {
     "data": {
      "text/plain": [
       "79    152140\n",
       "48    152124\n",
       "49    151824\n",
       "64    151051\n",
       "31    150910\n",
       "       ...  \n",
       "60    138079\n",
       "36    138065\n",
       "66    136055\n",
       "41    134866\n",
       "25    134432\n",
       "Name: age, Length: 64, dtype: int64"
      ]
     },
     "execution_count": 29,
     "metadata": {},
     "output_type": "execute_result"
    }
   ],
   "source": [
    "df_testing['age'].value_counts(dropna=False)"
   ]
  },
  {
   "cell_type": "markdown",
   "id": "dfcfb2ee",
   "metadata": {},
   "source": [
    "### calculate mean and median age"
   ]
  },
  {
   "cell_type": "code",
   "execution_count": 30,
   "id": "2ae8e237",
   "metadata": {},
   "outputs": [
    {
     "data": {
      "text/plain": [
       "49.46377787665885"
      ]
     },
     "execution_count": 30,
     "metadata": {},
     "output_type": "execute_result"
    }
   ],
   "source": [
    "avg_age = df_testing['age'].mean()\n",
    "avg_age"
   ]
  },
  {
   "cell_type": "code",
   "execution_count": 31,
   "id": "2cc3c4c5",
   "metadata": {},
   "outputs": [
    {
     "data": {
      "text/plain": [
       "49.0"
      ]
     },
     "execution_count": 31,
     "metadata": {},
     "output_type": "execute_result"
    }
   ],
   "source": [
    "median_age = df_testing['age'].median()\n",
    "median_age"
   ]
  },
  {
   "cell_type": "markdown",
   "id": "73c44b8c",
   "metadata": {},
   "source": [
    "### assign age groupings\n",
    "    Snapper:    >=18  <30\n",
    "    Grown-up:   >=30  <60\n",
    "    Chief:      >=60  <82"
   ]
  },
  {
   "cell_type": "code",
   "execution_count": 32,
   "id": "892ae44c",
   "metadata": {},
   "outputs": [],
   "source": [
    "df_testing.loc[(df_testing['age'] <30), 'age_flag'] = 'Snapper'"
   ]
  },
  {
   "cell_type": "code",
   "execution_count": 33,
   "id": "7909f909",
   "metadata": {},
   "outputs": [],
   "source": [
    "df_testing.loc[(df_testing['age'] >=30) & (df_testing['age'] <60), 'age_flag'] = 'Grown-up'"
   ]
  },
  {
   "cell_type": "code",
   "execution_count": 34,
   "id": "a8410f1a",
   "metadata": {},
   "outputs": [],
   "source": [
    "df_testing.loc[(df_testing['age'] >=60), 'age_flag'] = 'Chief'"
   ]
  },
  {
   "cell_type": "markdown",
   "id": "b4f1e8a1",
   "metadata": {},
   "source": [
    "### check assigned age_flag value_counts"
   ]
  },
  {
   "cell_type": "code",
   "execution_count": 35,
   "id": "090876e2",
   "metadata": {},
   "outputs": [],
   "source": [
    "age_flag = df_testing['age_flag'].value_counts(dropna=False)"
   ]
  },
  {
   "cell_type": "markdown",
   "id": "04a56ef9",
   "metadata": {},
   "source": [
    "### copy to clipboard"
   ]
  },
  {
   "cell_type": "code",
   "execution_count": 36,
   "id": "fce23cfd",
   "metadata": {},
   "outputs": [],
   "source": [
    "age_flag.to_clipboard()"
   ]
  },
  {
   "cell_type": "markdown",
   "id": "157c9569",
   "metadata": {},
   "source": [
    "## Review family situation"
   ]
  },
  {
   "cell_type": "markdown",
   "id": "2f47b3d9",
   "metadata": {},
   "source": [
    "### review number of dependants & average no. of dependants"
   ]
  },
  {
   "cell_type": "code",
   "execution_count": 37,
   "id": "b63ef4b8",
   "metadata": {},
   "outputs": [
    {
     "data": {
      "text/plain": [
       "0    2315290\n",
       "1    2311418\n",
       "2    2315062\n",
       "3    2326378\n",
       "Name: n_dependants, dtype: int64"
      ]
     },
     "execution_count": 37,
     "metadata": {},
     "output_type": "execute_result"
    }
   ],
   "source": [
    "df_testing['n_dependants'].value_counts(dropna=False).sort_index()"
   ]
  },
  {
   "cell_type": "code",
   "execution_count": 38,
   "id": "24074b3f",
   "metadata": {},
   "outputs": [
    {
     "data": {
      "text/plain": [
       "1.501991120556124"
      ]
     },
     "execution_count": 38,
     "metadata": {},
     "output_type": "execute_result"
    }
   ],
   "source": [
    "df_testing['n_dependants'].mean()"
   ]
  },
  {
   "cell_type": "markdown",
   "id": "0c43c7e3",
   "metadata": {},
   "source": [
    "### review marital status"
   ]
  },
  {
   "cell_type": "code",
   "execution_count": 39,
   "id": "a5df48be",
   "metadata": {},
   "outputs": [
    {
     "data": {
      "text/plain": [
       "married                             6509474\n",
       "single                              1524773\n",
       "divorced/widowed                     790517\n",
       "living with parents and siblings     443384\n",
       "Name: marital_status, dtype: int64"
      ]
     },
     "execution_count": 39,
     "metadata": {},
     "output_type": "execute_result"
    }
   ],
   "source": [
    "df_testing['marital_status'].value_counts(dropna=False)"
   ]
  },
  {
   "cell_type": "markdown",
   "id": "0d469aff",
   "metadata": {},
   "source": [
    "### compare 'n_dependant' vs 'marital_status' via crosstab"
   ]
  },
  {
   "cell_type": "code",
   "execution_count": 40,
   "id": "584ce7d5",
   "metadata": {},
   "outputs": [],
   "source": [
    "cross_dependfam = pd.crosstab(df_testing['n_dependants'], df_testing['marital_status'], dropna=False)"
   ]
  },
  {
   "cell_type": "code",
   "execution_count": 41,
   "id": "76b1d50d",
   "metadata": {},
   "outputs": [
    {
     "data": {
      "text/html": [
       "<div>\n",
       "<style scoped>\n",
       "    .dataframe tbody tr th:only-of-type {\n",
       "        vertical-align: middle;\n",
       "    }\n",
       "\n",
       "    .dataframe tbody tr th {\n",
       "        vertical-align: top;\n",
       "    }\n",
       "\n",
       "    .dataframe thead th {\n",
       "        text-align: right;\n",
       "    }\n",
       "</style>\n",
       "<table border=\"1\" class=\"dataframe\">\n",
       "  <thead>\n",
       "    <tr style=\"text-align: right;\">\n",
       "      <th>marital_status</th>\n",
       "      <th>divorced/widowed</th>\n",
       "      <th>living with parents and siblings</th>\n",
       "      <th>married</th>\n",
       "      <th>single</th>\n",
       "    </tr>\n",
       "    <tr>\n",
       "      <th>n_dependants</th>\n",
       "      <th></th>\n",
       "      <th></th>\n",
       "      <th></th>\n",
       "      <th></th>\n",
       "    </tr>\n",
       "  </thead>\n",
       "  <tbody>\n",
       "    <tr>\n",
       "      <th>0</th>\n",
       "      <td>790517</td>\n",
       "      <td>0</td>\n",
       "      <td>0</td>\n",
       "      <td>1524773</td>\n",
       "    </tr>\n",
       "    <tr>\n",
       "      <th>1</th>\n",
       "      <td>0</td>\n",
       "      <td>151960</td>\n",
       "      <td>2159458</td>\n",
       "      <td>0</td>\n",
       "    </tr>\n",
       "    <tr>\n",
       "      <th>2</th>\n",
       "      <td>0</td>\n",
       "      <td>145341</td>\n",
       "      <td>2169721</td>\n",
       "      <td>0</td>\n",
       "    </tr>\n",
       "    <tr>\n",
       "      <th>3</th>\n",
       "      <td>0</td>\n",
       "      <td>146083</td>\n",
       "      <td>2180295</td>\n",
       "      <td>0</td>\n",
       "    </tr>\n",
       "  </tbody>\n",
       "</table>\n",
       "</div>"
      ],
      "text/plain": [
       "marital_status  divorced/widowed  living with parents and siblings  married  \\\n",
       "n_dependants                                                                  \n",
       "0                         790517                                 0        0   \n",
       "1                              0                            151960  2159458   \n",
       "2                              0                            145341  2169721   \n",
       "3                              0                            146083  2180295   \n",
       "\n",
       "marital_status   single  \n",
       "n_dependants             \n",
       "0               1524773  \n",
       "1                     0  \n",
       "2                     0  \n",
       "3                     0  "
      ]
     },
     "execution_count": 41,
     "metadata": {},
     "output_type": "execute_result"
    }
   ],
   "source": [
    "cross_dependfam"
   ]
  },
  {
   "cell_type": "markdown",
   "id": "72958bc8",
   "metadata": {},
   "source": [
    "### copy crosstab to clipboard"
   ]
  },
  {
   "cell_type": "code",
   "execution_count": 42,
   "id": "680db537",
   "metadata": {},
   "outputs": [],
   "source": [
    "cross_dependfam.to_clipboard()"
   ]
  },
  {
   "cell_type": "markdown",
   "id": "f170f717",
   "metadata": {},
   "source": [
    "### assign family_flag using loc[ ] method"
   ]
  },
  {
   "cell_type": "markdown",
   "id": "bad36ea9",
   "metadata": {},
   "source": [
    "#### Free =\n",
    "    no dependants, single \n",
    "    no dependants, divorced/widow"
   ]
  },
  {
   "cell_type": "code",
   "execution_count": 43,
   "id": "15c0e914",
   "metadata": {},
   "outputs": [],
   "source": [
    "df_testing.loc[(df_testing['n_dependants'] ==0) & ((df_testing['marital_status'] =='single') | (df_testing['marital_status'] =='divorced/widowed')), 'family_flag'] = 'free'"
   ]
  },
  {
   "cell_type": "markdown",
   "id": "047091c6",
   "metadata": {},
   "source": [
    "#### Responsible =\n",
    "    1 dependant, living with parents\n",
    "    1 dependant, married\n",
    "    2 dependants, living with parents"
   ]
  },
  {
   "cell_type": "code",
   "execution_count": 44,
   "id": "654a50da",
   "metadata": {},
   "outputs": [],
   "source": [
    "df_testing.loc[(df_testing['n_dependants'] ==1) & ((df_testing['marital_status'] =='living with parents and siblings') | (df_testing['marital_status'] =='married')), 'family_flag'] = 'responsible'"
   ]
  },
  {
   "cell_type": "code",
   "execution_count": 45,
   "id": "4680105a",
   "metadata": {},
   "outputs": [],
   "source": [
    "df_testing.loc[(df_testing['n_dependants'] ==2) & (df_testing['marital_status'] =='living with parents and siblings'), 'family_flag'] = 'responsible'"
   ]
  },
  {
   "cell_type": "markdown",
   "id": "9157eb26",
   "metadata": {},
   "source": [
    "#### Busy = \n",
    "    2 dependants, married\n",
    "    3 dependants, married\n",
    "    3 dependants, living with parents"
   ]
  },
  {
   "cell_type": "code",
   "execution_count": 46,
   "id": "bfaec3bd",
   "metadata": {},
   "outputs": [],
   "source": [
    "df_testing.loc[(df_testing['n_dependants'] ==2) & (df_testing['marital_status'] =='married'), 'family_flag'] = 'busy'"
   ]
  },
  {
   "cell_type": "code",
   "execution_count": 47,
   "id": "2d51bd13",
   "metadata": {},
   "outputs": [],
   "source": [
    "df_testing.loc[(df_testing['n_dependants'] ==3) & ((df_testing['marital_status'] =='living with parents and siblings') | (df_testing['marital_status'] =='married')), 'family_flag'] = 'busy'"
   ]
  },
  {
   "cell_type": "markdown",
   "id": "1728d872",
   "metadata": {},
   "source": [
    "### check family_flag column population"
   ]
  },
  {
   "cell_type": "code",
   "execution_count": 48,
   "id": "09373b0c",
   "metadata": {},
   "outputs": [],
   "source": [
    "df_family = df_testing[(df_testing['family_flag'] =='free') | (df_testing['family_flag'] =='responsible') | (df_testing['family_flag'] =='busy')]"
   ]
  },
  {
   "cell_type": "code",
   "execution_count": 49,
   "id": "655ec61e",
   "metadata": {},
   "outputs": [
    {
     "data": {
      "text/html": [
       "<div>\n",
       "<style scoped>\n",
       "    .dataframe tbody tr th:only-of-type {\n",
       "        vertical-align: middle;\n",
       "    }\n",
       "\n",
       "    .dataframe tbody tr th {\n",
       "        vertical-align: top;\n",
       "    }\n",
       "\n",
       "    .dataframe thead th {\n",
       "        text-align: right;\n",
       "    }\n",
       "</style>\n",
       "<table border=\"1\" class=\"dataframe\">\n",
       "  <thead>\n",
       "    <tr style=\"text-align: right;\">\n",
       "      <th></th>\n",
       "      <th>n_dependants</th>\n",
       "      <th>marital_status</th>\n",
       "      <th>family_flag</th>\n",
       "    </tr>\n",
       "  </thead>\n",
       "  <tbody>\n",
       "    <tr>\n",
       "      <th>0</th>\n",
       "      <td>3</td>\n",
       "      <td>married</td>\n",
       "      <td>busy</td>\n",
       "    </tr>\n",
       "    <tr>\n",
       "      <th>1</th>\n",
       "      <td>3</td>\n",
       "      <td>married</td>\n",
       "      <td>busy</td>\n",
       "    </tr>\n",
       "    <tr>\n",
       "      <th>2</th>\n",
       "      <td>3</td>\n",
       "      <td>married</td>\n",
       "      <td>busy</td>\n",
       "    </tr>\n",
       "    <tr>\n",
       "      <th>3</th>\n",
       "      <td>3</td>\n",
       "      <td>married</td>\n",
       "      <td>busy</td>\n",
       "    </tr>\n",
       "    <tr>\n",
       "      <th>4</th>\n",
       "      <td>3</td>\n",
       "      <td>married</td>\n",
       "      <td>busy</td>\n",
       "    </tr>\n",
       "    <tr>\n",
       "      <th>5</th>\n",
       "      <td>3</td>\n",
       "      <td>married</td>\n",
       "      <td>busy</td>\n",
       "    </tr>\n",
       "    <tr>\n",
       "      <th>6</th>\n",
       "      <td>3</td>\n",
       "      <td>married</td>\n",
       "      <td>busy</td>\n",
       "    </tr>\n",
       "    <tr>\n",
       "      <th>7</th>\n",
       "      <td>3</td>\n",
       "      <td>married</td>\n",
       "      <td>busy</td>\n",
       "    </tr>\n",
       "    <tr>\n",
       "      <th>8</th>\n",
       "      <td>3</td>\n",
       "      <td>married</td>\n",
       "      <td>busy</td>\n",
       "    </tr>\n",
       "    <tr>\n",
       "      <th>9</th>\n",
       "      <td>3</td>\n",
       "      <td>married</td>\n",
       "      <td>busy</td>\n",
       "    </tr>\n",
       "    <tr>\n",
       "      <th>10</th>\n",
       "      <td>3</td>\n",
       "      <td>married</td>\n",
       "      <td>busy</td>\n",
       "    </tr>\n",
       "    <tr>\n",
       "      <th>11</th>\n",
       "      <td>3</td>\n",
       "      <td>married</td>\n",
       "      <td>busy</td>\n",
       "    </tr>\n",
       "    <tr>\n",
       "      <th>12</th>\n",
       "      <td>3</td>\n",
       "      <td>married</td>\n",
       "      <td>busy</td>\n",
       "    </tr>\n",
       "    <tr>\n",
       "      <th>13</th>\n",
       "      <td>3</td>\n",
       "      <td>married</td>\n",
       "      <td>busy</td>\n",
       "    </tr>\n",
       "    <tr>\n",
       "      <th>14</th>\n",
       "      <td>3</td>\n",
       "      <td>married</td>\n",
       "      <td>busy</td>\n",
       "    </tr>\n",
       "  </tbody>\n",
       "</table>\n",
       "</div>"
      ],
      "text/plain": [
       "    n_dependants marital_status family_flag\n",
       "0              3        married        busy\n",
       "1              3        married        busy\n",
       "2              3        married        busy\n",
       "3              3        married        busy\n",
       "4              3        married        busy\n",
       "5              3        married        busy\n",
       "6              3        married        busy\n",
       "7              3        married        busy\n",
       "8              3        married        busy\n",
       "9              3        married        busy\n",
       "10             3        married        busy\n",
       "11             3        married        busy\n",
       "12             3        married        busy\n",
       "13             3        married        busy\n",
       "14             3        married        busy"
      ]
     },
     "execution_count": 49,
     "metadata": {},
     "output_type": "execute_result"
    }
   ],
   "source": [
    "df_family[['n_dependants','marital_status','family_flag']].head(15)"
   ]
  },
  {
   "cell_type": "markdown",
   "id": "64e77a02",
   "metadata": {},
   "source": [
    "### Confirm all records have been populated by:\n",
    "    a) checking all records have been saved to df_family\n",
    "    b) reviewing family_flag value_counts"
   ]
  },
  {
   "cell_type": "code",
   "execution_count": 50,
   "id": "06f0a3f1",
   "metadata": {},
   "outputs": [
    {
     "data": {
      "text/plain": [
       "(9268148, 32)"
      ]
     },
     "execution_count": 50,
     "metadata": {},
     "output_type": "execute_result"
    }
   ],
   "source": [
    "df_family.shape"
   ]
  },
  {
   "cell_type": "code",
   "execution_count": 51,
   "id": "af67489a",
   "metadata": {},
   "outputs": [],
   "source": [
    "family_flag = df_testing['family_flag'].value_counts()"
   ]
  },
  {
   "cell_type": "markdown",
   "id": "098d97a2",
   "metadata": {},
   "source": [
    "### copy to clipboard"
   ]
  },
  {
   "cell_type": "code",
   "execution_count": 52,
   "id": "94dccda1",
   "metadata": {},
   "outputs": [],
   "source": [
    "family_flag.to_clipboard()"
   ]
  },
  {
   "cell_type": "markdown",
   "id": "88e1b35d",
   "metadata": {},
   "source": [
    "## Categorize income levels"
   ]
  },
  {
   "cell_type": "markdown",
   "id": "18461dce",
   "metadata": {},
   "source": [
    "### review income range"
   ]
  },
  {
   "cell_type": "code",
   "execution_count": 53,
   "id": "a2d80115",
   "metadata": {},
   "outputs": [
    {
     "data": {
      "text/plain": [
       "25903       5\n",
       "25937       9\n",
       "25941      11\n",
       "25955     117\n",
       "25972      11\n",
       "         ... \n",
       "584097    239\n",
       "590790      6\n",
       "591089     62\n",
       "592409     98\n",
       "593901    193\n",
       "Name: income, Length: 95052, dtype: int64"
      ]
     },
     "execution_count": 53,
     "metadata": {},
     "output_type": "execute_result"
    }
   ],
   "source": [
    "df_testing['income'].value_counts(dropna=False).sort_index()"
   ]
  },
  {
   "cell_type": "markdown",
   "id": "bf7719ad",
   "metadata": {},
   "source": [
    "### review descriptive statistics"
   ]
  },
  {
   "cell_type": "code",
   "execution_count": 54,
   "id": "af3893c2",
   "metadata": {},
   "outputs": [
    {
     "data": {
      "text/plain": [
       "count    9.268148e+06\n",
       "mean     9.969125e+04\n",
       "std      4.312018e+04\n",
       "min      2.590300e+04\n",
       "25%      6.733700e+04\n",
       "50%      9.678000e+04\n",
       "75%      1.281170e+05\n",
       "max      5.939010e+05\n",
       "Name: income, dtype: float64"
      ]
     },
     "execution_count": 54,
     "metadata": {},
     "output_type": "execute_result"
    }
   ],
   "source": [
    "df_testing['income'].describe()"
   ]
  },
  {
   "cell_type": "markdown",
   "id": "de128fe8",
   "metadata": {},
   "source": [
    "### assign income categories\n",
    "    Under:    >$25K   <=$70K\n",
    "    Standard: >$70K   <=$130K\n",
    "    Over:     >$130K"
   ]
  },
  {
   "cell_type": "code",
   "execution_count": 55,
   "id": "bbc927e0",
   "metadata": {},
   "outputs": [],
   "source": [
    "df_testing.loc[(df_testing['income'] <=70000), 'income_flag'] = 'Under'"
   ]
  },
  {
   "cell_type": "code",
   "execution_count": 56,
   "id": "74a62ddd",
   "metadata": {},
   "outputs": [],
   "source": [
    "df_testing.loc[(df_testing['income'] >70000) & (df_testing['income'] <=130000), 'income_flag'] = 'Standard'"
   ]
  },
  {
   "cell_type": "code",
   "execution_count": 57,
   "id": "0f25cba9",
   "metadata": {},
   "outputs": [],
   "source": [
    "df_testing.loc[(df_testing['income'] >130000), 'income_flag'] = 'Over'"
   ]
  },
  {
   "cell_type": "markdown",
   "id": "93539564",
   "metadata": {},
   "source": [
    "### check income_flag value_counts, and copy to clipboard"
   ]
  },
  {
   "cell_type": "code",
   "execution_count": 58,
   "id": "5da9c698",
   "metadata": {},
   "outputs": [],
   "source": [
    "income_flag = df_testing['income_flag'].value_counts()"
   ]
  },
  {
   "cell_type": "code",
   "execution_count": 59,
   "id": "c7e493b9",
   "metadata": {},
   "outputs": [],
   "source": [
    "income_flag.to_clipboard()"
   ]
  },
  {
   "cell_type": "markdown",
   "id": "83d71534",
   "metadata": {},
   "source": [
    "### review columns & dimensions"
   ]
  },
  {
   "cell_type": "code",
   "execution_count": 60,
   "id": "9f33775d",
   "metadata": {},
   "outputs": [
    {
     "data": {
      "text/plain": [
       "order_id                    int64\n",
       "user_id                     int64\n",
       "number_of_orders            int64\n",
       "order_day_of_week           int64\n",
       "order_hour_of_day           int64\n",
       "days_since_prior_order    float64\n",
       "product_id                  int64\n",
       "reordered                   int64\n",
       "product_name               object\n",
       "department_id               int64\n",
       "price                     float64\n",
       "gender                     object\n",
       "state                      object\n",
       "age                         int64\n",
       "n_dependants                int64\n",
       "marital_status             object\n",
       "income                      int64\n",
       "region                     object\n",
       "max_order                   int64\n",
       "prod_price_range           object\n",
       "sum_product_order           int64\n",
       "top_order                 float64\n",
       "product_revenue           float64\n",
       "big_revenue               float64\n",
       "key_dept                  float64\n",
       "avg_order_days            float64\n",
       "shop_freq                  object\n",
       "avg_spend                 float64\n",
       "spend_level                object\n",
       "loyalty_flag               object\n",
       "age_flag                   object\n",
       "family_flag                object\n",
       "income_flag                object\n",
       "dtype: object"
      ]
     },
     "execution_count": 60,
     "metadata": {},
     "output_type": "execute_result"
    }
   ],
   "source": [
    "df_testing.dtypes"
   ]
  },
  {
   "cell_type": "code",
   "execution_count": 61,
   "id": "c22dbb91",
   "metadata": {},
   "outputs": [
    {
     "data": {
      "text/plain": [
       "(9268148, 33)"
      ]
     },
     "execution_count": 61,
     "metadata": {},
     "output_type": "execute_result"
    }
   ],
   "source": [
    "df_testing.shape"
   ]
  },
  {
   "cell_type": "markdown",
   "id": "56e67f5b",
   "metadata": {},
   "source": [
    "### export to pickle for visual assessment"
   ]
  },
  {
   "cell_type": "code",
   "execution_count": 62,
   "id": "36aca58b",
   "metadata": {},
   "outputs": [],
   "source": [
    "df_testing.to_pickle(os.path.join(datasetpath,'testing_sample_prodcust.pkl'))"
   ]
  }
 ],
 "metadata": {
  "kernelspec": {
   "display_name": "Python 3",
   "language": "python",
   "name": "python3"
  },
  "language_info": {
   "codemirror_mode": {
    "name": "ipython",
    "version": 3
   },
   "file_extension": ".py",
   "mimetype": "text/x-python",
   "name": "python",
   "nbconvert_exporter": "python",
   "pygments_lexer": "ipython3",
   "version": "3.8.8"
  }
 },
 "nbformat": 4,
 "nbformat_minor": 5
}
