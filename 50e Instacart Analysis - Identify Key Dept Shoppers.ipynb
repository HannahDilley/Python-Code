{
 "cells": [
  {
   "cell_type": "markdown",
   "id": "137a0d58",
   "metadata": {},
   "source": [
    "## Instacart Analysis – Identify Key Dept Shoppers\n",
    "1.\tImport libraries, set directory paths & import data\n",
    "2.\tCheck data frame dimensions, columns and datatypes\n",
    "3.\tCalculate key_dept score per customer\n",
    "4.\tAssign Key Shopper status based on dept_score\n",
    "5.\tCheck value counts, export to clipboard\n",
    "6.\tExport to new data set file.\n"
   ]
  },
  {
   "cell_type": "markdown",
   "id": "dfb595f1",
   "metadata": {},
   "source": [
    "### import libraries"
   ]
  },
  {
   "cell_type": "code",
   "execution_count": 1,
   "id": "dca40f1a",
   "metadata": {},
   "outputs": [],
   "source": [
    "import pandas as pd\n",
    "import numpy as np\n",
    "import os"
   ]
  },
  {
   "cell_type": "markdown",
   "id": "3052e3e9",
   "metadata": {},
   "source": [
    "### set data set directory path"
   ]
  },
  {
   "cell_type": "code",
   "execution_count": 2,
   "id": "e6e7142f",
   "metadata": {},
   "outputs": [
    {
     "data": {
      "text/plain": [
       "'D:\\\\My Documents\\\\! Omnicompetent Ltd\\\\Courses\\\\Career Foundry - Data Analytics\\\\Data Analytics Course\\\\Instacart Basket Analysis\\\\02 Data Sets'"
      ]
     },
     "execution_count": 2,
     "metadata": {},
     "output_type": "execute_result"
    }
   ],
   "source": [
    "datasetpath = r'D:\\My Documents\\! Omnicompetent Ltd\\Courses\\Career Foundry - Data Analytics\\Data Analytics Course\\Instacart Basket Analysis\\02 Data Sets'\n",
    "datasetpath"
   ]
  },
  {
   "cell_type": "markdown",
   "id": "74b3fa37",
   "metadata": {},
   "source": [
    "### import product and customer reviewed dataset"
   ]
  },
  {
   "cell_type": "code",
   "execution_count": 3,
   "id": "d63bf0b0",
   "metadata": {},
   "outputs": [],
   "source": [
    "df_testing = pd.read_pickle(os.path.join(datasetpath,'testing_sample_prodcust.pkl'))"
   ]
  },
  {
   "cell_type": "markdown",
   "id": "552ea33f",
   "metadata": {},
   "source": [
    "### review dimensions, columns & datatypes"
   ]
  },
  {
   "cell_type": "code",
   "execution_count": 4,
   "id": "4c6ac560",
   "metadata": {},
   "outputs": [
    {
     "data": {
      "text/plain": [
       "(9268148, 33)"
      ]
     },
     "execution_count": 4,
     "metadata": {},
     "output_type": "execute_result"
    }
   ],
   "source": [
    "df_testing.shape"
   ]
  },
  {
   "cell_type": "code",
   "execution_count": 5,
   "id": "e4b6c84c",
   "metadata": {},
   "outputs": [
    {
     "data": {
      "text/plain": [
       "order_id                    int64\n",
       "user_id                     int64\n",
       "number_of_orders            int64\n",
       "order_day_of_week           int64\n",
       "order_hour_of_day           int64\n",
       "days_since_prior_order    float64\n",
       "product_id                  int64\n",
       "reordered                   int64\n",
       "product_name               object\n",
       "department_id               int64\n",
       "price                     float64\n",
       "gender                     object\n",
       "state                      object\n",
       "age                         int64\n",
       "n_dependants                int64\n",
       "marital_status             object\n",
       "income                      int64\n",
       "region                     object\n",
       "max_order                   int64\n",
       "prod_price_range           object\n",
       "sum_product_order           int64\n",
       "top_order                 float64\n",
       "product_revenue           float64\n",
       "big_revenue               float64\n",
       "key_dept                  float64\n",
       "avg_order_days            float64\n",
       "shop_freq                  object\n",
       "avg_spend                 float64\n",
       "spend_level                object\n",
       "loyalty_flag               object\n",
       "age_flag                   object\n",
       "family_flag                object\n",
       "income_flag                object\n",
       "dtype: object"
      ]
     },
     "execution_count": 5,
     "metadata": {},
     "output_type": "execute_result"
    }
   ],
   "source": [
    "df_testing.dtypes"
   ]
  },
  {
   "cell_type": "markdown",
   "id": "5d508232",
   "metadata": {},
   "source": [
    "### calculate customer key_dept score\n",
    "    a) grouby user_id\n",
    "    b) sum key_dept values"
   ]
  },
  {
   "cell_type": "markdown",
   "id": "2ad11696",
   "metadata": {},
   "source": [
    "#### The key_dept score represent how often a customer shops in a key department and therefore contrbutes to popular order placment as well as revenue."
   ]
  },
  {
   "cell_type": "code",
   "execution_count": 6,
   "id": "4b435ce5",
   "metadata": {},
   "outputs": [],
   "source": [
    "df_testing['dept_score'] = df_testing.groupby(['user_id']) ['key_dept'].transform(np.sum)"
   ]
  },
  {
   "cell_type": "code",
   "execution_count": 7,
   "id": "8329f77d",
   "metadata": {},
   "outputs": [
    {
     "data": {
      "text/html": [
       "<div>\n",
       "<style scoped>\n",
       "    .dataframe tbody tr th:only-of-type {\n",
       "        vertical-align: middle;\n",
       "    }\n",
       "\n",
       "    .dataframe tbody tr th {\n",
       "        vertical-align: top;\n",
       "    }\n",
       "\n",
       "    .dataframe thead th {\n",
       "        text-align: right;\n",
       "    }\n",
       "</style>\n",
       "<table border=\"1\" class=\"dataframe\">\n",
       "  <thead>\n",
       "    <tr style=\"text-align: right;\">\n",
       "      <th></th>\n",
       "      <th>department_id</th>\n",
       "      <th>key_dept</th>\n",
       "      <th>dept_score</th>\n",
       "    </tr>\n",
       "  </thead>\n",
       "  <tbody>\n",
       "    <tr>\n",
       "      <th>0</th>\n",
       "      <td>7</td>\n",
       "      <td>1.0</td>\n",
       "      <td>8.0</td>\n",
       "    </tr>\n",
       "    <tr>\n",
       "      <th>1</th>\n",
       "      <td>7</td>\n",
       "      <td>1.0</td>\n",
       "      <td>8.0</td>\n",
       "    </tr>\n",
       "    <tr>\n",
       "      <th>2</th>\n",
       "      <td>7</td>\n",
       "      <td>1.0</td>\n",
       "      <td>8.0</td>\n",
       "    </tr>\n",
       "    <tr>\n",
       "      <th>3</th>\n",
       "      <td>7</td>\n",
       "      <td>1.0</td>\n",
       "      <td>8.0</td>\n",
       "    </tr>\n",
       "    <tr>\n",
       "      <th>4</th>\n",
       "      <td>16</td>\n",
       "      <td>1.0</td>\n",
       "      <td>8.0</td>\n",
       "    </tr>\n",
       "    <tr>\n",
       "      <th>5</th>\n",
       "      <td>19</td>\n",
       "      <td>0.0</td>\n",
       "      <td>8.0</td>\n",
       "    </tr>\n",
       "    <tr>\n",
       "      <th>6</th>\n",
       "      <td>19</td>\n",
       "      <td>0.0</td>\n",
       "      <td>8.0</td>\n",
       "    </tr>\n",
       "    <tr>\n",
       "      <th>7</th>\n",
       "      <td>19</td>\n",
       "      <td>0.0</td>\n",
       "      <td>8.0</td>\n",
       "    </tr>\n",
       "    <tr>\n",
       "      <th>8</th>\n",
       "      <td>19</td>\n",
       "      <td>0.0</td>\n",
       "      <td>8.0</td>\n",
       "    </tr>\n",
       "    <tr>\n",
       "      <th>9</th>\n",
       "      <td>19</td>\n",
       "      <td>0.0</td>\n",
       "      <td>8.0</td>\n",
       "    </tr>\n",
       "  </tbody>\n",
       "</table>\n",
       "</div>"
      ],
      "text/plain": [
       "   department_id  key_dept  dept_score\n",
       "0              7       1.0         8.0\n",
       "1              7       1.0         8.0\n",
       "2              7       1.0         8.0\n",
       "3              7       1.0         8.0\n",
       "4             16       1.0         8.0\n",
       "5             19       0.0         8.0\n",
       "6             19       0.0         8.0\n",
       "7             19       0.0         8.0\n",
       "8             19       0.0         8.0\n",
       "9             19       0.0         8.0"
      ]
     },
     "execution_count": 7,
     "metadata": {},
     "output_type": "execute_result"
    }
   ],
   "source": [
    "df_testing[['department_id','key_dept','dept_score']].head(10)"
   ]
  },
  {
   "cell_type": "markdown",
   "id": "bfa3fc14",
   "metadata": {},
   "source": [
    "### review dept_score descriptive statistic"
   ]
  },
  {
   "cell_type": "code",
   "execution_count": 8,
   "id": "01262ae6",
   "metadata": {},
   "outputs": [
    {
     "data": {
      "text/plain": [
       "count    9.268148e+06\n",
       "mean     9.350593e+01\n",
       "std      8.172111e+01\n",
       "min      0.000000e+00\n",
       "25%      3.300000e+01\n",
       "50%      6.900000e+01\n",
       "75%      1.300000e+02\n",
       "max      7.050000e+02\n",
       "Name: dept_score, dtype: float64"
      ]
     },
     "execution_count": 8,
     "metadata": {},
     "output_type": "execute_result"
    }
   ],
   "source": [
    "df_testing['dept_score'].describe()"
   ]
  },
  {
   "cell_type": "markdown",
   "id": "ad7b9b71",
   "metadata": {},
   "source": [
    "### assign flag for key shopping customers\n",
    "    Basic Shopper:  dept score < 94\n",
    "    Key Shopper:      dept score >= 94\n",
    "    *where 93.5 is the mean dept_score"
   ]
  },
  {
   "cell_type": "code",
   "execution_count": 9,
   "id": "e8b28767",
   "metadata": {},
   "outputs": [],
   "source": [
    "df_testing.loc[(df_testing['dept_score'] <94), 'key_shopper'] = 'Basic Shopper'"
   ]
  },
  {
   "cell_type": "code",
   "execution_count": 10,
   "id": "edc65af9",
   "metadata": {},
   "outputs": [],
   "source": [
    "df_testing.loc[(df_testing['dept_score'] >=94), 'key_shopper'] = 'Key Shopper'"
   ]
  },
  {
   "cell_type": "markdown",
   "id": "802e04c1",
   "metadata": {},
   "source": [
    "### review value counts for revenue_shopper & copy to clipboard"
   ]
  },
  {
   "cell_type": "code",
   "execution_count": 11,
   "id": "7eb1ab58",
   "metadata": {},
   "outputs": [
    {
     "data": {
      "text/plain": [
       "Basic Shopper    5740536\n",
       "Key Shopper      3527612\n",
       "Name: key_shopper, dtype: int64"
      ]
     },
     "execution_count": 11,
     "metadata": {},
     "output_type": "execute_result"
    }
   ],
   "source": [
    "df_testing['key_shopper'].value_counts(dropna=False)"
   ]
  },
  {
   "cell_type": "code",
   "execution_count": 12,
   "id": "9c940dd6",
   "metadata": {},
   "outputs": [],
   "source": [
    "key_shopper = df_testing['key_shopper'].value_counts()\n",
    "key_shopper.to_clipboard()"
   ]
  },
  {
   "cell_type": "markdown",
   "id": "83d71534",
   "metadata": {},
   "source": [
    "### review columns & dimensions"
   ]
  },
  {
   "cell_type": "code",
   "execution_count": 13,
   "id": "9f33775d",
   "metadata": {},
   "outputs": [
    {
     "data": {
      "text/plain": [
       "order_id                    int64\n",
       "user_id                     int64\n",
       "number_of_orders            int64\n",
       "order_day_of_week           int64\n",
       "order_hour_of_day           int64\n",
       "days_since_prior_order    float64\n",
       "product_id                  int64\n",
       "reordered                   int64\n",
       "product_name               object\n",
       "department_id               int64\n",
       "price                     float64\n",
       "gender                     object\n",
       "state                      object\n",
       "age                         int64\n",
       "n_dependants                int64\n",
       "marital_status             object\n",
       "income                      int64\n",
       "region                     object\n",
       "max_order                   int64\n",
       "prod_price_range           object\n",
       "sum_product_order           int64\n",
       "top_order                 float64\n",
       "product_revenue           float64\n",
       "big_revenue               float64\n",
       "key_dept                  float64\n",
       "avg_order_days            float64\n",
       "shop_freq                  object\n",
       "avg_spend                 float64\n",
       "spend_level                object\n",
       "loyalty_flag               object\n",
       "age_flag                   object\n",
       "family_flag                object\n",
       "income_flag                object\n",
       "dept_score                float64\n",
       "key_shopper                object\n",
       "dtype: object"
      ]
     },
     "execution_count": 13,
     "metadata": {},
     "output_type": "execute_result"
    }
   ],
   "source": [
    "df_testing.dtypes"
   ]
  },
  {
   "cell_type": "code",
   "execution_count": 14,
   "id": "c22dbb91",
   "metadata": {},
   "outputs": [
    {
     "data": {
      "text/plain": [
       "(9268148, 35)"
      ]
     },
     "execution_count": 14,
     "metadata": {},
     "output_type": "execute_result"
    }
   ],
   "source": [
    "df_testing.shape"
   ]
  },
  {
   "cell_type": "markdown",
   "id": "56e67f5b",
   "metadata": {},
   "source": [
    "### export to pickle for use with creating visualisations"
   ]
  },
  {
   "cell_type": "code",
   "execution_count": 15,
   "id": "36aca58b",
   "metadata": {},
   "outputs": [],
   "source": [
    "df_testing.to_pickle(os.path.join(datasetpath,'testing_sample_prodcustkey.pkl'))"
   ]
  }
 ],
 "metadata": {
  "kernelspec": {
   "display_name": "Python 3",
   "language": "python",
   "name": "python3"
  },
  "language_info": {
   "codemirror_mode": {
    "name": "ipython",
    "version": 3
   },
   "file_extension": ".py",
   "mimetype": "text/x-python",
   "name": "python",
   "nbconvert_exporter": "python",
   "pygments_lexer": "ipython3",
   "version": "3.8.8"
  }
 },
 "nbformat": 4,
 "nbformat_minor": 5
}
