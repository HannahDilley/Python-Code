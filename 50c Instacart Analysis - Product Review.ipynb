{
 "cells": [
  {
   "cell_type": "markdown",
   "id": "137a0d58",
   "metadata": {},
   "source": [
    "## Instacart Analysis – Product Review\n",
    "1.\tImport libraries, set directory paths & import data\n",
    "2.\tCheck data frame dimensions, columns and datatypes\n",
    "3.\tCategorise product pricing\n",
    "    -\tReview descriptive statistic\n",
    "    -\tAssign pricing category (low range, medium range, high range)\n",
    "    -\tCheck value counts\n",
    "4.\tAddress null values for price and price category\n",
    "    -\tSave null group to subset to assess which products are affected\n",
    "    -\tAssign to low range pricing group\n",
    "    -\tCalculate average price for low range products\n",
    "    -\tImpute mean values in place of nulls\n",
    "5.\tReview of popular products\n",
    "    -\tCount total number of unique products\n",
    "    -\tCalculate total number of orders per product\n",
    "    -\tReview descriptive statistics for assigning popular product value\n",
    "    -\tAssign top_order flag for products ordered > 200,000 times\n",
    "    -\tCreate list of department_id associated with top_order products\n",
    "6.\tReview of product generation\n",
    "    -\tCalculate total generated revenue\n",
    "    -\tCalculate total revenue per product\n",
    "    -\tReview product_revenue descriptive statistics\n",
    "    -\tAssign flag to big_revenue products\n",
    "    -\tCreate list of department_id associated with big_revenue products\n",
    "7.\tReview key departments based on product orders and revenue\n",
    "    -\tCompare dept ID from orders and revenue lists\n",
    "    -\tCombine the list (unique values only)\n",
    "    -\tReview top 7 departments (out of 21 departments)\n",
    "8.\tAssess Key Departments & mark key_dept\n",
    "9.\tExport new data to pickle file\n"
   ]
  },
  {
   "cell_type": "markdown",
   "id": "dfb595f1",
   "metadata": {},
   "source": [
    "### import libraries"
   ]
  },
  {
   "cell_type": "code",
   "execution_count": 1,
   "id": "dca40f1a",
   "metadata": {},
   "outputs": [],
   "source": [
    "import pandas as pd\n",
    "import numpy as np\n",
    "import os\n",
    "import matplotlib.pyplot as plt\n",
    "import seaborn as sns\n",
    "import scipy"
   ]
  },
  {
   "cell_type": "markdown",
   "id": "3052e3e9",
   "metadata": {},
   "source": [
    "### set data set directory path"
   ]
  },
  {
   "cell_type": "code",
   "execution_count": 2,
   "id": "e6e7142f",
   "metadata": {},
   "outputs": [
    {
     "data": {
      "text/plain": [
       "'D:\\\\My Documents\\\\! Omnicompetent Ltd\\\\Courses\\\\Career Foundry - Data Analytics\\\\Data Analytics Course\\\\Instacart Basket Analysis\\\\02 Data Sets'"
      ]
     },
     "execution_count": 2,
     "metadata": {},
     "output_type": "execute_result"
    }
   ],
   "source": [
    "datasetpath = r'D:\\My Documents\\! Omnicompetent Ltd\\Courses\\Career Foundry - Data Analytics\\Data Analytics Course\\Instacart Basket Analysis\\02 Data Sets'\n",
    "datasetpath"
   ]
  },
  {
   "cell_type": "markdown",
   "id": "c616ffae",
   "metadata": {},
   "source": [
    "### set visualisation directory path"
   ]
  },
  {
   "cell_type": "code",
   "execution_count": 3,
   "id": "f105a8e9",
   "metadata": {},
   "outputs": [
    {
     "data": {
      "text/plain": [
       "'D:\\\\My Documents\\\\! Omnicompetent Ltd\\\\Courses\\\\Career Foundry - Data Analytics\\\\Data Analytics Course\\\\Instacart Basket Analysis\\\\04 Analysis'"
      ]
     },
     "execution_count": 3,
     "metadata": {},
     "output_type": "execute_result"
    }
   ],
   "source": [
    "vizpath = r'D:\\My Documents\\! Omnicompetent Ltd\\Courses\\Career Foundry - Data Analytics\\Data Analytics Course\\Instacart Basket Analysis\\04 Analysis'\n",
    "vizpath"
   ]
  },
  {
   "cell_type": "markdown",
   "id": "74b3fa37",
   "metadata": {},
   "source": [
    "### import flagged data set"
   ]
  },
  {
   "cell_type": "code",
   "execution_count": 4,
   "id": "d63bf0b0",
   "metadata": {},
   "outputs": [
    {
     "data": {
      "text/html": [
       "<div>\n",
       "<style scoped>\n",
       "    .dataframe tbody tr th:only-of-type {\n",
       "        vertical-align: middle;\n",
       "    }\n",
       "\n",
       "    .dataframe tbody tr th {\n",
       "        vertical-align: top;\n",
       "    }\n",
       "\n",
       "    .dataframe thead th {\n",
       "        text-align: right;\n",
       "    }\n",
       "</style>\n",
       "<table border=\"1\" class=\"dataframe\">\n",
       "  <thead>\n",
       "    <tr style=\"text-align: right;\">\n",
       "      <th></th>\n",
       "      <th>order_id</th>\n",
       "      <th>user_id</th>\n",
       "      <th>number_of_orders</th>\n",
       "      <th>order_day_of_week</th>\n",
       "      <th>order_hour_of_day</th>\n",
       "      <th>days_since_prior_order</th>\n",
       "      <th>product_id</th>\n",
       "      <th>reordered</th>\n",
       "      <th>product_name</th>\n",
       "      <th>department_id</th>\n",
       "      <th>price</th>\n",
       "      <th>gender</th>\n",
       "      <th>state</th>\n",
       "      <th>age</th>\n",
       "      <th>n_dependants</th>\n",
       "      <th>marital_status</th>\n",
       "      <th>income</th>\n",
       "      <th>region</th>\n",
       "      <th>max_order</th>\n",
       "    </tr>\n",
       "  </thead>\n",
       "  <tbody>\n",
       "    <tr>\n",
       "      <th>0</th>\n",
       "      <td>2539329</td>\n",
       "      <td>1</td>\n",
       "      <td>1</td>\n",
       "      <td>2</td>\n",
       "      <td>8</td>\n",
       "      <td>0.0</td>\n",
       "      <td>196</td>\n",
       "      <td>0</td>\n",
       "      <td>Soda</td>\n",
       "      <td>7</td>\n",
       "      <td>9.0</td>\n",
       "      <td>Female</td>\n",
       "      <td>Alabama</td>\n",
       "      <td>31</td>\n",
       "      <td>3</td>\n",
       "      <td>married</td>\n",
       "      <td>40423</td>\n",
       "      <td>South</td>\n",
       "      <td>10</td>\n",
       "    </tr>\n",
       "    <tr>\n",
       "      <th>1</th>\n",
       "      <td>473747</td>\n",
       "      <td>1</td>\n",
       "      <td>3</td>\n",
       "      <td>3</td>\n",
       "      <td>12</td>\n",
       "      <td>21.0</td>\n",
       "      <td>196</td>\n",
       "      <td>1</td>\n",
       "      <td>Soda</td>\n",
       "      <td>7</td>\n",
       "      <td>9.0</td>\n",
       "      <td>Female</td>\n",
       "      <td>Alabama</td>\n",
       "      <td>31</td>\n",
       "      <td>3</td>\n",
       "      <td>married</td>\n",
       "      <td>40423</td>\n",
       "      <td>South</td>\n",
       "      <td>10</td>\n",
       "    </tr>\n",
       "    <tr>\n",
       "      <th>2</th>\n",
       "      <td>2254736</td>\n",
       "      <td>1</td>\n",
       "      <td>4</td>\n",
       "      <td>4</td>\n",
       "      <td>7</td>\n",
       "      <td>29.0</td>\n",
       "      <td>196</td>\n",
       "      <td>1</td>\n",
       "      <td>Soda</td>\n",
       "      <td>7</td>\n",
       "      <td>9.0</td>\n",
       "      <td>Female</td>\n",
       "      <td>Alabama</td>\n",
       "      <td>31</td>\n",
       "      <td>3</td>\n",
       "      <td>married</td>\n",
       "      <td>40423</td>\n",
       "      <td>South</td>\n",
       "      <td>10</td>\n",
       "    </tr>\n",
       "    <tr>\n",
       "      <th>3</th>\n",
       "      <td>550135</td>\n",
       "      <td>1</td>\n",
       "      <td>7</td>\n",
       "      <td>1</td>\n",
       "      <td>9</td>\n",
       "      <td>20.0</td>\n",
       "      <td>196</td>\n",
       "      <td>1</td>\n",
       "      <td>Soda</td>\n",
       "      <td>7</td>\n",
       "      <td>9.0</td>\n",
       "      <td>Female</td>\n",
       "      <td>Alabama</td>\n",
       "      <td>31</td>\n",
       "      <td>3</td>\n",
       "      <td>married</td>\n",
       "      <td>40423</td>\n",
       "      <td>South</td>\n",
       "      <td>10</td>\n",
       "    </tr>\n",
       "    <tr>\n",
       "      <th>4</th>\n",
       "      <td>2539329</td>\n",
       "      <td>1</td>\n",
       "      <td>1</td>\n",
       "      <td>2</td>\n",
       "      <td>8</td>\n",
       "      <td>0.0</td>\n",
       "      <td>14084</td>\n",
       "      <td>0</td>\n",
       "      <td>Organic Unsweetened Vanilla Almond Milk</td>\n",
       "      <td>16</td>\n",
       "      <td>12.5</td>\n",
       "      <td>Female</td>\n",
       "      <td>Alabama</td>\n",
       "      <td>31</td>\n",
       "      <td>3</td>\n",
       "      <td>married</td>\n",
       "      <td>40423</td>\n",
       "      <td>South</td>\n",
       "      <td>10</td>\n",
       "    </tr>\n",
       "  </tbody>\n",
       "</table>\n",
       "</div>"
      ],
      "text/plain": [
       "   order_id  user_id  number_of_orders  order_day_of_week  order_hour_of_day  \\\n",
       "0   2539329        1                 1                  2                  8   \n",
       "1    473747        1                 3                  3                 12   \n",
       "2   2254736        1                 4                  4                  7   \n",
       "3    550135        1                 7                  1                  9   \n",
       "4   2539329        1                 1                  2                  8   \n",
       "\n",
       "   days_since_prior_order  product_id  reordered  \\\n",
       "0                     0.0         196          0   \n",
       "1                    21.0         196          1   \n",
       "2                    29.0         196          1   \n",
       "3                    20.0         196          1   \n",
       "4                     0.0       14084          0   \n",
       "\n",
       "                              product_name  department_id  price  gender  \\\n",
       "0                                     Soda              7    9.0  Female   \n",
       "1                                     Soda              7    9.0  Female   \n",
       "2                                     Soda              7    9.0  Female   \n",
       "3                                     Soda              7    9.0  Female   \n",
       "4  Organic Unsweetened Vanilla Almond Milk             16   12.5  Female   \n",
       "\n",
       "     state  age  n_dependants marital_status  income region  max_order  \n",
       "0  Alabama   31             3        married   40423  South         10  \n",
       "1  Alabama   31             3        married   40423  South         10  \n",
       "2  Alabama   31             3        married   40423  South         10  \n",
       "3  Alabama   31             3        married   40423  South         10  \n",
       "4  Alabama   31             3        married   40423  South         10  "
      ]
     },
     "execution_count": 4,
     "metadata": {},
     "output_type": "execute_result"
    }
   ],
   "source": [
    "df_testing = pd.read_pickle(os.path.join(datasetpath,'testing_sample_keep.pkl'))\n",
    "df_testing.head()"
   ]
  },
  {
   "cell_type": "markdown",
   "id": "552ea33f",
   "metadata": {},
   "source": [
    "### review dimensions, columns & datatypes"
   ]
  },
  {
   "cell_type": "code",
   "execution_count": 5,
   "id": "4c6ac560",
   "metadata": {},
   "outputs": [
    {
     "data": {
      "text/plain": [
       "(9268148, 19)"
      ]
     },
     "execution_count": 5,
     "metadata": {},
     "output_type": "execute_result"
    }
   ],
   "source": [
    "df_testing.shape"
   ]
  },
  {
   "cell_type": "code",
   "execution_count": 6,
   "id": "e4b6c84c",
   "metadata": {},
   "outputs": [
    {
     "data": {
      "text/plain": [
       "order_id                    int64\n",
       "user_id                     int64\n",
       "number_of_orders            int64\n",
       "order_day_of_week           int64\n",
       "order_hour_of_day           int64\n",
       "days_since_prior_order    float64\n",
       "product_id                  int64\n",
       "reordered                   int64\n",
       "product_name               object\n",
       "department_id               int64\n",
       "price                     float64\n",
       "gender                     object\n",
       "state                      object\n",
       "age                         int64\n",
       "n_dependants                int64\n",
       "marital_status             object\n",
       "income                      int64\n",
       "region                     object\n",
       "max_order                   int64\n",
       "dtype: object"
      ]
     },
     "execution_count": 6,
     "metadata": {},
     "output_type": "execute_result"
    }
   ],
   "source": [
    "df_testing.dtypes"
   ]
  },
  {
   "cell_type": "markdown",
   "id": "4097ec72",
   "metadata": {},
   "source": [
    "## Categorize product prices"
   ]
  },
  {
   "cell_type": "markdown",
   "id": "7d0438f3",
   "metadata": {},
   "source": [
    "### product price descriptive statistics"
   ]
  },
  {
   "cell_type": "code",
   "execution_count": 7,
   "id": "87addf85",
   "metadata": {},
   "outputs": [
    {
     "data": {
      "text/plain": [
       "count    9.266677e+06\n",
       "mean     7.789125e+00\n",
       "std      4.239684e+00\n",
       "min      1.000000e+00\n",
       "25%      4.200000e+00\n",
       "50%      7.400000e+00\n",
       "75%      1.130000e+01\n",
       "max      2.500000e+01\n",
       "Name: price, dtype: float64"
      ]
     },
     "execution_count": 7,
     "metadata": {},
     "output_type": "execute_result"
    }
   ],
   "source": [
    "df_testing['price'].describe()"
   ]
  },
  {
   "cell_type": "markdown",
   "id": "62a6300c",
   "metadata": {},
   "source": [
    "### assign product pricing flag\n",
    "    Low range product:     <5USD\n",
    "    Medium range product:  >=5USD <12USD\n",
    "    High range product:    >=12USD"
   ]
  },
  {
   "cell_type": "code",
   "execution_count": 8,
   "id": "c36675b3",
   "metadata": {},
   "outputs": [],
   "source": [
    "df_testing.loc[(df_testing['price'] <5), 'prod_price_range'] = 'Low Range Product'"
   ]
  },
  {
   "cell_type": "code",
   "execution_count": 9,
   "id": "edec760e",
   "metadata": {},
   "outputs": [],
   "source": [
    "df_testing.loc[(df_testing['price'] >=5) & (df_testing['price'] <12), 'prod_price_range'] = 'Medium Range Product'"
   ]
  },
  {
   "cell_type": "code",
   "execution_count": 10,
   "id": "0a63189d",
   "metadata": {},
   "outputs": [],
   "source": [
    "df_testing.loc[(df_testing['price'] >=12), 'prod_price_range'] = 'High Range Product'"
   ]
  },
  {
   "cell_type": "markdown",
   "id": "b80a6344",
   "metadata": {},
   "source": [
    "### review prod_price_range value counts"
   ]
  },
  {
   "cell_type": "code",
   "execution_count": 11,
   "id": "ce3f692a",
   "metadata": {},
   "outputs": [
    {
     "data": {
      "text/plain": [
       "Medium Range Product    4549280\n",
       "Low Range Product       2831726\n",
       "High Range Product      1885671\n",
       "NaN                        1471\n",
       "Name: prod_price_range, dtype: int64"
      ]
     },
     "execution_count": 11,
     "metadata": {},
     "output_type": "execute_result"
    }
   ],
   "source": [
    "df_testing['prod_price_range'].value_counts(dropna=False)"
   ]
  },
  {
   "cell_type": "markdown",
   "id": "55655cb4",
   "metadata": {},
   "source": [
    "### save null values product to subset for review"
   ]
  },
  {
   "cell_type": "code",
   "execution_count": 12,
   "id": "2096cd73",
   "metadata": {},
   "outputs": [
    {
     "data": {
      "text/html": [
       "<div>\n",
       "<style scoped>\n",
       "    .dataframe tbody tr th:only-of-type {\n",
       "        vertical-align: middle;\n",
       "    }\n",
       "\n",
       "    .dataframe tbody tr th {\n",
       "        vertical-align: top;\n",
       "    }\n",
       "\n",
       "    .dataframe thead th {\n",
       "        text-align: right;\n",
       "    }\n",
       "</style>\n",
       "<table border=\"1\" class=\"dataframe\">\n",
       "  <thead>\n",
       "    <tr style=\"text-align: right;\">\n",
       "      <th></th>\n",
       "      <th>order_id</th>\n",
       "      <th>user_id</th>\n",
       "      <th>number_of_orders</th>\n",
       "      <th>order_day_of_week</th>\n",
       "      <th>order_hour_of_day</th>\n",
       "      <th>days_since_prior_order</th>\n",
       "      <th>product_id</th>\n",
       "      <th>reordered</th>\n",
       "      <th>product_name</th>\n",
       "      <th>department_id</th>\n",
       "      <th>price</th>\n",
       "      <th>gender</th>\n",
       "      <th>state</th>\n",
       "      <th>age</th>\n",
       "      <th>n_dependants</th>\n",
       "      <th>marital_status</th>\n",
       "      <th>income</th>\n",
       "      <th>region</th>\n",
       "      <th>max_order</th>\n",
       "      <th>prod_price_range</th>\n",
       "    </tr>\n",
       "  </thead>\n",
       "  <tbody>\n",
       "    <tr>\n",
       "      <th>6763</th>\n",
       "      <td>1578338</td>\n",
       "      <td>3819</td>\n",
       "      <td>6</td>\n",
       "      <td>2</td>\n",
       "      <td>13</td>\n",
       "      <td>30.0</td>\n",
       "      <td>21553</td>\n",
       "      <td>1</td>\n",
       "      <td>Lowfat 2% Milkfat Cottage Cheese</td>\n",
       "      <td>16</td>\n",
       "      <td>NaN</td>\n",
       "      <td>Male</td>\n",
       "      <td>Utah</td>\n",
       "      <td>69</td>\n",
       "      <td>2</td>\n",
       "      <td>married</td>\n",
       "      <td>129749</td>\n",
       "      <td>West</td>\n",
       "      <td>10</td>\n",
       "      <td>NaN</td>\n",
       "    </tr>\n",
       "    <tr>\n",
       "      <th>9143</th>\n",
       "      <td>2977209</td>\n",
       "      <td>5218</td>\n",
       "      <td>8</td>\n",
       "      <td>4</td>\n",
       "      <td>15</td>\n",
       "      <td>12.0</td>\n",
       "      <td>21553</td>\n",
       "      <td>1</td>\n",
       "      <td>Lowfat 2% Milkfat Cottage Cheese</td>\n",
       "      <td>16</td>\n",
       "      <td>NaN</td>\n",
       "      <td>Female</td>\n",
       "      <td>Iowa</td>\n",
       "      <td>29</td>\n",
       "      <td>2</td>\n",
       "      <td>married</td>\n",
       "      <td>120566</td>\n",
       "      <td>Midwest</td>\n",
       "      <td>19</td>\n",
       "      <td>NaN</td>\n",
       "    </tr>\n",
       "    <tr>\n",
       "      <th>9144</th>\n",
       "      <td>2203682</td>\n",
       "      <td>5218</td>\n",
       "      <td>10</td>\n",
       "      <td>5</td>\n",
       "      <td>11</td>\n",
       "      <td>2.0</td>\n",
       "      <td>21553</td>\n",
       "      <td>1</td>\n",
       "      <td>Lowfat 2% Milkfat Cottage Cheese</td>\n",
       "      <td>16</td>\n",
       "      <td>NaN</td>\n",
       "      <td>Female</td>\n",
       "      <td>Iowa</td>\n",
       "      <td>29</td>\n",
       "      <td>2</td>\n",
       "      <td>married</td>\n",
       "      <td>120566</td>\n",
       "      <td>Midwest</td>\n",
       "      <td>19</td>\n",
       "      <td>NaN</td>\n",
       "    </tr>\n",
       "    <tr>\n",
       "      <th>19214</th>\n",
       "      <td>580648</td>\n",
       "      <td>10662</td>\n",
       "      <td>13</td>\n",
       "      <td>3</td>\n",
       "      <td>11</td>\n",
       "      <td>9.0</td>\n",
       "      <td>21553</td>\n",
       "      <td>0</td>\n",
       "      <td>Lowfat 2% Milkfat Cottage Cheese</td>\n",
       "      <td>16</td>\n",
       "      <td>NaN</td>\n",
       "      <td>Male</td>\n",
       "      <td>Arizona</td>\n",
       "      <td>45</td>\n",
       "      <td>3</td>\n",
       "      <td>married</td>\n",
       "      <td>147917</td>\n",
       "      <td>West</td>\n",
       "      <td>19</td>\n",
       "      <td>NaN</td>\n",
       "    </tr>\n",
       "    <tr>\n",
       "      <th>24616</th>\n",
       "      <td>3175959</td>\n",
       "      <td>13460</td>\n",
       "      <td>5</td>\n",
       "      <td>3</td>\n",
       "      <td>14</td>\n",
       "      <td>0.0</td>\n",
       "      <td>21553</td>\n",
       "      <td>1</td>\n",
       "      <td>Lowfat 2% Milkfat Cottage Cheese</td>\n",
       "      <td>16</td>\n",
       "      <td>NaN</td>\n",
       "      <td>Male</td>\n",
       "      <td>Virginia</td>\n",
       "      <td>73</td>\n",
       "      <td>1</td>\n",
       "      <td>married</td>\n",
       "      <td>215922</td>\n",
       "      <td>South</td>\n",
       "      <td>5</td>\n",
       "      <td>NaN</td>\n",
       "    </tr>\n",
       "  </tbody>\n",
       "</table>\n",
       "</div>"
      ],
      "text/plain": [
       "       order_id  user_id  number_of_orders  order_day_of_week  \\\n",
       "6763    1578338     3819                 6                  2   \n",
       "9143    2977209     5218                 8                  4   \n",
       "9144    2203682     5218                10                  5   \n",
       "19214    580648    10662                13                  3   \n",
       "24616   3175959    13460                 5                  3   \n",
       "\n",
       "       order_hour_of_day  days_since_prior_order  product_id  reordered  \\\n",
       "6763                  13                    30.0       21553          1   \n",
       "9143                  15                    12.0       21553          1   \n",
       "9144                  11                     2.0       21553          1   \n",
       "19214                 11                     9.0       21553          0   \n",
       "24616                 14                     0.0       21553          1   \n",
       "\n",
       "                           product_name  department_id  price  gender  \\\n",
       "6763   Lowfat 2% Milkfat Cottage Cheese             16    NaN    Male   \n",
       "9143   Lowfat 2% Milkfat Cottage Cheese             16    NaN  Female   \n",
       "9144   Lowfat 2% Milkfat Cottage Cheese             16    NaN  Female   \n",
       "19214  Lowfat 2% Milkfat Cottage Cheese             16    NaN    Male   \n",
       "24616  Lowfat 2% Milkfat Cottage Cheese             16    NaN    Male   \n",
       "\n",
       "          state  age  n_dependants marital_status  income   region  max_order  \\\n",
       "6763       Utah   69             2        married  129749     West         10   \n",
       "9143       Iowa   29             2        married  120566  Midwest         19   \n",
       "9144       Iowa   29             2        married  120566  Midwest         19   \n",
       "19214   Arizona   45             3        married  147917     West         19   \n",
       "24616  Virginia   73             1        married  215922    South          5   \n",
       "\n",
       "      prod_price_range  \n",
       "6763               NaN  \n",
       "9143               NaN  \n",
       "9144               NaN  \n",
       "19214              NaN  \n",
       "24616              NaN  "
      ]
     },
     "execution_count": 12,
     "metadata": {},
     "output_type": "execute_result"
    }
   ],
   "source": [
    "df_null = df_testing[df_testing['price'].isnull()]\n",
    "df_null.head()"
   ]
  },
  {
   "cell_type": "markdown",
   "id": "5f1b7db3",
   "metadata": {},
   "source": [
    "### count & list products affected by null pricing value"
   ]
  },
  {
   "cell_type": "code",
   "execution_count": 13,
   "id": "21d78317",
   "metadata": {},
   "outputs": [
    {
     "data": {
      "text/plain": [
       "2"
      ]
     },
     "execution_count": 13,
     "metadata": {},
     "output_type": "execute_result"
    }
   ],
   "source": [
    "len(df_null['product_name'].unique())"
   ]
  },
  {
   "cell_type": "code",
   "execution_count": 14,
   "id": "d6697759",
   "metadata": {},
   "outputs": [
    {
     "data": {
      "text/plain": [
       "Lowfat 2% Milkfat Cottage Cheese    1274\n",
       "2 % Reduced Fat  Milk                197\n",
       "Name: product_name, dtype: int64"
      ]
     },
     "execution_count": 14,
     "metadata": {},
     "output_type": "execute_result"
    }
   ],
   "source": [
    "df_null['product_name'].value_counts()"
   ]
  },
  {
   "cell_type": "markdown",
   "id": "8fb7436c",
   "metadata": {},
   "source": [
    "### place null value products into 'Low Price Range' product"
   ]
  },
  {
   "cell_type": "code",
   "execution_count": 15,
   "id": "6d2cf5c5",
   "metadata": {},
   "outputs": [],
   "source": [
    "df_testing.loc[(df_testing['price'].isnull()), 'prod_price_range'] = 'Low Range Product'"
   ]
  },
  {
   "cell_type": "markdown",
   "id": "33aeee53",
   "metadata": {},
   "source": [
    "### recheck value counts"
   ]
  },
  {
   "cell_type": "code",
   "execution_count": 16,
   "id": "e5aac819",
   "metadata": {},
   "outputs": [
    {
     "data": {
      "text/plain": [
       "Medium Range Product    4549280\n",
       "Low Range Product       2833197\n",
       "High Range Product      1885671\n",
       "Name: prod_price_range, dtype: int64"
      ]
     },
     "execution_count": 16,
     "metadata": {},
     "output_type": "execute_result"
    }
   ],
   "source": [
    "df_testing['prod_price_range'].value_counts(dropna=False)"
   ]
  },
  {
   "cell_type": "markdown",
   "id": "0ceaadf7",
   "metadata": {},
   "source": [
    "### copy value counts to clipboard"
   ]
  },
  {
   "cell_type": "code",
   "execution_count": 17,
   "id": "39985ba1",
   "metadata": {},
   "outputs": [],
   "source": [
    "prodpricerange = df_testing['prod_price_range'].value_counts()\n",
    "prodpricerange.to_clipboard()"
   ]
  },
  {
   "cell_type": "markdown",
   "id": "f83e360a",
   "metadata": {},
   "source": [
    "### create subset for low range products"
   ]
  },
  {
   "cell_type": "code",
   "execution_count": 18,
   "id": "3494ff42",
   "metadata": {},
   "outputs": [],
   "source": [
    "df_low = df_testing[df_testing['prod_price_range']=='Low Range Product']"
   ]
  },
  {
   "cell_type": "code",
   "execution_count": 19,
   "id": "a48abe2e",
   "metadata": {},
   "outputs": [
    {
     "data": {
      "text/plain": [
       "Low Range Product    2833197\n",
       "Name: prod_price_range, dtype: int64"
      ]
     },
     "execution_count": 19,
     "metadata": {},
     "output_type": "execute_result"
    }
   ],
   "source": [
    "df_low['prod_price_range'].value_counts()"
   ]
  },
  {
   "cell_type": "markdown",
   "id": "64353bd0",
   "metadata": {},
   "source": [
    "### calculate average price for low range product"
   ]
  },
  {
   "cell_type": "code",
   "execution_count": 20,
   "id": "b8c99315",
   "metadata": {},
   "outputs": [
    {
     "data": {
      "text/plain": [
       "2.978849754530339"
      ]
     },
     "execution_count": 20,
     "metadata": {},
     "output_type": "execute_result"
    }
   ],
   "source": [
    "df_low['price'].mean()"
   ]
  },
  {
   "cell_type": "markdown",
   "id": "3d090d08",
   "metadata": {},
   "source": [
    "### populate null value prices with 2.98USD"
   ]
  },
  {
   "cell_type": "code",
   "execution_count": 21,
   "id": "bacccaeb",
   "metadata": {},
   "outputs": [],
   "source": [
    "df_testing.loc[(df_testing['price'].isnull()), 'price'] = 2.98"
   ]
  },
  {
   "cell_type": "markdown",
   "id": "8e82ba3a",
   "metadata": {},
   "source": [
    "### check for null again"
   ]
  },
  {
   "cell_type": "code",
   "execution_count": 22,
   "id": "680c2318",
   "metadata": {},
   "outputs": [
    {
     "data": {
      "text/html": [
       "<div>\n",
       "<style scoped>\n",
       "    .dataframe tbody tr th:only-of-type {\n",
       "        vertical-align: middle;\n",
       "    }\n",
       "\n",
       "    .dataframe tbody tr th {\n",
       "        vertical-align: top;\n",
       "    }\n",
       "\n",
       "    .dataframe thead th {\n",
       "        text-align: right;\n",
       "    }\n",
       "</style>\n",
       "<table border=\"1\" class=\"dataframe\">\n",
       "  <thead>\n",
       "    <tr style=\"text-align: right;\">\n",
       "      <th></th>\n",
       "      <th>order_id</th>\n",
       "      <th>user_id</th>\n",
       "      <th>number_of_orders</th>\n",
       "      <th>order_day_of_week</th>\n",
       "      <th>order_hour_of_day</th>\n",
       "      <th>days_since_prior_order</th>\n",
       "      <th>product_id</th>\n",
       "      <th>reordered</th>\n",
       "      <th>product_name</th>\n",
       "      <th>department_id</th>\n",
       "      <th>price</th>\n",
       "      <th>gender</th>\n",
       "      <th>state</th>\n",
       "      <th>age</th>\n",
       "      <th>n_dependants</th>\n",
       "      <th>marital_status</th>\n",
       "      <th>income</th>\n",
       "      <th>region</th>\n",
       "      <th>max_order</th>\n",
       "      <th>prod_price_range</th>\n",
       "    </tr>\n",
       "  </thead>\n",
       "  <tbody>\n",
       "  </tbody>\n",
       "</table>\n",
       "</div>"
      ],
      "text/plain": [
       "Empty DataFrame\n",
       "Columns: [order_id, user_id, number_of_orders, order_day_of_week, order_hour_of_day, days_since_prior_order, product_id, reordered, product_name, department_id, price, gender, state, age, n_dependants, marital_status, income, region, max_order, prod_price_range]\n",
       "Index: []"
      ]
     },
     "execution_count": 22,
     "metadata": {},
     "output_type": "execute_result"
    }
   ],
   "source": [
    "df_testing[df_testing['price'].isnull()]"
   ]
  },
  {
   "cell_type": "markdown",
   "id": "769f3569",
   "metadata": {},
   "source": [
    "## Review of popular products"
   ]
  },
  {
   "cell_type": "markdown",
   "id": "17add8de",
   "metadata": {},
   "source": [
    "### total number of different products"
   ]
  },
  {
   "cell_type": "code",
   "execution_count": 23,
   "id": "4812bf19",
   "metadata": {},
   "outputs": [
    {
     "data": {
      "text/plain": [
       "48163"
      ]
     },
     "execution_count": 23,
     "metadata": {},
     "output_type": "execute_result"
    }
   ],
   "source": [
    "len(df_testing['product_name'].unique())"
   ]
  },
  {
   "cell_type": "markdown",
   "id": "b47e10aa",
   "metadata": {},
   "source": [
    "### calculate total number of orders per product"
   ]
  },
  {
   "cell_type": "code",
   "execution_count": 24,
   "id": "f895759c",
   "metadata": {},
   "outputs": [],
   "source": [
    "df_testing['sum_product_order'] = df_testing.groupby(['product_id']) ['number_of_orders'].transform(np.sum)"
   ]
  },
  {
   "cell_type": "markdown",
   "id": "217c9b2a",
   "metadata": {},
   "source": [
    "### review sum_product_order descriptive statistics"
   ]
  },
  {
   "cell_type": "code",
   "execution_count": 25,
   "id": "406bbbf4",
   "metadata": {},
   "outputs": [
    {
     "data": {
      "text/plain": [
       "count    9.268148e+06\n",
       "mean     1.957983e+05\n",
       "std      4.375462e+05\n",
       "min      1.000000e+00\n",
       "25%      8.140000e+03\n",
       "50%      3.443500e+04\n",
       "75%      1.485820e+05\n",
       "max      2.432147e+06\n",
       "Name: sum_product_order, dtype: float64"
      ]
     },
     "execution_count": 25,
     "metadata": {},
     "output_type": "execute_result"
    }
   ],
   "source": [
    "df_testing['sum_product_order'].describe()"
   ]
  },
  {
   "cell_type": "markdown",
   "id": "591b4fae",
   "metadata": {},
   "source": [
    "### create subset for items ordered more than 200,000 times"
   ]
  },
  {
   "cell_type": "code",
   "execution_count": 26,
   "id": "982d8707",
   "metadata": {},
   "outputs": [],
   "source": [
    "df_prodpop = df_testing[df_testing['sum_product_order']>200000]"
   ]
  },
  {
   "cell_type": "markdown",
   "id": "fb7216f4",
   "metadata": {},
   "source": [
    "### total number of unique products for popular ordering"
   ]
  },
  {
   "cell_type": "code",
   "execution_count": 27,
   "id": "954269a4",
   "metadata": {},
   "outputs": [
    {
     "data": {
      "text/plain": [
       "80"
      ]
     },
     "execution_count": 27,
     "metadata": {},
     "output_type": "execute_result"
    }
   ],
   "source": [
    "len(df_prodpop['product_name'].unique())"
   ]
  },
  {
   "cell_type": "code",
   "execution_count": 28,
   "id": "fb3469da",
   "metadata": {},
   "outputs": [
    {
     "data": {
      "text/plain": [
       "Banana                      135820\n",
       "Bag of Organic Bananas      109297\n",
       "Organic Strawberries         77137\n",
       "Organic Baby Spinach         69552\n",
       "Organic Hass Avocado         62180\n",
       "                             ...  \n",
       "Organic Broccoli             11027\n",
       "100% Raw Coconut Water       10973\n",
       "Organic Black Beans          10942\n",
       "Organic Reduced Fat Milk     10362\n",
       "Organic Carrot Bunch         10126\n",
       "Name: product_name, Length: 80, dtype: int64"
      ]
     },
     "execution_count": 28,
     "metadata": {},
     "output_type": "execute_result"
    }
   ],
   "source": [
    "df_prodpop['product_name'].value_counts()"
   ]
  },
  {
   "cell_type": "markdown",
   "id": "7285009b",
   "metadata": {},
   "source": [
    "#### 80 products have been ordered 200,000 times"
   ]
  },
  {
   "cell_type": "markdown",
   "id": "accdd155",
   "metadata": {},
   "source": [
    "### assign popular product flag: 'top_order'"
   ]
  },
  {
   "cell_type": "code",
   "execution_count": 33,
   "id": "d8c0335c",
   "metadata": {},
   "outputs": [],
   "source": [
    "df_testing.loc[(df_testing['sum_product_order'] >200000), 'top_order'] = 1"
   ]
  },
  {
   "cell_type": "code",
   "execution_count": 34,
   "id": "9cae1b40",
   "metadata": {},
   "outputs": [],
   "source": [
    "df_testing.loc[(df_testing['sum_product_order'] <=200000), 'top_order'] = 0"
   ]
  },
  {
   "cell_type": "code",
   "execution_count": 35,
   "id": "18e37898",
   "metadata": {},
   "outputs": [
    {
     "data": {
      "text/html": [
       "<div>\n",
       "<style scoped>\n",
       "    .dataframe tbody tr th:only-of-type {\n",
       "        vertical-align: middle;\n",
       "    }\n",
       "\n",
       "    .dataframe tbody tr th {\n",
       "        vertical-align: top;\n",
       "    }\n",
       "\n",
       "    .dataframe thead th {\n",
       "        text-align: right;\n",
       "    }\n",
       "</style>\n",
       "<table border=\"1\" class=\"dataframe\">\n",
       "  <thead>\n",
       "    <tr style=\"text-align: right;\">\n",
       "      <th></th>\n",
       "      <th>sum_product_order</th>\n",
       "      <th>top_order</th>\n",
       "    </tr>\n",
       "  </thead>\n",
       "  <tbody>\n",
       "    <tr>\n",
       "      <th>0</th>\n",
       "      <td>181305</td>\n",
       "      <td>0.0</td>\n",
       "    </tr>\n",
       "    <tr>\n",
       "      <th>1</th>\n",
       "      <td>181305</td>\n",
       "      <td>0.0</td>\n",
       "    </tr>\n",
       "    <tr>\n",
       "      <th>2</th>\n",
       "      <td>181305</td>\n",
       "      <td>0.0</td>\n",
       "    </tr>\n",
       "    <tr>\n",
       "      <th>3</th>\n",
       "      <td>181305</td>\n",
       "      <td>0.0</td>\n",
       "    </tr>\n",
       "    <tr>\n",
       "      <th>4</th>\n",
       "      <td>96579</td>\n",
       "      <td>0.0</td>\n",
       "    </tr>\n",
       "  </tbody>\n",
       "</table>\n",
       "</div>"
      ],
      "text/plain": [
       "   sum_product_order  top_order\n",
       "0             181305        0.0\n",
       "1             181305        0.0\n",
       "2             181305        0.0\n",
       "3             181305        0.0\n",
       "4              96579        0.0"
      ]
     },
     "execution_count": 35,
     "metadata": {},
     "output_type": "execute_result"
    }
   ],
   "source": [
    "df_testing[['sum_product_order','top_order']].head()"
   ]
  },
  {
   "cell_type": "markdown",
   "id": "3c26dc83",
   "metadata": {},
   "source": [
    "### check top_order value counts"
   ]
  },
  {
   "cell_type": "code",
   "execution_count": 37,
   "id": "9eeaea53",
   "metadata": {},
   "outputs": [
    {
     "data": {
      "text/plain": [
       "0.0    7327760\n",
       "1.0    1940388\n",
       "Name: top_order, dtype: int64"
      ]
     },
     "execution_count": 37,
     "metadata": {},
     "output_type": "execute_result"
    }
   ],
   "source": [
    "df_testing['top_order'].value_counts(dropna=False)"
   ]
  },
  {
   "cell_type": "markdown",
   "id": "22b17910",
   "metadata": {},
   "source": [
    "### list department_id from df_prodpop, top order"
   ]
  },
  {
   "cell_type": "code",
   "execution_count": 38,
   "id": "b7649a99",
   "metadata": {},
   "outputs": [
    {
     "data": {
      "text/html": [
       "<div>\n",
       "<style scoped>\n",
       "    .dataframe tbody tr th:only-of-type {\n",
       "        vertical-align: middle;\n",
       "    }\n",
       "\n",
       "    .dataframe tbody tr th {\n",
       "        vertical-align: top;\n",
       "    }\n",
       "\n",
       "    .dataframe thead th {\n",
       "        text-align: right;\n",
       "    }\n",
       "</style>\n",
       "<table border=\"1\" class=\"dataframe\">\n",
       "  <thead>\n",
       "    <tr style=\"text-align: right;\">\n",
       "      <th></th>\n",
       "      <th>order_id</th>\n",
       "      <th>user_id</th>\n",
       "      <th>number_of_orders</th>\n",
       "      <th>order_day_of_week</th>\n",
       "      <th>order_hour_of_day</th>\n",
       "      <th>days_since_prior_order</th>\n",
       "      <th>product_id</th>\n",
       "      <th>reordered</th>\n",
       "      <th>product_name</th>\n",
       "      <th>price</th>\n",
       "      <th>gender</th>\n",
       "      <th>state</th>\n",
       "      <th>age</th>\n",
       "      <th>n_dependants</th>\n",
       "      <th>marital_status</th>\n",
       "      <th>income</th>\n",
       "      <th>region</th>\n",
       "      <th>max_order</th>\n",
       "      <th>prod_price_range</th>\n",
       "      <th>sum_product_order</th>\n",
       "    </tr>\n",
       "    <tr>\n",
       "      <th>department_id</th>\n",
       "      <th></th>\n",
       "      <th></th>\n",
       "      <th></th>\n",
       "      <th></th>\n",
       "      <th></th>\n",
       "      <th></th>\n",
       "      <th></th>\n",
       "      <th></th>\n",
       "      <th></th>\n",
       "      <th></th>\n",
       "      <th></th>\n",
       "      <th></th>\n",
       "      <th></th>\n",
       "      <th></th>\n",
       "      <th></th>\n",
       "      <th></th>\n",
       "      <th></th>\n",
       "      <th></th>\n",
       "      <th></th>\n",
       "      <th></th>\n",
       "    </tr>\n",
       "  </thead>\n",
       "  <tbody>\n",
       "    <tr>\n",
       "      <th>1</th>\n",
       "      <td>15836</td>\n",
       "      <td>15836</td>\n",
       "      <td>15836</td>\n",
       "      <td>15836</td>\n",
       "      <td>15836</td>\n",
       "      <td>15836</td>\n",
       "      <td>15836</td>\n",
       "      <td>15836</td>\n",
       "      <td>15836</td>\n",
       "      <td>15836</td>\n",
       "      <td>15836</td>\n",
       "      <td>15836</td>\n",
       "      <td>15836</td>\n",
       "      <td>15836</td>\n",
       "      <td>15836</td>\n",
       "      <td>15836</td>\n",
       "      <td>15836</td>\n",
       "      <td>15836</td>\n",
       "      <td>15836</td>\n",
       "      <td>15836</td>\n",
       "    </tr>\n",
       "    <tr>\n",
       "      <th>3</th>\n",
       "      <td>17468</td>\n",
       "      <td>17468</td>\n",
       "      <td>17468</td>\n",
       "      <td>17468</td>\n",
       "      <td>17468</td>\n",
       "      <td>17468</td>\n",
       "      <td>17468</td>\n",
       "      <td>17468</td>\n",
       "      <td>17468</td>\n",
       "      <td>17468</td>\n",
       "      <td>17468</td>\n",
       "      <td>17468</td>\n",
       "      <td>17468</td>\n",
       "      <td>17468</td>\n",
       "      <td>17468</td>\n",
       "      <td>17468</td>\n",
       "      <td>17468</td>\n",
       "      <td>17468</td>\n",
       "      <td>17468</td>\n",
       "      <td>17468</td>\n",
       "    </tr>\n",
       "    <tr>\n",
       "      <th>4</th>\n",
       "      <td>1569732</td>\n",
       "      <td>1569732</td>\n",
       "      <td>1569732</td>\n",
       "      <td>1569732</td>\n",
       "      <td>1569732</td>\n",
       "      <td>1569732</td>\n",
       "      <td>1569732</td>\n",
       "      <td>1569732</td>\n",
       "      <td>1569732</td>\n",
       "      <td>1569732</td>\n",
       "      <td>1569732</td>\n",
       "      <td>1569732</td>\n",
       "      <td>1569732</td>\n",
       "      <td>1569732</td>\n",
       "      <td>1569732</td>\n",
       "      <td>1569732</td>\n",
       "      <td>1569732</td>\n",
       "      <td>1569732</td>\n",
       "      <td>1569732</td>\n",
       "      <td>1569732</td>\n",
       "    </tr>\n",
       "    <tr>\n",
       "      <th>7</th>\n",
       "      <td>74781</td>\n",
       "      <td>74781</td>\n",
       "      <td>74781</td>\n",
       "      <td>74781</td>\n",
       "      <td>74781</td>\n",
       "      <td>74781</td>\n",
       "      <td>74781</td>\n",
       "      <td>74781</td>\n",
       "      <td>74781</td>\n",
       "      <td>74781</td>\n",
       "      <td>74781</td>\n",
       "      <td>74781</td>\n",
       "      <td>74781</td>\n",
       "      <td>74781</td>\n",
       "      <td>74781</td>\n",
       "      <td>74781</td>\n",
       "      <td>74781</td>\n",
       "      <td>74781</td>\n",
       "      <td>74781</td>\n",
       "      <td>74781</td>\n",
       "    </tr>\n",
       "    <tr>\n",
       "      <th>12</th>\n",
       "      <td>14221</td>\n",
       "      <td>14221</td>\n",
       "      <td>14221</td>\n",
       "      <td>14221</td>\n",
       "      <td>14221</td>\n",
       "      <td>14221</td>\n",
       "      <td>14221</td>\n",
       "      <td>14221</td>\n",
       "      <td>14221</td>\n",
       "      <td>14221</td>\n",
       "      <td>14221</td>\n",
       "      <td>14221</td>\n",
       "      <td>14221</td>\n",
       "      <td>14221</td>\n",
       "      <td>14221</td>\n",
       "      <td>14221</td>\n",
       "      <td>14221</td>\n",
       "      <td>14221</td>\n",
       "      <td>14221</td>\n",
       "      <td>14221</td>\n",
       "    </tr>\n",
       "    <tr>\n",
       "      <th>13</th>\n",
       "      <td>14269</td>\n",
       "      <td>14269</td>\n",
       "      <td>14269</td>\n",
       "      <td>14269</td>\n",
       "      <td>14269</td>\n",
       "      <td>14269</td>\n",
       "      <td>14269</td>\n",
       "      <td>14269</td>\n",
       "      <td>14269</td>\n",
       "      <td>14269</td>\n",
       "      <td>14269</td>\n",
       "      <td>14269</td>\n",
       "      <td>14269</td>\n",
       "      <td>14269</td>\n",
       "      <td>14269</td>\n",
       "      <td>14269</td>\n",
       "      <td>14269</td>\n",
       "      <td>14269</td>\n",
       "      <td>14269</td>\n",
       "      <td>14269</td>\n",
       "    </tr>\n",
       "    <tr>\n",
       "      <th>15</th>\n",
       "      <td>10942</td>\n",
       "      <td>10942</td>\n",
       "      <td>10942</td>\n",
       "      <td>10942</td>\n",
       "      <td>10942</td>\n",
       "      <td>10942</td>\n",
       "      <td>10942</td>\n",
       "      <td>10942</td>\n",
       "      <td>10942</td>\n",
       "      <td>10942</td>\n",
       "      <td>10942</td>\n",
       "      <td>10942</td>\n",
       "      <td>10942</td>\n",
       "      <td>10942</td>\n",
       "      <td>10942</td>\n",
       "      <td>10942</td>\n",
       "      <td>10942</td>\n",
       "      <td>10942</td>\n",
       "      <td>10942</td>\n",
       "      <td>10942</td>\n",
       "    </tr>\n",
       "    <tr>\n",
       "      <th>16</th>\n",
       "      <td>190697</td>\n",
       "      <td>190697</td>\n",
       "      <td>190697</td>\n",
       "      <td>190697</td>\n",
       "      <td>190697</td>\n",
       "      <td>190697</td>\n",
       "      <td>190697</td>\n",
       "      <td>190697</td>\n",
       "      <td>190697</td>\n",
       "      <td>190697</td>\n",
       "      <td>190697</td>\n",
       "      <td>190697</td>\n",
       "      <td>190697</td>\n",
       "      <td>190697</td>\n",
       "      <td>190697</td>\n",
       "      <td>190697</td>\n",
       "      <td>190697</td>\n",
       "      <td>190697</td>\n",
       "      <td>190697</td>\n",
       "      <td>190697</td>\n",
       "    </tr>\n",
       "    <tr>\n",
       "      <th>20</th>\n",
       "      <td>32442</td>\n",
       "      <td>32442</td>\n",
       "      <td>32442</td>\n",
       "      <td>32442</td>\n",
       "      <td>32442</td>\n",
       "      <td>32442</td>\n",
       "      <td>32442</td>\n",
       "      <td>32442</td>\n",
       "      <td>32442</td>\n",
       "      <td>32442</td>\n",
       "      <td>32442</td>\n",
       "      <td>32442</td>\n",
       "      <td>32442</td>\n",
       "      <td>32442</td>\n",
       "      <td>32442</td>\n",
       "      <td>32442</td>\n",
       "      <td>32442</td>\n",
       "      <td>32442</td>\n",
       "      <td>32442</td>\n",
       "      <td>32442</td>\n",
       "    </tr>\n",
       "  </tbody>\n",
       "</table>\n",
       "</div>"
      ],
      "text/plain": [
       "               order_id  user_id  number_of_orders  order_day_of_week  \\\n",
       "department_id                                                           \n",
       "1                 15836    15836             15836              15836   \n",
       "3                 17468    17468             17468              17468   \n",
       "4               1569732  1569732           1569732            1569732   \n",
       "7                 74781    74781             74781              74781   \n",
       "12                14221    14221             14221              14221   \n",
       "13                14269    14269             14269              14269   \n",
       "15                10942    10942             10942              10942   \n",
       "16               190697   190697            190697             190697   \n",
       "20                32442    32442             32442              32442   \n",
       "\n",
       "               order_hour_of_day  days_since_prior_order  product_id  \\\n",
       "department_id                                                          \n",
       "1                          15836                   15836       15836   \n",
       "3                          17468                   17468       17468   \n",
       "4                        1569732                 1569732     1569732   \n",
       "7                          74781                   74781       74781   \n",
       "12                         14221                   14221       14221   \n",
       "13                         14269                   14269       14269   \n",
       "15                         10942                   10942       10942   \n",
       "16                        190697                  190697      190697   \n",
       "20                         32442                   32442       32442   \n",
       "\n",
       "               reordered  product_name    price   gender    state      age  \\\n",
       "department_id                                                                \n",
       "1                  15836         15836    15836    15836    15836    15836   \n",
       "3                  17468         17468    17468    17468    17468    17468   \n",
       "4                1569732       1569732  1569732  1569732  1569732  1569732   \n",
       "7                  74781         74781    74781    74781    74781    74781   \n",
       "12                 14221         14221    14221    14221    14221    14221   \n",
       "13                 14269         14269    14269    14269    14269    14269   \n",
       "15                 10942         10942    10942    10942    10942    10942   \n",
       "16                190697        190697   190697   190697   190697   190697   \n",
       "20                 32442         32442    32442    32442    32442    32442   \n",
       "\n",
       "               n_dependants  marital_status   income   region  max_order  \\\n",
       "department_id                                                              \n",
       "1                     15836           15836    15836    15836      15836   \n",
       "3                     17468           17468    17468    17468      17468   \n",
       "4                   1569732         1569732  1569732  1569732    1569732   \n",
       "7                     74781           74781    74781    74781      74781   \n",
       "12                    14221           14221    14221    14221      14221   \n",
       "13                    14269           14269    14269    14269      14269   \n",
       "15                    10942           10942    10942    10942      10942   \n",
       "16                   190697          190697   190697   190697     190697   \n",
       "20                    32442           32442    32442    32442      32442   \n",
       "\n",
       "               prod_price_range  sum_product_order  \n",
       "department_id                                       \n",
       "1                         15836              15836  \n",
       "3                         17468              17468  \n",
       "4                       1569732            1569732  \n",
       "7                         74781              74781  \n",
       "12                        14221              14221  \n",
       "13                        14269              14269  \n",
       "15                        10942              10942  \n",
       "16                       190697             190697  \n",
       "20                        32442              32442  "
      ]
     },
     "execution_count": 38,
     "metadata": {},
     "output_type": "execute_result"
    }
   ],
   "source": [
    "df_prodpop.groupby(['department_id']).count()"
   ]
  },
  {
   "cell_type": "markdown",
   "id": "0e8bc06b",
   "metadata": {},
   "source": [
    "### create list of dept ids for later use"
   ]
  },
  {
   "cell_type": "code",
   "execution_count": 39,
   "id": "b851bb42",
   "metadata": {},
   "outputs": [
    {
     "data": {
      "text/plain": [
       "[1, 3, 4, 7, 12, 13, 15, 16, 20]"
      ]
     },
     "execution_count": 39,
     "metadata": {},
     "output_type": "execute_result"
    }
   ],
   "source": [
    "deptpop = [1,3,4,7,12,13,15,16,20]\n",
    "deptpop"
   ]
  },
  {
   "cell_type": "markdown",
   "id": "d7ca59e8",
   "metadata": {},
   "source": [
    "## Review of product revenue generation"
   ]
  },
  {
   "cell_type": "markdown",
   "id": "a8613ffc",
   "metadata": {},
   "source": [
    "### calculate total revenue for the full data set (to help get perspective)"
   ]
  },
  {
   "cell_type": "code",
   "execution_count": 40,
   "id": "5e3692ef",
   "metadata": {},
   "outputs": [
    {
     "data": {
      "text/plain": [
       "72183689.77999997"
      ]
     },
     "execution_count": 40,
     "metadata": {},
     "output_type": "execute_result"
    }
   ],
   "source": [
    "total_rev = df_testing['price'].sum()\n",
    "total_rev"
   ]
  },
  {
   "cell_type": "markdown",
   "id": "63157df2",
   "metadata": {},
   "source": [
    "### groupby 'product_id' and calculate total revenue per product"
   ]
  },
  {
   "cell_type": "code",
   "execution_count": 41,
   "id": "29e53b88",
   "metadata": {},
   "outputs": [],
   "source": [
    "df_testing['product_revenue'] = df_testing.groupby(['product_id']) ['price'].transform(np.sum)"
   ]
  },
  {
   "cell_type": "code",
   "execution_count": 42,
   "id": "be9ae13e",
   "metadata": {},
   "outputs": [
    {
     "data": {
      "text/html": [
       "<div>\n",
       "<style scoped>\n",
       "    .dataframe tbody tr th:only-of-type {\n",
       "        vertical-align: middle;\n",
       "    }\n",
       "\n",
       "    .dataframe tbody tr th {\n",
       "        vertical-align: top;\n",
       "    }\n",
       "\n",
       "    .dataframe thead th {\n",
       "        text-align: right;\n",
       "    }\n",
       "</style>\n",
       "<table border=\"1\" class=\"dataframe\">\n",
       "  <thead>\n",
       "    <tr style=\"text-align: right;\">\n",
       "      <th></th>\n",
       "      <th>product_name</th>\n",
       "      <th>price</th>\n",
       "      <th>product_revenue</th>\n",
       "    </tr>\n",
       "  </thead>\n",
       "  <tbody>\n",
       "    <tr>\n",
       "      <th>0</th>\n",
       "      <td>Soda</td>\n",
       "      <td>9.0</td>\n",
       "      <td>91152.0</td>\n",
       "    </tr>\n",
       "    <tr>\n",
       "      <th>1</th>\n",
       "      <td>Soda</td>\n",
       "      <td>9.0</td>\n",
       "      <td>91152.0</td>\n",
       "    </tr>\n",
       "    <tr>\n",
       "      <th>2</th>\n",
       "      <td>Soda</td>\n",
       "      <td>9.0</td>\n",
       "      <td>91152.0</td>\n",
       "    </tr>\n",
       "    <tr>\n",
       "      <th>3</th>\n",
       "      <td>Soda</td>\n",
       "      <td>9.0</td>\n",
       "      <td>91152.0</td>\n",
       "    </tr>\n",
       "    <tr>\n",
       "      <th>4</th>\n",
       "      <td>Organic Unsweetened Vanilla Almond Milk</td>\n",
       "      <td>12.5</td>\n",
       "      <td>58687.5</td>\n",
       "    </tr>\n",
       "  </tbody>\n",
       "</table>\n",
       "</div>"
      ],
      "text/plain": [
       "                              product_name  price  product_revenue\n",
       "0                                     Soda    9.0          91152.0\n",
       "1                                     Soda    9.0          91152.0\n",
       "2                                     Soda    9.0          91152.0\n",
       "3                                     Soda    9.0          91152.0\n",
       "4  Organic Unsweetened Vanilla Almond Milk   12.5          58687.5"
      ]
     },
     "execution_count": 42,
     "metadata": {},
     "output_type": "execute_result"
    }
   ],
   "source": [
    "df_testing[['product_name','price','product_revenue']].head()"
   ]
  },
  {
   "cell_type": "markdown",
   "id": "256fb91b",
   "metadata": {},
   "source": [
    "### review product_revenue descriptive statistics"
   ]
  },
  {
   "cell_type": "code",
   "execution_count": 43,
   "id": "eead3e9f",
   "metadata": {},
   "outputs": [
    {
     "data": {
      "text/plain": [
       "count    9.268148e+06\n",
       "mean     9.135354e+04\n",
       "std      2.501206e+05\n",
       "min      1.000000e+00\n",
       "25%      2.724400e+03\n",
       "50%      1.264860e+04\n",
       "75%      5.361830e+04\n",
       "max      1.670586e+06\n",
       "Name: product_revenue, dtype: float64"
      ]
     },
     "execution_count": 43,
     "metadata": {},
     "output_type": "execute_result"
    }
   ],
   "source": [
    "df_testing['product_revenue'].describe()"
   ]
  },
  {
   "cell_type": "markdown",
   "id": "ddad4cc8",
   "metadata": {},
   "source": [
    "### create subset for product generating over $100,000"
   ]
  },
  {
   "cell_type": "code",
   "execution_count": 44,
   "id": "c0bdbd65",
   "metadata": {},
   "outputs": [],
   "source": [
    "df_prodrev = df_testing[df_testing['product_revenue'] > 100000]"
   ]
  },
  {
   "cell_type": "markdown",
   "id": "04e8a72d",
   "metadata": {},
   "source": [
    "### count number of products that contribute > $100,000"
   ]
  },
  {
   "cell_type": "code",
   "execution_count": 45,
   "id": "13d9fec5",
   "metadata": {},
   "outputs": [
    {
     "data": {
      "text/plain": [
       "67"
      ]
     },
     "execution_count": 45,
     "metadata": {},
     "output_type": "execute_result"
    }
   ],
   "source": [
    "len(df_prodrev['product_name'].unique())"
   ]
  },
  {
   "cell_type": "markdown",
   "id": "a2f16424",
   "metadata": {},
   "source": [
    "#### 67 products that contribute > $100,000 revenue"
   ]
  },
  {
   "cell_type": "markdown",
   "id": "6c36b76f",
   "metadata": {},
   "source": [
    "### assign flag to big_revenue products"
   ]
  },
  {
   "cell_type": "code",
   "execution_count": 46,
   "id": "e54f4079",
   "metadata": {},
   "outputs": [],
   "source": [
    "df_testing.loc[(df_testing['product_revenue'] >100000), 'big_revenue'] = 1"
   ]
  },
  {
   "cell_type": "code",
   "execution_count": 47,
   "id": "cd40459c",
   "metadata": {},
   "outputs": [],
   "source": [
    "df_testing.loc[(df_testing['product_revenue'] <=100000), 'big_revenue'] = 0"
   ]
  },
  {
   "cell_type": "markdown",
   "id": "7e4444c4",
   "metadata": {},
   "source": [
    "### check new columns"
   ]
  },
  {
   "cell_type": "code",
   "execution_count": 48,
   "id": "cddfdf5d",
   "metadata": {},
   "outputs": [
    {
     "data": {
      "text/html": [
       "<div>\n",
       "<style scoped>\n",
       "    .dataframe tbody tr th:only-of-type {\n",
       "        vertical-align: middle;\n",
       "    }\n",
       "\n",
       "    .dataframe tbody tr th {\n",
       "        vertical-align: top;\n",
       "    }\n",
       "\n",
       "    .dataframe thead th {\n",
       "        text-align: right;\n",
       "    }\n",
       "</style>\n",
       "<table border=\"1\" class=\"dataframe\">\n",
       "  <thead>\n",
       "    <tr style=\"text-align: right;\">\n",
       "      <th></th>\n",
       "      <th>product_name</th>\n",
       "      <th>product_revenue</th>\n",
       "      <th>big_revenue</th>\n",
       "    </tr>\n",
       "  </thead>\n",
       "  <tbody>\n",
       "    <tr>\n",
       "      <th>0</th>\n",
       "      <td>Soda</td>\n",
       "      <td>91152.0</td>\n",
       "      <td>0.0</td>\n",
       "    </tr>\n",
       "    <tr>\n",
       "      <th>1</th>\n",
       "      <td>Soda</td>\n",
       "      <td>91152.0</td>\n",
       "      <td>0.0</td>\n",
       "    </tr>\n",
       "    <tr>\n",
       "      <th>2</th>\n",
       "      <td>Soda</td>\n",
       "      <td>91152.0</td>\n",
       "      <td>0.0</td>\n",
       "    </tr>\n",
       "    <tr>\n",
       "      <th>3</th>\n",
       "      <td>Soda</td>\n",
       "      <td>91152.0</td>\n",
       "      <td>0.0</td>\n",
       "    </tr>\n",
       "    <tr>\n",
       "      <th>4</th>\n",
       "      <td>Organic Unsweetened Vanilla Almond Milk</td>\n",
       "      <td>58687.5</td>\n",
       "      <td>0.0</td>\n",
       "    </tr>\n",
       "    <tr>\n",
       "      <th>5</th>\n",
       "      <td>Original Beef Jerky</td>\n",
       "      <td>8166.4</td>\n",
       "      <td>0.0</td>\n",
       "    </tr>\n",
       "    <tr>\n",
       "      <th>6</th>\n",
       "      <td>Original Beef Jerky</td>\n",
       "      <td>8166.4</td>\n",
       "      <td>0.0</td>\n",
       "    </tr>\n",
       "    <tr>\n",
       "      <th>7</th>\n",
       "      <td>Original Beef Jerky</td>\n",
       "      <td>8166.4</td>\n",
       "      <td>0.0</td>\n",
       "    </tr>\n",
       "    <tr>\n",
       "      <th>8</th>\n",
       "      <td>Aged White Cheddar Popcorn</td>\n",
       "      <td>3351.1</td>\n",
       "      <td>0.0</td>\n",
       "    </tr>\n",
       "    <tr>\n",
       "      <th>9</th>\n",
       "      <td>Aged White Cheddar Popcorn</td>\n",
       "      <td>3351.1</td>\n",
       "      <td>0.0</td>\n",
       "    </tr>\n",
       "    <tr>\n",
       "      <th>10</th>\n",
       "      <td>XL Pick-A-Size Paper Towel Rolls</td>\n",
       "      <td>323.0</td>\n",
       "      <td>0.0</td>\n",
       "    </tr>\n",
       "    <tr>\n",
       "      <th>11</th>\n",
       "      <td>Pistachios</td>\n",
       "      <td>1620.0</td>\n",
       "      <td>0.0</td>\n",
       "    </tr>\n",
       "    <tr>\n",
       "      <th>12</th>\n",
       "      <td>Pistachios</td>\n",
       "      <td>1620.0</td>\n",
       "      <td>0.0</td>\n",
       "    </tr>\n",
       "    <tr>\n",
       "      <th>13</th>\n",
       "      <td>Organic String Cheese</td>\n",
       "      <td>15488.6</td>\n",
       "      <td>0.0</td>\n",
       "    </tr>\n",
       "    <tr>\n",
       "      <th>14</th>\n",
       "      <td>Bartlett Pears</td>\n",
       "      <td>50520.0</td>\n",
       "      <td>0.0</td>\n",
       "    </tr>\n",
       "    <tr>\n",
       "      <th>15</th>\n",
       "      <td>Milk Chocolate Almonds</td>\n",
       "      <td>10111.6</td>\n",
       "      <td>0.0</td>\n",
       "    </tr>\n",
       "    <tr>\n",
       "      <th>16</th>\n",
       "      <td>Organic Unsweetened Almond Milk</td>\n",
       "      <td>21832.2</td>\n",
       "      <td>0.0</td>\n",
       "    </tr>\n",
       "    <tr>\n",
       "      <th>17</th>\n",
       "      <td>Soda</td>\n",
       "      <td>91152.0</td>\n",
       "      <td>0.0</td>\n",
       "    </tr>\n",
       "    <tr>\n",
       "      <th>18</th>\n",
       "      <td>Original Beef Jerky</td>\n",
       "      <td>8166.4</td>\n",
       "      <td>0.0</td>\n",
       "    </tr>\n",
       "    <tr>\n",
       "      <th>19</th>\n",
       "      <td>Original Beef Jerky</td>\n",
       "      <td>8166.4</td>\n",
       "      <td>0.0</td>\n",
       "    </tr>\n",
       "  </tbody>\n",
       "</table>\n",
       "</div>"
      ],
      "text/plain": [
       "                               product_name  product_revenue  big_revenue\n",
       "0                                      Soda          91152.0          0.0\n",
       "1                                      Soda          91152.0          0.0\n",
       "2                                      Soda          91152.0          0.0\n",
       "3                                      Soda          91152.0          0.0\n",
       "4   Organic Unsweetened Vanilla Almond Milk          58687.5          0.0\n",
       "5                       Original Beef Jerky           8166.4          0.0\n",
       "6                       Original Beef Jerky           8166.4          0.0\n",
       "7                       Original Beef Jerky           8166.4          0.0\n",
       "8                Aged White Cheddar Popcorn           3351.1          0.0\n",
       "9                Aged White Cheddar Popcorn           3351.1          0.0\n",
       "10         XL Pick-A-Size Paper Towel Rolls            323.0          0.0\n",
       "11                               Pistachios           1620.0          0.0\n",
       "12                               Pistachios           1620.0          0.0\n",
       "13                    Organic String Cheese          15488.6          0.0\n",
       "14                           Bartlett Pears          50520.0          0.0\n",
       "15                   Milk Chocolate Almonds          10111.6          0.0\n",
       "16          Organic Unsweetened Almond Milk          21832.2          0.0\n",
       "17                                     Soda          91152.0          0.0\n",
       "18                      Original Beef Jerky           8166.4          0.0\n",
       "19                      Original Beef Jerky           8166.4          0.0"
      ]
     },
     "execution_count": 48,
     "metadata": {},
     "output_type": "execute_result"
    }
   ],
   "source": [
    "df_testing[['product_name','product_revenue','big_revenue']].head(20)"
   ]
  },
  {
   "cell_type": "markdown",
   "id": "234ba40d",
   "metadata": {},
   "source": [
    "### check big_revenue value counts"
   ]
  },
  {
   "cell_type": "code",
   "execution_count": 49,
   "id": "494f4d31",
   "metadata": {},
   "outputs": [
    {
     "data": {
      "text/plain": [
       "0.0    7714273\n",
       "1.0    1553875\n",
       "Name: big_revenue, dtype: int64"
      ]
     },
     "execution_count": 49,
     "metadata": {},
     "output_type": "execute_result"
    }
   ],
   "source": [
    "df_testing['big_revenue'].value_counts(dropna=False)"
   ]
  },
  {
   "cell_type": "markdown",
   "id": "f3b29b13",
   "metadata": {},
   "source": [
    "### count number of departments associated with big_revenue"
   ]
  },
  {
   "cell_type": "code",
   "execution_count": 50,
   "id": "20bc4ad8",
   "metadata": {},
   "outputs": [
    {
     "data": {
      "text/plain": [
       "6"
      ]
     },
     "execution_count": 50,
     "metadata": {},
     "output_type": "execute_result"
    }
   ],
   "source": [
    "len(df_prodrev['department_id'].unique())"
   ]
  },
  {
   "cell_type": "markdown",
   "id": "0e17f899",
   "metadata": {},
   "source": [
    "### list depertment_id from top products for revenue in df_prodrev"
   ]
  },
  {
   "cell_type": "code",
   "execution_count": 51,
   "id": "27c10af1",
   "metadata": {},
   "outputs": [
    {
     "data": {
      "text/html": [
       "<div>\n",
       "<style scoped>\n",
       "    .dataframe tbody tr th:only-of-type {\n",
       "        vertical-align: middle;\n",
       "    }\n",
       "\n",
       "    .dataframe tbody tr th {\n",
       "        vertical-align: top;\n",
       "    }\n",
       "\n",
       "    .dataframe thead th {\n",
       "        text-align: right;\n",
       "    }\n",
       "</style>\n",
       "<table border=\"1\" class=\"dataframe\">\n",
       "  <thead>\n",
       "    <tr style=\"text-align: right;\">\n",
       "      <th></th>\n",
       "      <th>order_id</th>\n",
       "      <th>user_id</th>\n",
       "      <th>number_of_orders</th>\n",
       "      <th>order_day_of_week</th>\n",
       "      <th>order_hour_of_day</th>\n",
       "      <th>days_since_prior_order</th>\n",
       "      <th>product_id</th>\n",
       "      <th>reordered</th>\n",
       "      <th>product_name</th>\n",
       "      <th>price</th>\n",
       "      <th>...</th>\n",
       "      <th>age</th>\n",
       "      <th>n_dependants</th>\n",
       "      <th>marital_status</th>\n",
       "      <th>income</th>\n",
       "      <th>region</th>\n",
       "      <th>max_order</th>\n",
       "      <th>prod_price_range</th>\n",
       "      <th>sum_product_order</th>\n",
       "      <th>top_order</th>\n",
       "      <th>product_revenue</th>\n",
       "    </tr>\n",
       "    <tr>\n",
       "      <th>department_id</th>\n",
       "      <th></th>\n",
       "      <th></th>\n",
       "      <th></th>\n",
       "      <th></th>\n",
       "      <th></th>\n",
       "      <th></th>\n",
       "      <th></th>\n",
       "      <th></th>\n",
       "      <th></th>\n",
       "      <th></th>\n",
       "      <th></th>\n",
       "      <th></th>\n",
       "      <th></th>\n",
       "      <th></th>\n",
       "      <th></th>\n",
       "      <th></th>\n",
       "      <th></th>\n",
       "      <th></th>\n",
       "      <th></th>\n",
       "      <th></th>\n",
       "      <th></th>\n",
       "    </tr>\n",
       "  </thead>\n",
       "  <tbody>\n",
       "    <tr>\n",
       "      <th>1</th>\n",
       "      <td>15836</td>\n",
       "      <td>15836</td>\n",
       "      <td>15836</td>\n",
       "      <td>15836</td>\n",
       "      <td>15836</td>\n",
       "      <td>15836</td>\n",
       "      <td>15836</td>\n",
       "      <td>15836</td>\n",
       "      <td>15836</td>\n",
       "      <td>15836</td>\n",
       "      <td>...</td>\n",
       "      <td>15836</td>\n",
       "      <td>15836</td>\n",
       "      <td>15836</td>\n",
       "      <td>15836</td>\n",
       "      <td>15836</td>\n",
       "      <td>15836</td>\n",
       "      <td>15836</td>\n",
       "      <td>15836</td>\n",
       "      <td>15836</td>\n",
       "      <td>15836</td>\n",
       "    </tr>\n",
       "    <tr>\n",
       "      <th>4</th>\n",
       "      <td>1260899</td>\n",
       "      <td>1260899</td>\n",
       "      <td>1260899</td>\n",
       "      <td>1260899</td>\n",
       "      <td>1260899</td>\n",
       "      <td>1260899</td>\n",
       "      <td>1260899</td>\n",
       "      <td>1260899</td>\n",
       "      <td>1260899</td>\n",
       "      <td>1260899</td>\n",
       "      <td>...</td>\n",
       "      <td>1260899</td>\n",
       "      <td>1260899</td>\n",
       "      <td>1260899</td>\n",
       "      <td>1260899</td>\n",
       "      <td>1260899</td>\n",
       "      <td>1260899</td>\n",
       "      <td>1260899</td>\n",
       "      <td>1260899</td>\n",
       "      <td>1260899</td>\n",
       "      <td>1260899</td>\n",
       "    </tr>\n",
       "    <tr>\n",
       "      <th>7</th>\n",
       "      <td>22773</td>\n",
       "      <td>22773</td>\n",
       "      <td>22773</td>\n",
       "      <td>22773</td>\n",
       "      <td>22773</td>\n",
       "      <td>22773</td>\n",
       "      <td>22773</td>\n",
       "      <td>22773</td>\n",
       "      <td>22773</td>\n",
       "      <td>22773</td>\n",
       "      <td>...</td>\n",
       "      <td>22773</td>\n",
       "      <td>22773</td>\n",
       "      <td>22773</td>\n",
       "      <td>22773</td>\n",
       "      <td>22773</td>\n",
       "      <td>22773</td>\n",
       "      <td>22773</td>\n",
       "      <td>22773</td>\n",
       "      <td>22773</td>\n",
       "      <td>22773</td>\n",
       "    </tr>\n",
       "    <tr>\n",
       "      <th>12</th>\n",
       "      <td>31294</td>\n",
       "      <td>31294</td>\n",
       "      <td>31294</td>\n",
       "      <td>31294</td>\n",
       "      <td>31294</td>\n",
       "      <td>31294</td>\n",
       "      <td>31294</td>\n",
       "      <td>31294</td>\n",
       "      <td>31294</td>\n",
       "      <td>31294</td>\n",
       "      <td>...</td>\n",
       "      <td>31294</td>\n",
       "      <td>31294</td>\n",
       "      <td>31294</td>\n",
       "      <td>31294</td>\n",
       "      <td>31294</td>\n",
       "      <td>31294</td>\n",
       "      <td>31294</td>\n",
       "      <td>31294</td>\n",
       "      <td>31294</td>\n",
       "      <td>31294</td>\n",
       "    </tr>\n",
       "    <tr>\n",
       "      <th>16</th>\n",
       "      <td>182390</td>\n",
       "      <td>182390</td>\n",
       "      <td>182390</td>\n",
       "      <td>182390</td>\n",
       "      <td>182390</td>\n",
       "      <td>182390</td>\n",
       "      <td>182390</td>\n",
       "      <td>182390</td>\n",
       "      <td>182390</td>\n",
       "      <td>182390</td>\n",
       "      <td>...</td>\n",
       "      <td>182390</td>\n",
       "      <td>182390</td>\n",
       "      <td>182390</td>\n",
       "      <td>182390</td>\n",
       "      <td>182390</td>\n",
       "      <td>182390</td>\n",
       "      <td>182390</td>\n",
       "      <td>182390</td>\n",
       "      <td>182390</td>\n",
       "      <td>182390</td>\n",
       "    </tr>\n",
       "    <tr>\n",
       "      <th>20</th>\n",
       "      <td>40683</td>\n",
       "      <td>40683</td>\n",
       "      <td>40683</td>\n",
       "      <td>40683</td>\n",
       "      <td>40683</td>\n",
       "      <td>40683</td>\n",
       "      <td>40683</td>\n",
       "      <td>40683</td>\n",
       "      <td>40683</td>\n",
       "      <td>40683</td>\n",
       "      <td>...</td>\n",
       "      <td>40683</td>\n",
       "      <td>40683</td>\n",
       "      <td>40683</td>\n",
       "      <td>40683</td>\n",
       "      <td>40683</td>\n",
       "      <td>40683</td>\n",
       "      <td>40683</td>\n",
       "      <td>40683</td>\n",
       "      <td>40683</td>\n",
       "      <td>40683</td>\n",
       "    </tr>\n",
       "  </tbody>\n",
       "</table>\n",
       "<p>6 rows × 22 columns</p>\n",
       "</div>"
      ],
      "text/plain": [
       "               order_id  user_id  number_of_orders  order_day_of_week  \\\n",
       "department_id                                                           \n",
       "1                 15836    15836             15836              15836   \n",
       "4               1260899  1260899           1260899            1260899   \n",
       "7                 22773    22773             22773              22773   \n",
       "12                31294    31294             31294              31294   \n",
       "16               182390   182390            182390             182390   \n",
       "20                40683    40683             40683              40683   \n",
       "\n",
       "               order_hour_of_day  days_since_prior_order  product_id  \\\n",
       "department_id                                                          \n",
       "1                          15836                   15836       15836   \n",
       "4                        1260899                 1260899     1260899   \n",
       "7                          22773                   22773       22773   \n",
       "12                         31294                   31294       31294   \n",
       "16                        182390                  182390      182390   \n",
       "20                         40683                   40683       40683   \n",
       "\n",
       "               reordered  product_name    price  ...      age  n_dependants  \\\n",
       "department_id                                    ...                          \n",
       "1                  15836         15836    15836  ...    15836         15836   \n",
       "4                1260899       1260899  1260899  ...  1260899       1260899   \n",
       "7                  22773         22773    22773  ...    22773         22773   \n",
       "12                 31294         31294    31294  ...    31294         31294   \n",
       "16                182390        182390   182390  ...   182390        182390   \n",
       "20                 40683         40683    40683  ...    40683         40683   \n",
       "\n",
       "               marital_status   income   region  max_order  prod_price_range  \\\n",
       "department_id                                                                  \n",
       "1                       15836    15836    15836      15836             15836   \n",
       "4                     1260899  1260899  1260899    1260899           1260899   \n",
       "7                       22773    22773    22773      22773             22773   \n",
       "12                      31294    31294    31294      31294             31294   \n",
       "16                     182390   182390   182390     182390            182390   \n",
       "20                      40683    40683    40683      40683             40683   \n",
       "\n",
       "               sum_product_order  top_order  product_revenue  \n",
       "department_id                                                 \n",
       "1                          15836      15836            15836  \n",
       "4                        1260899    1260899          1260899  \n",
       "7                          22773      22773            22773  \n",
       "12                         31294      31294            31294  \n",
       "16                        182390     182390           182390  \n",
       "20                         40683      40683            40683  \n",
       "\n",
       "[6 rows x 22 columns]"
      ]
     },
     "execution_count": 51,
     "metadata": {},
     "output_type": "execute_result"
    }
   ],
   "source": [
    "df_prodrev.groupby(['department_id']).count()"
   ]
  },
  {
   "cell_type": "markdown",
   "id": "e1e4e02a",
   "metadata": {},
   "source": [
    "##### where:\n",
    "    1 = frozen\n",
    "    4 = produce\n",
    "    7 = beverages\n",
    "    12 = meat seafood\n",
    "    16 = dairy eggs\n",
    "    20 = deli"
   ]
  },
  {
   "cell_type": "markdown",
   "id": "a8639a4e",
   "metadata": {},
   "source": [
    "### check value counts for revenue depts & copy to clipboard"
   ]
  },
  {
   "cell_type": "code",
   "execution_count": 55,
   "id": "f51cb931",
   "metadata": {},
   "outputs": [],
   "source": [
    "deptrev = df_prodrev['department_id'].value_counts()"
   ]
  },
  {
   "cell_type": "code",
   "execution_count": 56,
   "id": "e3a84988",
   "metadata": {},
   "outputs": [],
   "source": [
    "deptrev.to_clipboard()"
   ]
  },
  {
   "cell_type": "markdown",
   "id": "76c5d6a3",
   "metadata": {},
   "source": [
    "### create list containing dept IDs"
   ]
  },
  {
   "cell_type": "code",
   "execution_count": 57,
   "id": "4a70b082",
   "metadata": {},
   "outputs": [],
   "source": [
    "deptrev = [1,4,7,12,16,20]"
   ]
  },
  {
   "cell_type": "markdown",
   "id": "9a0b70d8",
   "metadata": {},
   "source": [
    "## Review popular departments"
   ]
  },
  {
   "cell_type": "markdown",
   "id": "a4d960a7",
   "metadata": {},
   "source": [
    "### compare dept IDs lists"
   ]
  },
  {
   "cell_type": "code",
   "execution_count": 58,
   "id": "0757f7bb",
   "metadata": {},
   "outputs": [
    {
     "data": {
      "text/plain": [
       "[1, 3, 4, 7, 12, 13, 15, 16, 20]"
      ]
     },
     "execution_count": 58,
     "metadata": {},
     "output_type": "execute_result"
    }
   ],
   "source": [
    "deptpop"
   ]
  },
  {
   "cell_type": "code",
   "execution_count": 59,
   "id": "5825d93b",
   "metadata": {},
   "outputs": [
    {
     "data": {
      "text/plain": [
       "[1, 4, 7, 12, 16, 20]"
      ]
     },
     "execution_count": 59,
     "metadata": {},
     "output_type": "execute_result"
    }
   ],
   "source": [
    "deptrev"
   ]
  },
  {
   "cell_type": "markdown",
   "id": "b73424ff",
   "metadata": {},
   "source": [
    "### combine department lists"
   ]
  },
  {
   "cell_type": "code",
   "execution_count": 60,
   "id": "6d6b534c",
   "metadata": {},
   "outputs": [
    {
     "data": {
      "text/plain": [
       "[1, 3, 4, 7, 12, 13, 15, 16, 20]"
      ]
     },
     "execution_count": 60,
     "metadata": {},
     "output_type": "execute_result"
    }
   ],
   "source": [
    "dept_id = deptpop + list(set(deptrev) - set(deptpop))\n",
    "dept_id"
   ]
  },
  {
   "cell_type": "markdown",
   "id": "8dbb22e3",
   "metadata": {},
   "source": [
    "### revised list based on both groups\n",
    "    workings shown in Client Profiling spreadsheet"
   ]
  },
  {
   "cell_type": "code",
   "execution_count": 61,
   "id": "b77075f2",
   "metadata": {},
   "outputs": [
    {
     "data": {
      "text/plain": [
       "[1, 3, 4, 7, 12, 16, 20]"
      ]
     },
     "execution_count": 61,
     "metadata": {},
     "output_type": "execute_result"
    }
   ],
   "source": [
    "keydept = [1,3,4,7,12,16,20]\n",
    "keydept"
   ]
  },
  {
   "cell_type": "markdown",
   "id": "6c9eb1c3",
   "metadata": {},
   "source": [
    "## Assess Key departments"
   ]
  },
  {
   "cell_type": "markdown",
   "id": "cf21c9dd",
   "metadata": {},
   "source": [
    "### set key_dept flag"
   ]
  },
  {
   "cell_type": "code",
   "execution_count": 62,
   "id": "b79290af",
   "metadata": {},
   "outputs": [],
   "source": [
    "df_testing.loc[df_testing['department_id'].isin(keydept), 'key_dept'] = 1"
   ]
  },
  {
   "cell_type": "code",
   "execution_count": 63,
   "id": "178c1ed2",
   "metadata": {},
   "outputs": [],
   "source": [
    "df_testing.loc[~df_testing['department_id'].isin(keydept), 'key_dept'] = 0"
   ]
  },
  {
   "cell_type": "markdown",
   "id": "d2de0c9d",
   "metadata": {},
   "source": [
    "### check key_dept value_counts"
   ]
  },
  {
   "cell_type": "code",
   "execution_count": 65,
   "id": "6ffa9eab",
   "metadata": {},
   "outputs": [
    {
     "data": {
      "text/plain": [
       "1.0    6508106\n",
       "0.0    2760042\n",
       "Name: key_dept, dtype: int64"
      ]
     },
     "execution_count": 65,
     "metadata": {},
     "output_type": "execute_result"
    }
   ],
   "source": [
    "df_testing['key_dept'].value_counts(dropna=False)"
   ]
  },
  {
   "cell_type": "markdown",
   "id": "8d7b273c",
   "metadata": {},
   "source": [
    "### review columns"
   ]
  },
  {
   "cell_type": "code",
   "execution_count": 66,
   "id": "9f33775d",
   "metadata": {},
   "outputs": [
    {
     "data": {
      "text/plain": [
       "order_id                    int64\n",
       "user_id                     int64\n",
       "number_of_orders            int64\n",
       "order_day_of_week           int64\n",
       "order_hour_of_day           int64\n",
       "days_since_prior_order    float64\n",
       "product_id                  int64\n",
       "reordered                   int64\n",
       "product_name               object\n",
       "department_id               int64\n",
       "price                     float64\n",
       "gender                     object\n",
       "state                      object\n",
       "age                         int64\n",
       "n_dependants                int64\n",
       "marital_status             object\n",
       "income                      int64\n",
       "region                     object\n",
       "max_order                   int64\n",
       "prod_price_range           object\n",
       "sum_product_order           int64\n",
       "top_order                 float64\n",
       "product_revenue           float64\n",
       "big_revenue               float64\n",
       "key_dept                  float64\n",
       "dtype: object"
      ]
     },
     "execution_count": 66,
     "metadata": {},
     "output_type": "execute_result"
    }
   ],
   "source": [
    "df_testing.dtypes"
   ]
  },
  {
   "cell_type": "markdown",
   "id": "b5cc0fc7",
   "metadata": {},
   "source": [
    "### export to new pickle file"
   ]
  },
  {
   "cell_type": "code",
   "execution_count": 67,
   "id": "87ed1c31",
   "metadata": {},
   "outputs": [],
   "source": [
    "df_testing.to_pickle(os.path.join(datasetpath,'testing_sample_prod.pkl'))"
   ]
  },
  {
   "cell_type": "code",
   "execution_count": 68,
   "id": "fc8019a4",
   "metadata": {},
   "outputs": [
    {
     "data": {
      "text/plain": [
       "(9268148, 25)"
      ]
     },
     "execution_count": 68,
     "metadata": {},
     "output_type": "execute_result"
    }
   ],
   "source": [
    "df_testing.shape"
   ]
  }
 ],
 "metadata": {
  "kernelspec": {
   "display_name": "Python 3",
   "language": "python",
   "name": "python3"
  },
  "language_info": {
   "codemirror_mode": {
    "name": "ipython",
    "version": 3
   },
   "file_extension": ".py",
   "mimetype": "text/x-python",
   "name": "python",
   "nbconvert_exporter": "python",
   "pygments_lexer": "ipython3",
   "version": "3.8.8"
  }
 },
 "nbformat": 4,
 "nbformat_minor": 5
}
