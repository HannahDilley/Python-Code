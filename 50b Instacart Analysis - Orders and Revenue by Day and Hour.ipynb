{
 "cells": [
  {
   "cell_type": "markdown",
   "id": "137a0d58",
   "metadata": {},
   "source": [
    "## Instacart Analysis - Orders and Revenue by Day of the Week & Hour of the Day\n",
    "1.\tImport libraries, set directory paths & import data\n",
    "2.\tCheck data frame dimensions, columns and datatypes\n",
    "3.\tBusiest days of the week for placing orders.\n",
    "    -\tCheck counts for order_day_of_week\n",
    "    -\tCreate bar chart from value counts\n",
    "    -\tExport to file\n",
    "4.\tBusiest hours of the day for placing orders\n",
    "    -\tDisplay values counts\n",
    "    -\tCreate bar chart\n",
    "    -\tExport bar chart\n",
    "5.\tBar chart observations\n",
    "6.\tAverage spend per day\n",
    "    -\tCalculate average spend per day\n",
    "    -\tCreate subset for line graph plotting\n",
    "    -\tSave to file\n",
    "7.\tAverage spend per hour\n",
    "    -\tCalculate average spend per hour\n",
    "    -\tCreate subset for line graph plotting\n",
    "    -\tExport to file\n",
    "8.\tAverage spending observations\n",
    "9.\tTotal revenue per day\n",
    "    -\tCalculate total revenue generate each day\n",
    "    -\tLine graph subset\n",
    "    -\tExport graph to file\n",
    "10.\tTotal revenue per hour\n",
    "    -\tCalculate total revenue generate each hour\n",
    "    -\tLine graph subset\n",
    "    -\tExport graph to file\n",
    "11.\tTotal revenue observations\n"
   ]
  },
  {
   "cell_type": "markdown",
   "id": "dfb595f1",
   "metadata": {},
   "source": [
    "### import usual libraries plus visualisation tools"
   ]
  },
  {
   "cell_type": "code",
   "execution_count": 1,
   "id": "dca40f1a",
   "metadata": {},
   "outputs": [],
   "source": [
    "import pandas as pd\n",
    "import numpy as np\n",
    "import os\n",
    "import matplotlib.pyplot as plt\n",
    "import seaborn as sns\n",
    "import scipy"
   ]
  },
  {
   "cell_type": "markdown",
   "id": "3052e3e9",
   "metadata": {},
   "source": [
    "### set data set directory path"
   ]
  },
  {
   "cell_type": "code",
   "execution_count": 2,
   "id": "e6e7142f",
   "metadata": {},
   "outputs": [
    {
     "data": {
      "text/plain": [
       "'D:\\\\My Documents\\\\! Omnicompetent Ltd\\\\Courses\\\\Career Foundry - Data Analytics\\\\Data Analytics Course\\\\Instacart Basket Analysis\\\\02 Data Sets'"
      ]
     },
     "execution_count": 2,
     "metadata": {},
     "output_type": "execute_result"
    }
   ],
   "source": [
    "datasetpath = r'D:\\My Documents\\! Omnicompetent Ltd\\Courses\\Career Foundry - Data Analytics\\Data Analytics Course\\Instacart Basket Analysis\\02 Data Sets'\n",
    "datasetpath"
   ]
  },
  {
   "cell_type": "markdown",
   "id": "5dc5a059",
   "metadata": {},
   "source": [
    "### set visualisation directory path"
   ]
  },
  {
   "cell_type": "code",
   "execution_count": 3,
   "id": "8e9f0100",
   "metadata": {},
   "outputs": [
    {
     "data": {
      "text/plain": [
       "'D:\\\\My Documents\\\\! Omnicompetent Ltd\\\\Courses\\\\Career Foundry - Data Analytics\\\\Data Analytics Course\\\\Instacart Basket Analysis\\\\04 Analysis'"
      ]
     },
     "execution_count": 3,
     "metadata": {},
     "output_type": "execute_result"
    }
   ],
   "source": [
    "vizpath = r'D:\\My Documents\\! Omnicompetent Ltd\\Courses\\Career Foundry - Data Analytics\\Data Analytics Course\\Instacart Basket Analysis\\04 Analysis'\n",
    "vizpath"
   ]
  },
  {
   "cell_type": "markdown",
   "id": "74b3fa37",
   "metadata": {},
   "source": [
    "### import revised data set (orders>5)"
   ]
  },
  {
   "cell_type": "code",
   "execution_count": 4,
   "id": "d63bf0b0",
   "metadata": {},
   "outputs": [
    {
     "data": {
      "text/html": [
       "<div>\n",
       "<style scoped>\n",
       "    .dataframe tbody tr th:only-of-type {\n",
       "        vertical-align: middle;\n",
       "    }\n",
       "\n",
       "    .dataframe tbody tr th {\n",
       "        vertical-align: top;\n",
       "    }\n",
       "\n",
       "    .dataframe thead th {\n",
       "        text-align: right;\n",
       "    }\n",
       "</style>\n",
       "<table border=\"1\" class=\"dataframe\">\n",
       "  <thead>\n",
       "    <tr style=\"text-align: right;\">\n",
       "      <th></th>\n",
       "      <th>order_id</th>\n",
       "      <th>user_id</th>\n",
       "      <th>number_of_orders</th>\n",
       "      <th>order_day_of_week</th>\n",
       "      <th>order_hour_of_day</th>\n",
       "      <th>days_since_prior_order</th>\n",
       "      <th>product_id</th>\n",
       "      <th>reordered</th>\n",
       "      <th>product_name</th>\n",
       "      <th>department_id</th>\n",
       "      <th>price</th>\n",
       "      <th>gender</th>\n",
       "      <th>state</th>\n",
       "      <th>age</th>\n",
       "      <th>n_dependants</th>\n",
       "      <th>marital_status</th>\n",
       "      <th>income</th>\n",
       "      <th>region</th>\n",
       "      <th>max_order</th>\n",
       "    </tr>\n",
       "  </thead>\n",
       "  <tbody>\n",
       "    <tr>\n",
       "      <th>0</th>\n",
       "      <td>2539329</td>\n",
       "      <td>1</td>\n",
       "      <td>1</td>\n",
       "      <td>2</td>\n",
       "      <td>8</td>\n",
       "      <td>0.0</td>\n",
       "      <td>196</td>\n",
       "      <td>0</td>\n",
       "      <td>Soda</td>\n",
       "      <td>7</td>\n",
       "      <td>9.0</td>\n",
       "      <td>Female</td>\n",
       "      <td>Alabama</td>\n",
       "      <td>31</td>\n",
       "      <td>3</td>\n",
       "      <td>married</td>\n",
       "      <td>40423</td>\n",
       "      <td>South</td>\n",
       "      <td>10</td>\n",
       "    </tr>\n",
       "    <tr>\n",
       "      <th>1</th>\n",
       "      <td>473747</td>\n",
       "      <td>1</td>\n",
       "      <td>3</td>\n",
       "      <td>3</td>\n",
       "      <td>12</td>\n",
       "      <td>21.0</td>\n",
       "      <td>196</td>\n",
       "      <td>1</td>\n",
       "      <td>Soda</td>\n",
       "      <td>7</td>\n",
       "      <td>9.0</td>\n",
       "      <td>Female</td>\n",
       "      <td>Alabama</td>\n",
       "      <td>31</td>\n",
       "      <td>3</td>\n",
       "      <td>married</td>\n",
       "      <td>40423</td>\n",
       "      <td>South</td>\n",
       "      <td>10</td>\n",
       "    </tr>\n",
       "    <tr>\n",
       "      <th>2</th>\n",
       "      <td>2254736</td>\n",
       "      <td>1</td>\n",
       "      <td>4</td>\n",
       "      <td>4</td>\n",
       "      <td>7</td>\n",
       "      <td>29.0</td>\n",
       "      <td>196</td>\n",
       "      <td>1</td>\n",
       "      <td>Soda</td>\n",
       "      <td>7</td>\n",
       "      <td>9.0</td>\n",
       "      <td>Female</td>\n",
       "      <td>Alabama</td>\n",
       "      <td>31</td>\n",
       "      <td>3</td>\n",
       "      <td>married</td>\n",
       "      <td>40423</td>\n",
       "      <td>South</td>\n",
       "      <td>10</td>\n",
       "    </tr>\n",
       "    <tr>\n",
       "      <th>3</th>\n",
       "      <td>550135</td>\n",
       "      <td>1</td>\n",
       "      <td>7</td>\n",
       "      <td>1</td>\n",
       "      <td>9</td>\n",
       "      <td>20.0</td>\n",
       "      <td>196</td>\n",
       "      <td>1</td>\n",
       "      <td>Soda</td>\n",
       "      <td>7</td>\n",
       "      <td>9.0</td>\n",
       "      <td>Female</td>\n",
       "      <td>Alabama</td>\n",
       "      <td>31</td>\n",
       "      <td>3</td>\n",
       "      <td>married</td>\n",
       "      <td>40423</td>\n",
       "      <td>South</td>\n",
       "      <td>10</td>\n",
       "    </tr>\n",
       "    <tr>\n",
       "      <th>4</th>\n",
       "      <td>2539329</td>\n",
       "      <td>1</td>\n",
       "      <td>1</td>\n",
       "      <td>2</td>\n",
       "      <td>8</td>\n",
       "      <td>0.0</td>\n",
       "      <td>14084</td>\n",
       "      <td>0</td>\n",
       "      <td>Organic Unsweetened Vanilla Almond Milk</td>\n",
       "      <td>16</td>\n",
       "      <td>12.5</td>\n",
       "      <td>Female</td>\n",
       "      <td>Alabama</td>\n",
       "      <td>31</td>\n",
       "      <td>3</td>\n",
       "      <td>married</td>\n",
       "      <td>40423</td>\n",
       "      <td>South</td>\n",
       "      <td>10</td>\n",
       "    </tr>\n",
       "  </tbody>\n",
       "</table>\n",
       "</div>"
      ],
      "text/plain": [
       "   order_id  user_id  number_of_orders  order_day_of_week  order_hour_of_day  \\\n",
       "0   2539329        1                 1                  2                  8   \n",
       "1    473747        1                 3                  3                 12   \n",
       "2   2254736        1                 4                  4                  7   \n",
       "3    550135        1                 7                  1                  9   \n",
       "4   2539329        1                 1                  2                  8   \n",
       "\n",
       "   days_since_prior_order  product_id  reordered  \\\n",
       "0                     0.0         196          0   \n",
       "1                    21.0         196          1   \n",
       "2                    29.0         196          1   \n",
       "3                    20.0         196          1   \n",
       "4                     0.0       14084          0   \n",
       "\n",
       "                              product_name  department_id  price  gender  \\\n",
       "0                                     Soda              7    9.0  Female   \n",
       "1                                     Soda              7    9.0  Female   \n",
       "2                                     Soda              7    9.0  Female   \n",
       "3                                     Soda              7    9.0  Female   \n",
       "4  Organic Unsweetened Vanilla Almond Milk             16   12.5  Female   \n",
       "\n",
       "     state  age  n_dependants marital_status  income region  max_order  \n",
       "0  Alabama   31             3        married   40423  South         10  \n",
       "1  Alabama   31             3        married   40423  South         10  \n",
       "2  Alabama   31             3        married   40423  South         10  \n",
       "3  Alabama   31             3        married   40423  South         10  \n",
       "4  Alabama   31             3        married   40423  South         10  "
      ]
     },
     "execution_count": 4,
     "metadata": {},
     "output_type": "execute_result"
    }
   ],
   "source": [
    "df_testing = pd.read_pickle(os.path.join(datasetpath,'testing_sample_keep.pkl'))\n",
    "df_testing.head()"
   ]
  },
  {
   "cell_type": "markdown",
   "id": "552ea33f",
   "metadata": {},
   "source": [
    "### review dimensions, columns & datatypes"
   ]
  },
  {
   "cell_type": "code",
   "execution_count": 5,
   "id": "4c6ac560",
   "metadata": {},
   "outputs": [
    {
     "data": {
      "text/plain": [
       "(9268148, 19)"
      ]
     },
     "execution_count": 5,
     "metadata": {},
     "output_type": "execute_result"
    }
   ],
   "source": [
    "df_testing.shape"
   ]
  },
  {
   "cell_type": "code",
   "execution_count": 6,
   "id": "e4b6c84c",
   "metadata": {},
   "outputs": [
    {
     "data": {
      "text/plain": [
       "order_id                    int64\n",
       "user_id                     int64\n",
       "number_of_orders            int64\n",
       "order_day_of_week           int64\n",
       "order_hour_of_day           int64\n",
       "days_since_prior_order    float64\n",
       "product_id                  int64\n",
       "reordered                   int64\n",
       "product_name               object\n",
       "department_id               int64\n",
       "price                     float64\n",
       "gender                     object\n",
       "state                      object\n",
       "age                         int64\n",
       "n_dependants                int64\n",
       "marital_status             object\n",
       "income                      int64\n",
       "region                     object\n",
       "max_order                   int64\n",
       "dtype: object"
      ]
     },
     "execution_count": 6,
     "metadata": {},
     "output_type": "execute_result"
    }
   ],
   "source": [
    "df_testing.dtypes"
   ]
  },
  {
   "cell_type": "markdown",
   "id": "bce3d153",
   "metadata": {},
   "source": [
    "## Busiest days of the week for placing orders"
   ]
  },
  {
   "cell_type": "markdown",
   "id": "4e156d5b",
   "metadata": {},
   "source": [
    "### check value_counts() for 'order_day_of_week'\n",
    "    where 0=Sat, 1=Sun, =Mon, 3=Tue, 4=Wed, 5=Thu, 6=Fri"
   ]
  },
  {
   "cell_type": "code",
   "execution_count": 6,
   "id": "5d1100a8",
   "metadata": {},
   "outputs": [
    {
     "data": {
      "text/plain": [
       "0    1769695\n",
       "1    1618926\n",
       "2    1204274\n",
       "3    1098292\n",
       "4    1084895\n",
       "5    1207340\n",
       "6    1284726\n",
       "Name: order_day_of_week, dtype: int64"
      ]
     },
     "execution_count": 6,
     "metadata": {},
     "output_type": "execute_result"
    }
   ],
   "source": [
    "df_testing['order_day_of_week'].value_counts(dropna=False).sort_index()"
   ]
  },
  {
   "cell_type": "markdown",
   "id": "6a4ecf36",
   "metadata": {},
   "source": [
    "### display as bar chart"
   ]
  },
  {
   "cell_type": "code",
   "execution_count": 25,
   "id": "b3217efd",
   "metadata": {},
   "outputs": [
    {
     "data": {
      "text/plain": [
       "Text(0, 0.5, 'Number of Orders in Millions')"
      ]
     },
     "execution_count": 25,
     "metadata": {},
     "output_type": "execute_result"
    },
    {
     "data": {
      "image/png": "[encoded data removed]",
      "text/plain": [
       "<Figure size 432x288 with 1 Axes>"
      ]
     },
     "metadata": {
      "needs_background": "light"
     },
     "output_type": "display_data"
    }
   ],
   "source": [
    "bar_busyday = df_testing['order_day_of_week'].value_counts().sort_index().plot.bar(color=['red','orange','yellow','green','blue','indigo','violet'])\n",
    "\n",
    "plt.title('A Bar Chart to show Popular Days of the Week for Placing Orders')\n",
    "plt.xlabel('Day of Week')\n",
    "plt.ylabel('Number of Orders in Millions')"
   ]
  },
  {
   "cell_type": "markdown",
   "id": "9e549638",
   "metadata": {},
   "source": [
    "#### The weekend is the most popular time for placing orders (day 0=Sat, day1=Sun).  \n",
    "#### The quietest times are day 3=Tue and day 4=Wed ."
   ]
  },
  {
   "cell_type": "markdown",
   "id": "e8c5e41a",
   "metadata": {},
   "source": [
    "### export visualisation to png"
   ]
  },
  {
   "cell_type": "code",
   "execution_count": 15,
   "id": "ca4dec64",
   "metadata": {},
   "outputs": [],
   "source": [
    "bar_busyday.figure.savefig(os.path.join(vizpath,'01 Bar Chart to show Popular Days of the Week for Placing Orders.png'))"
   ]
  },
  {
   "cell_type": "markdown",
   "id": "b76ea6ff",
   "metadata": {},
   "source": [
    "## Busiest hours in the day for orders"
   ]
  },
  {
   "cell_type": "markdown",
   "id": "f85e261a",
   "metadata": {},
   "source": [
    "### show value_counts for hours of order"
   ]
  },
  {
   "cell_type": "code",
   "execution_count": 9,
   "id": "366301d8",
   "metadata": {},
   "outputs": [
    {
     "data": {
      "text/plain": [
       "0      62299\n",
       "1      32856\n",
       "2      19626\n",
       "3      14396\n",
       "4      15178\n",
       "5      25230\n",
       "6      84486\n",
       "7     257931\n",
       "8     495329\n",
       "9     707510\n",
       "10    793681\n",
       "11    781696\n",
       "12    747496\n",
       "13    760664\n",
       "14    768534\n",
       "15    760212\n",
       "16    723418\n",
       "17    593527\n",
       "18    464027\n",
       "19    357021\n",
       "20    277853\n",
       "21    228676\n",
       "22    181210\n",
       "23    115292\n",
       "Name: order_hour_of_day, dtype: int64"
      ]
     },
     "execution_count": 9,
     "metadata": {},
     "output_type": "execute_result"
    }
   ],
   "source": [
    "df_testing['order_hour_of_day'].value_counts().sort_index()"
   ]
  },
  {
   "cell_type": "markdown",
   "id": "d2d1c7a7",
   "metadata": {},
   "source": [
    "### display as bar chart"
   ]
  },
  {
   "cell_type": "code",
   "execution_count": 32,
   "id": "143e4765",
   "metadata": {},
   "outputs": [
    {
     "data": {
      "image/png": "[encoded data removed]",
      "text/plain": [
       "<Figure size 432x288 with 1 Axes>"
      ]
     },
     "metadata": {
      "needs_background": "light"
     },
     "output_type": "display_data"
    }
   ],
   "source": [
    "bar_busyhour = df_testing['order_hour_of_day'].value_counts().sort_index().plot.bar()\n",
    "\n",
    "plt.title('A Bar Chart to show Popular Hours of the Day for Placing Orders')\n",
    "plt.xlabel('Hour of Day')\n",
    "plt.ylabel('Number of Orders')\n",
    "plt.tight_layout()"
   ]
  },
  {
   "cell_type": "markdown",
   "id": "46749e58",
   "metadata": {},
   "source": [
    "#### The majority of orders are placed between 9am and 5pm.  This follows the traditional pattern of shopping via a physical store.\n",
    "#### One immediate suggestion is to generate sales is to provide offers during the early morning hours to encourage 'Early Bird' shopping."
   ]
  },
  {
   "cell_type": "markdown",
   "id": "6ba362a5",
   "metadata": {},
   "source": [
    "### export to png"
   ]
  },
  {
   "cell_type": "code",
   "execution_count": 33,
   "id": "c0ea6faf",
   "metadata": {},
   "outputs": [],
   "source": [
    "bar_busyhour.figure.savefig(os.path.join(vizpath,'02 Bar Chart to show Popular Hours of the Day for Placing Orders.png'))"
   ]
  },
  {
   "cell_type": "markdown",
   "id": "1dd10352",
   "metadata": {},
   "source": [
    "## Average spend per day"
   ]
  },
  {
   "cell_type": "markdown",
   "id": "f9a72747",
   "metadata": {},
   "source": [
    "### calculate avg spend per day"
   ]
  },
  {
   "cell_type": "code",
   "execution_count": 34,
   "id": "be025f37",
   "metadata": {},
   "outputs": [],
   "source": [
    "df_testing['avg_spend_per_day'] = df_testing.groupby(['order_day_of_week']) ['price'].transform(np.mean)"
   ]
  },
  {
   "cell_type": "code",
   "execution_count": 35,
   "id": "e60fab00",
   "metadata": {},
   "outputs": [
    {
     "data": {
      "text/plain": [
       "count    9.268148e+06\n",
       "mean     7.789125e+00\n",
       "std      4.568872e-02\n",
       "min      7.750537e+00\n",
       "25%      7.755743e+00\n",
       "50%      7.760318e+00\n",
       "75%      7.853101e+00\n",
       "max      7.855571e+00\n",
       "Name: avg_spend_per_day, dtype: float64"
      ]
     },
     "execution_count": 35,
     "metadata": {},
     "output_type": "execute_result"
    }
   ],
   "source": [
    "df_testing['avg_spend_per_day'].describe()"
   ]
  },
  {
   "cell_type": "markdown",
   "id": "7507fb5c",
   "metadata": {},
   "source": [
    "### create sub set for line graph data"
   ]
  },
  {
   "cell_type": "code",
   "execution_count": 37,
   "id": "ab7a95e4",
   "metadata": {},
   "outputs": [],
   "source": [
    "df_lineavgday = df_testing[['order_day_of_week','avg_spend_per_day']]"
   ]
  },
  {
   "cell_type": "code",
   "execution_count": 38,
   "id": "cb87f557",
   "metadata": {},
   "outputs": [
    {
     "data": {
      "text/plain": [
       "Text(0, 0.5, 'Average Spend in $')"
      ]
     },
     "execution_count": 38,
     "metadata": {},
     "output_type": "execute_result"
    },
    {
     "data": {
      "image/png": "[encoded data removed]",
      "text/plain": [
       "<Figure size 432x288 with 1 Axes>"
      ]
     },
     "metadata": {
      "needs_background": "light"
     },
     "output_type": "display_data"
    }
   ],
   "source": [
    "line_avgday = sns.lineplot(data=df_lineavgday, x='order_day_of_week', y='avg_spend_per_day')\n",
    "\n",
    "plt.title('A Line Graph to show the Average Spend per Day')\n",
    "plt.xlabel('Day of the Week')\n",
    "plt.ylabel('Average Spend in $')"
   ]
  },
  {
   "cell_type": "markdown",
   "id": "1bc3a77e",
   "metadata": {},
   "source": [
    "### export viz"
   ]
  },
  {
   "cell_type": "code",
   "execution_count": 39,
   "id": "f6ea52b5",
   "metadata": {},
   "outputs": [],
   "source": [
    "line_avgday.figure.savefig(os.path.join(vizpath,'03 Line Graph to Show Average Spending each Day.png'))"
   ]
  },
  {
   "cell_type": "markdown",
   "id": "1212a043",
   "metadata": {},
   "source": [
    "## Average spending per hour"
   ]
  },
  {
   "cell_type": "markdown",
   "id": "ddcaf9b4",
   "metadata": {},
   "source": [
    "### calculate average spend per hour"
   ]
  },
  {
   "cell_type": "code",
   "execution_count": 40,
   "id": "ae057902",
   "metadata": {},
   "outputs": [],
   "source": [
    "df_testing['avg_spend_per_hour'] = df_testing.groupby(['order_hour_of_day']) ['price'].transform(np.mean)"
   ]
  },
  {
   "cell_type": "code",
   "execution_count": 41,
   "id": "8debcd9b",
   "metadata": {},
   "outputs": [
    {
     "data": {
      "text/plain": [
       "count    9.268148e+06\n",
       "mean     7.789125e+00\n",
       "std      2.303021e-02\n",
       "min      7.746199e+00\n",
       "25%      7.787913e+00\n",
       "50%      7.796109e+00\n",
       "75%      7.803490e+00\n",
       "max      7.858087e+00\n",
       "Name: avg_spend_per_hour, dtype: float64"
      ]
     },
     "execution_count": 41,
     "metadata": {},
     "output_type": "execute_result"
    }
   ],
   "source": [
    "df_testing['avg_spend_per_hour'].describe()"
   ]
  },
  {
   "cell_type": "markdown",
   "id": "7d1e588f",
   "metadata": {},
   "source": [
    "### create line subset for linegraph data"
   ]
  },
  {
   "cell_type": "code",
   "execution_count": 42,
   "id": "e87fe95c",
   "metadata": {},
   "outputs": [],
   "source": [
    "df_lineavghour = df_testing[['order_hour_of_day','avg_spend_per_hour']]"
   ]
  },
  {
   "cell_type": "code",
   "execution_count": 43,
   "id": "23007bbd",
   "metadata": {},
   "outputs": [
    {
     "data": {
      "text/html": [
       "<div>\n",
       "<style scoped>\n",
       "    .dataframe tbody tr th:only-of-type {\n",
       "        vertical-align: middle;\n",
       "    }\n",
       "\n",
       "    .dataframe tbody tr th {\n",
       "        vertical-align: top;\n",
       "    }\n",
       "\n",
       "    .dataframe thead th {\n",
       "        text-align: right;\n",
       "    }\n",
       "</style>\n",
       "<table border=\"1\" class=\"dataframe\">\n",
       "  <thead>\n",
       "    <tr style=\"text-align: right;\">\n",
       "      <th></th>\n",
       "      <th>order_hour_of_day</th>\n",
       "      <th>avg_spend_per_hour</th>\n",
       "    </tr>\n",
       "  </thead>\n",
       "  <tbody>\n",
       "    <tr>\n",
       "      <th>0</th>\n",
       "      <td>8</td>\n",
       "      <td>7.798752</td>\n",
       "    </tr>\n",
       "    <tr>\n",
       "      <th>1</th>\n",
       "      <td>12</td>\n",
       "      <td>7.796109</td>\n",
       "    </tr>\n",
       "    <tr>\n",
       "      <th>2</th>\n",
       "      <td>7</td>\n",
       "      <td>7.824858</td>\n",
       "    </tr>\n",
       "    <tr>\n",
       "      <th>3</th>\n",
       "      <td>9</td>\n",
       "      <td>7.750549</td>\n",
       "    </tr>\n",
       "    <tr>\n",
       "      <th>4</th>\n",
       "      <td>8</td>\n",
       "      <td>7.798752</td>\n",
       "    </tr>\n",
       "  </tbody>\n",
       "</table>\n",
       "</div>"
      ],
      "text/plain": [
       "   order_hour_of_day  avg_spend_per_hour\n",
       "0                  8            7.798752\n",
       "1                 12            7.796109\n",
       "2                  7            7.824858\n",
       "3                  9            7.750549\n",
       "4                  8            7.798752"
      ]
     },
     "execution_count": 43,
     "metadata": {},
     "output_type": "execute_result"
    }
   ],
   "source": [
    "df_lineavghour.head()"
   ]
  },
  {
   "cell_type": "code",
   "execution_count": 44,
   "id": "cbfeaa6b",
   "metadata": {},
   "outputs": [
    {
     "data": {
      "image/png": "[encoded data removed]",
      "text/plain": [
       "<Figure size 432x288 with 1 Axes>"
      ]
     },
     "metadata": {
      "needs_background": "light"
     },
     "output_type": "display_data"
    }
   ],
   "source": [
    "line_avghour = sns.lineplot(data=df_lineavghour, x='order_hour_of_day', y='avg_spend_per_hour')\n",
    "\n",
    "plt.title('A Line Graph to show the Average Spend each Hour of the Day')\n",
    "plt.xlabel('Hour of the Day')\n",
    "plt.ylabel('Average Spend in $')\n",
    "plt.grid(True, linestyle='--')"
   ]
  },
  {
   "cell_type": "markdown",
   "id": "e024f3e3",
   "metadata": {},
   "source": [
    "### exportviz"
   ]
  },
  {
   "cell_type": "code",
   "execution_count": 45,
   "id": "a7c20c82",
   "metadata": {},
   "outputs": [],
   "source": [
    "line_avghour.figure.savefig(os.path.join(vizpath,'04 Line Graph to Show Average Spend each Hour of the Day.png'))"
   ]
  },
  {
   "cell_type": "markdown",
   "id": "9eb50dc3",
   "metadata": {},
   "source": [
    "#### The average spending by the day and hour does not have a massive range (<0.5USD between higher and lower limits), infact, this could have been concluded without the need for a graph and by looking at the descriptive statistice for average spending."
   ]
  },
  {
   "cell_type": "markdown",
   "id": "d6f7c160",
   "metadata": {},
   "source": [
    "## Total revenue per day"
   ]
  },
  {
   "cell_type": "markdown",
   "id": "9c3ec0d5",
   "metadata": {},
   "source": [
    "### calculate total revenue generate each day"
   ]
  },
  {
   "cell_type": "code",
   "execution_count": 27,
   "id": "eee567bc",
   "metadata": {},
   "outputs": [],
   "source": [
    "df_testing['total_spend_per_day'] = df_testing.groupby(['order_day_of_week']) ['price'].transform(np.sum)"
   ]
  },
  {
   "cell_type": "markdown",
   "id": "5c71d1ed",
   "metadata": {},
   "source": [
    "### linegraph subset"
   ]
  },
  {
   "cell_type": "code",
   "execution_count": 28,
   "id": "fc4f69a3",
   "metadata": {},
   "outputs": [],
   "source": [
    "df_linetotalday = df_testing[['order_day_of_week','total_spend_per_day']]"
   ]
  },
  {
   "cell_type": "code",
   "execution_count": 29,
   "id": "da80bd74",
   "metadata": {},
   "outputs": [
    {
     "data": {
      "text/html": [
       "<div>\n",
       "<style scoped>\n",
       "    .dataframe tbody tr th:only-of-type {\n",
       "        vertical-align: middle;\n",
       "    }\n",
       "\n",
       "    .dataframe tbody tr th {\n",
       "        vertical-align: top;\n",
       "    }\n",
       "\n",
       "    .dataframe thead th {\n",
       "        text-align: right;\n",
       "    }\n",
       "</style>\n",
       "<table border=\"1\" class=\"dataframe\">\n",
       "  <thead>\n",
       "    <tr style=\"text-align: right;\">\n",
       "      <th></th>\n",
       "      <th>order_day_of_week</th>\n",
       "      <th>total_spend_per_day</th>\n",
       "    </tr>\n",
       "  </thead>\n",
       "  <tbody>\n",
       "    <tr>\n",
       "      <th>0</th>\n",
       "      <td>2</td>\n",
       "      <td>9.343826e+06</td>\n",
       "    </tr>\n",
       "    <tr>\n",
       "      <th>1</th>\n",
       "      <td>3</td>\n",
       "      <td>8.522967e+06</td>\n",
       "    </tr>\n",
       "    <tr>\n",
       "      <th>2</th>\n",
       "      <td>4</td>\n",
       "      <td>8.407240e+06</td>\n",
       "    </tr>\n",
       "    <tr>\n",
       "      <th>3</th>\n",
       "      <td>1</td>\n",
       "      <td>1.255403e+07</td>\n",
       "    </tr>\n",
       "    <tr>\n",
       "      <th>4</th>\n",
       "      <td>2</td>\n",
       "      <td>9.343826e+06</td>\n",
       "    </tr>\n",
       "  </tbody>\n",
       "</table>\n",
       "</div>"
      ],
      "text/plain": [
       "   order_day_of_week  total_spend_per_day\n",
       "0                  2         9.343826e+06\n",
       "1                  3         8.522967e+06\n",
       "2                  4         8.407240e+06\n",
       "3                  1         1.255403e+07\n",
       "4                  2         9.343826e+06"
      ]
     },
     "execution_count": 29,
     "metadata": {},
     "output_type": "execute_result"
    }
   ],
   "source": [
    "df_linetotalday.head()"
   ]
  },
  {
   "cell_type": "code",
   "execution_count": 30,
   "id": "b7ea2f2d",
   "metadata": {},
   "outputs": [
    {
     "data": {
      "text/plain": [
       "Text(0, 0.5, 'Total Revenue in $')"
      ]
     },
     "execution_count": 30,
     "metadata": {},
     "output_type": "execute_result"
    },
    {
     "data": {
      "image/png": "[encoded data removed]",
      "text/plain": [
       "<Figure size 432x288 with 1 Axes>"
      ]
     },
     "metadata": {
      "needs_background": "light"
     },
     "output_type": "display_data"
    }
   ],
   "source": [
    "line_totalday = sns.lineplot(data=df_linetotalday, x='order_day_of_week', y='total_spend_per_day')\n",
    "\n",
    "plt.title('A Graph to show Total Revenue per Day')\n",
    "plt.xlabel('Day of the Week')\n",
    "plt.ylabel('Total Revenue in $')"
   ]
  },
  {
   "cell_type": "markdown",
   "id": "37b58f45",
   "metadata": {},
   "source": [
    "### export viz"
   ]
  },
  {
   "cell_type": "code",
   "execution_count": 31,
   "id": "806cac43",
   "metadata": {},
   "outputs": [],
   "source": [
    "line_totalday.figure.savefig(os.path.join(vizpath,'Line Graph to Show Total Revenue per Day.png'))"
   ]
  },
  {
   "cell_type": "markdown",
   "id": "98808ccb",
   "metadata": {},
   "source": [
    "## Total revenue per hour"
   ]
  },
  {
   "cell_type": "markdown",
   "id": "8d693a92",
   "metadata": {},
   "source": [
    "### calculate total revenue generate each hour"
   ]
  },
  {
   "cell_type": "code",
   "execution_count": 32,
   "id": "aeb03159",
   "metadata": {},
   "outputs": [],
   "source": [
    "df_testing['total_spend_per_hour'] = df_testing.groupby(['order_hour_of_day']) ['price'].transform(np.sum)"
   ]
  },
  {
   "cell_type": "markdown",
   "id": "14f48a41",
   "metadata": {},
   "source": [
    "### linegraph subset"
   ]
  },
  {
   "cell_type": "code",
   "execution_count": 33,
   "id": "b75059ec",
   "metadata": {},
   "outputs": [],
   "source": [
    "df_linetotalhour = df_testing[['order_hour_of_day','total_spend_per_hour']]"
   ]
  },
  {
   "cell_type": "code",
   "execution_count": 34,
   "id": "9fbb002b",
   "metadata": {},
   "outputs": [
    {
     "data": {
      "text/html": [
       "<div>\n",
       "<style scoped>\n",
       "    .dataframe tbody tr th:only-of-type {\n",
       "        vertical-align: middle;\n",
       "    }\n",
       "\n",
       "    .dataframe tbody tr th {\n",
       "        vertical-align: top;\n",
       "    }\n",
       "\n",
       "    .dataframe thead th {\n",
       "        text-align: right;\n",
       "    }\n",
       "</style>\n",
       "<table border=\"1\" class=\"dataframe\">\n",
       "  <thead>\n",
       "    <tr style=\"text-align: right;\">\n",
       "      <th></th>\n",
       "      <th>order_hour_of_day</th>\n",
       "      <th>total_spend_per_hour</th>\n",
       "    </tr>\n",
       "  </thead>\n",
       "  <tbody>\n",
       "    <tr>\n",
       "      <th>0</th>\n",
       "      <td>8</td>\n",
       "      <td>3.862347e+06</td>\n",
       "    </tr>\n",
       "    <tr>\n",
       "      <th>1</th>\n",
       "      <td>12</td>\n",
       "      <td>5.826672e+06</td>\n",
       "    </tr>\n",
       "    <tr>\n",
       "      <th>2</th>\n",
       "      <td>7</td>\n",
       "      <td>2.017992e+06</td>\n",
       "    </tr>\n",
       "    <tr>\n",
       "      <th>3</th>\n",
       "      <td>9</td>\n",
       "      <td>5.482863e+06</td>\n",
       "    </tr>\n",
       "    <tr>\n",
       "      <th>4</th>\n",
       "      <td>8</td>\n",
       "      <td>3.862347e+06</td>\n",
       "    </tr>\n",
       "  </tbody>\n",
       "</table>\n",
       "</div>"
      ],
      "text/plain": [
       "   order_hour_of_day  total_spend_per_hour\n",
       "0                  8          3.862347e+06\n",
       "1                 12          5.826672e+06\n",
       "2                  7          2.017992e+06\n",
       "3                  9          5.482863e+06\n",
       "4                  8          3.862347e+06"
      ]
     },
     "execution_count": 34,
     "metadata": {},
     "output_type": "execute_result"
    }
   ],
   "source": [
    "df_linetotalhour.head()"
   ]
  },
  {
   "cell_type": "code",
   "execution_count": 35,
   "id": "fb47ef6b",
   "metadata": {},
   "outputs": [
    {
     "data": {
      "text/plain": [
       "Text(0, 0.5, 'Total Revenue Spend in $')"
      ]
     },
     "execution_count": 35,
     "metadata": {},
     "output_type": "execute_result"
    },
    {
     "data": {
      "image/png": "[encoded data removed]",
      "text/plain": [
       "<Figure size 432x288 with 1 Axes>"
      ]
     },
     "metadata": {
      "needs_background": "light"
     },
     "output_type": "display_data"
    }
   ],
   "source": [
    "line_totalhour = sns.lineplot(data=df_linetotalhour, x='order_hour_of_day', y='total_spend_per_hour')\n",
    "\n",
    "plt.title('A Graph to show the Total Spend per Day')\n",
    "plt.xlabel('Day of the Week')\n",
    "plt.ylabel('Total Revenue Spend in $')"
   ]
  },
  {
   "cell_type": "markdown",
   "id": "acca92a1",
   "metadata": {},
   "source": [
    "### export viz"
   ]
  },
  {
   "cell_type": "code",
   "execution_count": 36,
   "id": "13d0cccb",
   "metadata": {},
   "outputs": [],
   "source": [
    "line_totalhour.figure.savefig(os.path.join(vizpath,'Line Graph to Show Total Revenue each Hour of the Day.png'))"
   ]
  },
  {
   "cell_type": "markdown",
   "id": "b85abde4",
   "metadata": {},
   "source": [
    "#### The total revenue geneate on a per day or per hour basis, follows the same pattern as the freqenecy of orders placed, and does not highlight anything unusual."
   ]
  }
 ],
 "metadata": {
  "kernelspec": {
   "display_name": "Python 3",
   "language": "python",
   "name": "python3"
  },
  "language_info": {
   "codemirror_mode": {
    "name": "ipython",
    "version": 3
   },
   "file_extension": ".py",
   "mimetype": "text/x-python",
   "name": "python",
   "nbconvert_exporter": "python",
   "pygments_lexer": "ipython3",
   "version": "3.8.8"
  }
 },
 "nbformat": 4,
 "nbformat_minor": 5
}
